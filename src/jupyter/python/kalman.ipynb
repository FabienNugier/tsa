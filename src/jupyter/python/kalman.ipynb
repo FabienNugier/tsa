{
 "cells": [
  {
   "cell_type": "markdown",
   "metadata": {},
   "source": [
    "# Kalman filtering\n",
    "\n",
    "## Introduction\n",
    "\n",
    "Much thought has been given to the interfaces of the Kalman filter and related classes in thalesians.tsa. These interfaces and the underlying implementations incorporate many suggestions by Martin Zinkin.\n",
    "\n",
    "Before we proceed, we import some Python modules:"
   ]
  },
  {
   "cell_type": "code",
   "execution_count": 1,
   "metadata": {},
   "outputs": [],
   "source": [
    "import os, sys\n",
    "sys.path.append(os.path.abspath('../../main/python'))\n",
    "\n",
    "import datetime as dt\n",
    "\n",
    "import numpy as np\n",
    "import numpy.testing as npt\n",
    "import matplotlib.pyplot as plt\n",
    "\n",
    "from thalesians.tsa.distrs import NormalDistr as N\n",
    "import thalesians.tsa.filtering as filtering\n",
    "import thalesians.tsa.filtering.kalman as kalman\n",
    "import thalesians.tsa.filtering.lineargaussian as lineargaussian\n",
    "import thalesians.tsa.numpyutils as npu\n",
    "import thalesians.tsa.processes as proc"
   ]
  },
  {
   "cell_type": "markdown",
   "metadata": {
    "collapsed": true
   },
   "source": [
    "## A single-process, univariate example\n",
    "\n",
    "First we need a **process model**. In this case it will be a single stochastic process,"
   ]
  },
  {
   "cell_type": "code",
   "execution_count": 2,
   "metadata": {},
   "outputs": [],
   "source": [
    "process = proc.WienerProcess.create_from_cov(mean=3., cov=25.)"
   ]
  },
  {
   "cell_type": "markdown",
   "metadata": {},
   "source": [
    "This we pass to a newly created Kalman filter, along with the initial time and initial state. The latter takes the form of a normal distribution. We have chosen to use Python `datetime`s as our data type for time, but we could have chosen `int`s or something else."
   ]
  },
  {
   "cell_type": "code",
   "execution_count": 3,
   "metadata": {},
   "outputs": [],
   "source": [
    "t0 = dt.datetime(2017, 5, 12, 16, 18, 25, 204000)\n",
    "kf = filtering.kalman.KalmanFilter(t0, state_distr=N(mean=100., cov=250.), process=process)"
   ]
  },
  {
   "cell_type": "markdown",
   "metadata": {
    "collapsed": true
   },
   "source": [
    "Next we create an **observable**, which incorporates a particular **observation model**. In this case, the observation model is particularly simple, since we are observing the entire state of the Kalman filter. Our observation model is a 1x1 identity:"
   ]
  },
  {
   "cell_type": "code",
   "execution_count": 4,
   "metadata": {},
   "outputs": [],
   "source": [
    "observable = kf.create_observable(lineargaussian.LinearGaussianObsModel.create(1.), process)"
   ]
  },
  {
   "cell_type": "markdown",
   "metadata": {},
   "source": [
    "Let's roll forward the time by one hour:"
   ]
  },
  {
   "cell_type": "code",
   "execution_count": 5,
   "metadata": {},
   "outputs": [],
   "source": [
    "t1 = t0 + dt.timedelta(hours=1)"
   ]
  },
  {
   "cell_type": "markdown",
   "metadata": {},
   "source": [
    "What is our predicted observation at this time? Since we haven't observed any actual information, this is our **prior** observation estimate:"
   ]
  },
  {
   "cell_type": "code",
   "execution_count": 6,
   "metadata": {},
   "outputs": [
    {
     "data": {
      "text/plain": [
       "PredictedObs(time=2017-05-12 17:18:25.204000, distr=NormalDistr(mean=[[100.125]], cov=[[251.04166667]]), observable_name=\"KalmanObservable_1930366622408\", cross_cov=[[251.04166667]])"
      ]
     },
     "execution_count": 6,
     "metadata": {},
     "output_type": "execute_result"
    }
   ],
   "source": [
    "prior_predicted_obs1 = observable.predict(t1)\n",
    "prior_predicted_obs1"
   ]
  },
  {
   "cell_type": "markdown",
   "metadata": {},
   "source": [
    "We confirm that this is consistent with how our (linear-Gaussian) process model scales over time:"
   ]
  },
  {
   "cell_type": "code",
   "execution_count": 7,
   "metadata": {},
   "outputs": [],
   "source": [
    "prior_predicted_obs1 = observable.predict(t1)\n",
    "npt.assert_almost_equal(prior_predicted_obs1.distr.mean, 100. + 3./24.)\n",
    "npt.assert_almost_equal(prior_predicted_obs1.distr.cov, 250. + 25./24.)\n",
    "npt.assert_almost_equal(prior_predicted_obs1.cross_cov, prior_predicted_obs1.distr.cov)"
   ]
  },
  {
   "cell_type": "markdown",
   "metadata": {},
   "source": [
    "Let us now actually *observe* our observation. Say, the observation is 100.35 and the observation noise covariance is 100.0:"
   ]
  },
  {
   "cell_type": "code",
   "execution_count": 8,
   "metadata": {},
   "outputs": [
    {
     "data": {
      "text/plain": [
       "KalmanObsResult(accepted=True, obs=Obs(time=2017-05-12 17:18:25.204000, distr=NormalDistr(mean=[[100.35]], cov=[[100.]]), observable_name=\"KalmanObservable_1930366622408\"), predicted_obs=PredictedObs(time=2017-05-12 17:18:25.204000, distr=NormalDistr(mean=[[100.125]], cov=[[251.04166667]]), observable_name=\"KalmanObservable_1930366622408\", cross_cov=[[251.04166667]]), innov_distr=NormalDistr(mean=[[0.225]], cov=[[351.04166667]]), log_likelihood=[[-3.8494631]], gain=[[0.71513353]])"
      ]
     },
     "execution_count": 8,
     "metadata": {},
     "output_type": "execute_result"
    }
   ],
   "source": [
    "observable.observe(time=t1, obs=N(mean=100.35, cov=100.0))"
   ]
  },
  {
   "cell_type": "markdown",
   "metadata": {},
   "source": [
    "Having seen an actual observation, let us obtain the **posterior** observation estimate:"
   ]
  },
  {
   "cell_type": "code",
   "execution_count": 9,
   "metadata": {},
   "outputs": [
    {
     "data": {
      "text/plain": [
       "PredictedObs(time=2017-05-12 17:18:25.204000, distr=NormalDistr(mean=[[100.28590504]], cov=[[71.51335312]]), observable_name=\"KalmanObservable_1930366622408\", cross_cov=[[71.51335312]])"
      ]
     },
     "execution_count": 9,
     "metadata": {},
     "output_type": "execute_result"
    }
   ],
   "source": [
    "posterior_predicted_obs1 = observable.predict(t1); posterior_predicted_obs1"
   ]
  },
  {
   "cell_type": "markdown",
   "metadata": {},
   "source": [
    "We can now fast-forward the time, by two hours, say, and repeat the process:"
   ]
  },
  {
   "cell_type": "code",
   "execution_count": 10,
   "metadata": {},
   "outputs": [],
   "source": [
    "t2 = t1 + dt.timedelta(hours=2)\n",
    "        \n",
    "prior_predicted_obs2 = observable.predict(t2)\n",
    "npt.assert_almost_equal(prior_predicted_obs2.distr.mean, 100.28590504 + 2.*3./24.)\n",
    "npt.assert_almost_equal(prior_predicted_obs2.distr.cov, 71.513353115 + 2.*25./24.)\n",
    "npt.assert_almost_equal(prior_predicted_obs2.cross_cov, prior_predicted_obs2.distr.cov)\n",
    "        \n",
    "observable.observe(time=t2, obs=N(mean=100.35, cov=100.0))\n",
    "\n",
    "posterior_predicted_obs2 = observable.predict(t2)\n",
    "npt.assert_almost_equal(posterior_predicted_obs2.distr.mean, 100.45709020)\n",
    "npt.assert_almost_equal(posterior_predicted_obs2.distr.cov, 42.395213845)\n",
    "npt.assert_almost_equal(posterior_predicted_obs2.cross_cov, posterior_predicted_obs2.distr.cov)\n"
   ]
  },
  {
   "cell_type": "markdown",
   "metadata": {},
   "source": [
    "## A multi-process, multivariate example"
   ]
  },
  {
   "cell_type": "markdown",
   "metadata": {},
   "source": [
    "The real power of our Kalman filter interface is demonstrated for process models consisting of several (independent) stochastic processes:"
   ]
  },
  {
   "cell_type": "code",
   "execution_count": 11,
   "metadata": {},
   "outputs": [],
   "source": [
    "process1 = proc.WienerProcess.create_from_cov(mean=3., cov=25.)\n",
    "process2 = proc.WienerProcess.create_from_cov(mean=[1., 4.], cov=[[36.0, -9.0], [-9.0, 25.0]])"
   ]
  },
  {
   "cell_type": "markdown",
   "metadata": {},
   "source": [
    "Such models are common in finance, where, for example, the dynamics of a yield curve may be represented by a (multivariate) stochastic process, whereas the idiosyncratic spread for each bond may be an independent stochastic process.\n",
    "\n",
    "Let us pass `process1` and `process2` as a (compound) process model to our Kalman filter, along with the initial time and state:"
   ]
  },
  {
   "cell_type": "code",
   "execution_count": 12,
   "metadata": {},
   "outputs": [],
   "source": [
    "t0 = dt.datetime(2017, 5, 12, 16, 18, 25, 204000)\n",
    "kf = kalman.KalmanFilter(\n",
    "    t0,\n",
    "    state_distr=N(\n",
    "        mean=[100.0, 120.0, 130.0],\n",
    "        cov=[[250.0, 0.0, 0.0],\n",
    "             [0.0, 360.0, 0.0],\n",
    "             [0.0, 0.0, 250.0]]),\n",
    "    process=(process1, process2))"
   ]
  },
  {
   "cell_type": "markdown",
   "metadata": {},
   "source": [
    "We shall now create several **observables**, each corresponding to a distinct **observation model**. The first one will observe the entire state:"
   ]
  },
  {
   "cell_type": "code",
   "execution_count": 13,
   "metadata": {},
   "outputs": [],
   "source": [
    "state_observable = kf.create_observable(\n",
    "    lineargaussian.LinearGaussianObsModel.create(1.0, np.eye(2)),\n",
    "    process1, process2)"
   ]
  },
  {
   "cell_type": "markdown",
   "metadata": {},
   "source": [
    "The second observable will observe the first coordinate of the first process:"
   ]
  },
  {
   "cell_type": "code",
   "execution_count": 14,
   "metadata": {},
   "outputs": [],
   "source": [
    "coord0_observable = kf.create_observable(\n",
    "    lineargaussian.LinearGaussianObsModel.create(1.),\n",
    "    process1)"
   ]
  },
  {
   "cell_type": "markdown",
   "metadata": {},
   "source": [
    "The third, the first coordinate of the second process:"
   ]
  },
  {
   "cell_type": "code",
   "execution_count": 15,
   "metadata": {},
   "outputs": [],
   "source": [
    "coord1_observable = kf.create_observable(\n",
    "    lineargaussian.LinearGaussianObsModel.create(npu.row(1., 0.)),\n",
    "    process2)"
   ]
  },
  {
   "cell_type": "markdown",
   "metadata": {},
   "source": [
    "The fourth, the second coordinate of the second process:"
   ]
  },
  {
   "cell_type": "code",
   "execution_count": 16,
   "metadata": {},
   "outputs": [],
   "source": [
    "coord2_observable = kf.create_observable(\n",
    "    lineargaussian.LinearGaussianObsModel.create(npu.row(0., 1.)),\n",
    "    process2)"
   ]
  },
  {
   "cell_type": "markdown",
   "metadata": {},
   "source": [
    "The fifth will observe the sum of the entire state (across the two processes):"
   ]
  },
  {
   "cell_type": "code",
   "execution_count": 17,
   "metadata": {},
   "outputs": [],
   "source": [
    "sum_observable = kf.create_observable(\n",
    "    lineargaussian.LinearGaussianObsModel.create(npu.row(1., 1., 1.)),\n",
    "    process1, process2)"
   ]
  },
  {
   "cell_type": "markdown",
   "metadata": {},
   "source": [
    "And the sixth a certain linear combination thereof:"
   ]
  },
  {
   "cell_type": "code",
   "execution_count": 18,
   "metadata": {},
   "outputs": [],
   "source": [
    "lin_comb_observable = kf.create_observable(\n",
    "    lineargaussian.LinearGaussianObsModel.create(npu.row(2., 0., -3.)),\n",
    "    process1, process2)"
   ]
  },
  {
   "cell_type": "markdown",
   "metadata": {},
   "source": [
    "Fast-forward the time by one hour:"
   ]
  },
  {
   "cell_type": "code",
   "execution_count": 19,
   "metadata": {},
   "outputs": [],
   "source": [
    "t1 = t0 + dt.timedelta(hours=1)"
   ]
  },
  {
   "cell_type": "markdown",
   "metadata": {},
   "source": [
    "Let's predict the state at this time..."
   ]
  },
  {
   "cell_type": "code",
   "execution_count": 20,
   "metadata": {},
   "outputs": [
    {
     "data": {
      "text/plain": [
       "PredictedObs(time=2017-05-12 17:18:25.204000, distr=NormalDistr(mean=[[100.125     ]\n",
       " [120.04166667]\n",
       " [130.16666667]], cov=[[251.04166667   0.           0.        ]\n",
       " [  0.         361.5         -0.375     ]\n",
       " [  0.          -0.375      251.04166667]]), observable_name=\"KalmanObservable_1930416097152\", cross_cov=[[251.04166667   0.           0.        ]\n",
       " [  0.         361.5         -0.375     ]\n",
       " [  0.          -0.375      251.04166667]])"
      ]
     },
     "execution_count": 20,
     "metadata": {},
     "output_type": "execute_result"
    }
   ],
   "source": [
    "predicted_obs1_prior = state_observable.predict(t1)\n",
    "predicted_obs1_prior"
   ]
  },
  {
   "cell_type": "markdown",
   "metadata": {},
   "source": [
    "And check that it is consistent with the scaling of the (multivariate) Wiener process with time:"
   ]
  },
  {
   "cell_type": "code",
   "execution_count": 21,
   "metadata": {},
   "outputs": [],
   "source": [
    "npt.assert_almost_equal(predicted_obs1_prior.distr.mean,\n",
    "                        npu.col(100.0 + 3.0/24.0, 120.0 + 1.0/24.0, 130.0 + 4.0/24.0))\n",
    "npt.assert_almost_equal(predicted_obs1_prior.distr.cov,\n",
    "                        [[250.0 + 25.0/24.0, 0.0, 0.0],\n",
    "                         [0.0, 360.0 + 36.0/24.0, -9.0/24.0],\n",
    "                         [0.0, -9.0/24.0, 250 + 25.0/24.0]])\n",
    "npt.assert_almost_equal(predicted_obs1_prior.cross_cov, predicted_obs1_prior.distr.cov)"
   ]
  },
  {
   "cell_type": "markdown",
   "metadata": {},
   "source": [
    "Suppose that a new observation arrives, and we observe each of the three coordinates individually:"
   ]
  },
  {
   "cell_type": "code",
   "execution_count": 22,
   "metadata": {},
   "outputs": [],
   "source": [
    "state_observable.observe(time=t1, obs=N(mean=[100.35, 121.0, 135.0],\n",
    "                                        cov=[[100.0, 0.0, 0.0],\n",
    "                                             [0.0, 400.0, 0.0],\n",
    "                                             [0.0, 0.0, 100.0]]));"
   ]
  },
  {
   "cell_type": "markdown",
   "metadata": {},
   "source": [
    "Let's look at our (posterior) predicted state:"
   ]
  },
  {
   "cell_type": "code",
   "execution_count": 23,
   "metadata": {},
   "outputs": [
    {
     "data": {
      "text/plain": [
       "PredictedObs(time=2017-05-12 17:18:25.204000, distr=NormalDistr(mean=[[100.28590504]\n",
       " [120.49389518]\n",
       " [133.62301024]], cov=[[ 7.15133531e+01  0.00000000e+00  0.00000000e+00]\n",
       " [ 0.00000000e+00  1.89888268e+02 -5.61129255e-02]\n",
       " [ 0.00000000e+00 -5.61129255e-02  7.15133381e+01]]), observable_name=\"KalmanObservable_1930416097152\", cross_cov=[[ 7.15133531e+01  0.00000000e+00  0.00000000e+00]\n",
       " [ 0.00000000e+00  1.89888268e+02 -5.61129255e-02]\n",
       " [ 0.00000000e+00 -5.61129255e-02  7.15133381e+01]])"
      ]
     },
     "execution_count": 23,
     "metadata": {},
     "output_type": "execute_result"
    }
   ],
   "source": [
    "state_observable.predict(t1)"
   ]
  },
  {
   "cell_type": "markdown",
   "metadata": {},
   "source": [
    "Let's also look at the predictions for the individual coordinates:"
   ]
  },
  {
   "cell_type": "code",
   "execution_count": 24,
   "metadata": {},
   "outputs": [
    {
     "data": {
      "text/plain": [
       "PredictedObs(time=2017-05-12 17:18:25.204000, distr=NormalDistr(mean=[[100.28590504]], cov=[[71.51335312]]), observable_name=\"KalmanObservable_1930416097432\", cross_cov=[[71.51335312  0.          0.        ]])"
      ]
     },
     "execution_count": 24,
     "metadata": {},
     "output_type": "execute_result"
    }
   ],
   "source": [
    "coord0_observable.predict(t1)"
   ]
  },
  {
   "cell_type": "code",
   "execution_count": 25,
   "metadata": {},
   "outputs": [
    {
     "data": {
      "text/plain": [
       "PredictedObs(time=2017-05-12 17:18:25.204000, distr=NormalDistr(mean=[[120.49389518]], cov=[[189.88826767]]), observable_name=\"KalmanObservable_1930416098048\", cross_cov=[[ 0.00000000e+00  1.89888268e+02 -5.61129255e-02]])"
      ]
     },
     "execution_count": 25,
     "metadata": {},
     "output_type": "execute_result"
    }
   ],
   "source": [
    "coord1_observable.predict(t1)"
   ]
  },
  {
   "cell_type": "code",
   "execution_count": 26,
   "metadata": {},
   "outputs": [
    {
     "data": {
      "text/plain": [
       "PredictedObs(time=2017-05-12 17:18:25.204000, distr=NormalDistr(mean=[[133.62301024]], cov=[[71.51333813]]), observable_name=\"KalmanObservable_1930416098720\", cross_cov=[[ 0.00000000e+00 -5.61129255e-02  7.15133381e+01]])"
      ]
     },
     "execution_count": 26,
     "metadata": {},
     "output_type": "execute_result"
    }
   ],
   "source": [
    "coord2_observable.predict(t1)"
   ]
  },
  {
   "cell_type": "markdown",
   "metadata": {},
   "source": [
    "The predicted sum:"
   ]
  },
  {
   "cell_type": "code",
   "execution_count": 27,
   "metadata": {},
   "outputs": [
    {
     "data": {
      "text/plain": [
       "PredictedObs(time=2017-05-12 17:18:25.204000, distr=NormalDistr(mean=[[354.40281047]], cov=[[332.80273306]]), observable_name=\"KalmanObservable_1930416124088\", cross_cov=[[ 71.51335312 189.83215474  71.4572252 ]])"
      ]
     },
     "execution_count": 27,
     "metadata": {},
     "output_type": "execute_result"
    }
   ],
   "source": [
    "sum_observable.predict(t1)"
   ]
  },
  {
   "cell_type": "markdown",
   "metadata": {},
   "source": [
    "And the predicted linear combination:"
   ]
  },
  {
   "cell_type": "code",
   "execution_count": 28,
   "metadata": {},
   "outputs": [
    {
     "data": {
      "text/plain": [
       "PredictedObs(time=2017-05-12 17:18:25.204000, distr=NormalDistr(mean=[[-200.29722063]], cov=[[929.67345563]]), observable_name=\"KalmanObservable_1930416096368\", cross_cov=[[ 1.43026706e+02  1.68338777e-01 -2.14540014e+02]])"
      ]
     },
     "execution_count": 28,
     "metadata": {},
     "output_type": "execute_result"
    }
   ],
   "source": [
    "lin_comb_observable.predict(t1)"
   ]
  },
  {
   "cell_type": "markdown",
   "metadata": {},
   "source": [
    "Let's now go 30 minutes into the future:"
   ]
  },
  {
   "cell_type": "code",
   "execution_count": 29,
   "metadata": {},
   "outputs": [],
   "source": [
    "t2 = t1 + dt.timedelta(minutes=30)"
   ]
  },
  {
   "cell_type": "markdown",
   "metadata": {},
   "source": [
    "And observe only the first coordinate of the second process, with a pretty high confidence:"
   ]
  },
  {
   "cell_type": "code",
   "execution_count": 30,
   "metadata": {},
   "outputs": [
    {
     "data": {
      "text/plain": [
       "KalmanObsResult(accepted=True, obs=Obs(time=2017-05-12 17:48:25.204000, distr=NormalDistr(mean=[[125.25]], cov=[[4.]]), observable_name=\"KalmanObservable_1930416098048\"), predicted_obs=PredictedObs(time=2017-05-12 17:48:25.204000, distr=NormalDistr(mean=[[120.51472852]], cov=[[190.63826767]]), observable_name=\"KalmanObservable_1930416098048\", cross_cov=[[  0.         190.63826767  -0.24361293]]), innov_distr=NormalDistr(mean=[[4.73527148]], cov=[[194.63826767]]), log_likelihood=[[-3.61211113]], gain=[[ 0.        ]\n",
       " [ 0.97944906]\n",
       " [-0.00125162]])"
      ]
     },
     "execution_count": 30,
     "metadata": {},
     "output_type": "execute_result"
    }
   ],
   "source": [
    "coord1_observable.observe(time=t2, obs=N(mean=125.25, cov=4.))"
   ]
  },
  {
   "cell_type": "markdown",
   "metadata": {},
   "source": [
    "How does our predicted state change?"
   ]
  },
  {
   "cell_type": "code",
   "execution_count": 31,
   "metadata": {},
   "outputs": [
    {
     "data": {
      "text/plain": [
       "PredictedObs(time=2017-05-12 17:48:25.204000, distr=NormalDistr(mean=[[100.34840504]\n",
       " [125.1526857 ]\n",
       " [133.70041682]], cov=[[ 7.20341864e+01  0.00000000e+00  0.00000000e+00]\n",
       " [ 0.00000000e+00  3.91779623e+00 -5.00647542e-03]\n",
       " [ 0.00000000e+00 -5.00647542e-03  7.20338666e+01]]), observable_name=\"KalmanObservable_1930416097152\", cross_cov=[[ 7.20341864e+01  0.00000000e+00  0.00000000e+00]\n",
       " [ 0.00000000e+00  3.91779623e+00 -5.00647542e-03]\n",
       " [ 0.00000000e+00 -5.00647542e-03  7.20338666e+01]])"
      ]
     },
     "execution_count": 31,
     "metadata": {},
     "output_type": "execute_result"
    }
   ],
   "source": [
    "state_observable.predict(t2)"
   ]
  },
  {
   "cell_type": "markdown",
   "metadata": {},
   "source": [
    "Thirty minutes later..."
   ]
  },
  {
   "cell_type": "code",
   "execution_count": 32,
   "metadata": {},
   "outputs": [],
   "source": [
    "t3 = t2 + dt.timedelta(minutes=30)"
   ]
  },
  {
   "cell_type": "markdown",
   "metadata": {},
   "source": [
    "We observe the *sum* of the three coordinates, rather than the individual coordinates:"
   ]
  },
  {
   "cell_type": "code",
   "execution_count": 33,
   "metadata": {},
   "outputs": [
    {
     "data": {
      "text/plain": [
       "KalmanObsResult(accepted=True, obs=Obs(time=2017-05-12 18:18:25.204000, distr=NormalDistr(mean=[[365.]], cov=[[9.]]), observable_name=\"KalmanObservable_1930416124088\"), predicted_obs=PredictedObs(time=2017-05-12 18:18:25.204000, distr=NormalDistr(mean=[[359.36817423]], cov=[[149.39250294]]), observable_name=\"KalmanObservable_1930416124088\", cross_cov=[[72.55501978  4.47528975 72.36219341]]), innov_distr=NormalDistr(mean=[[5.63182577]], cov=[[158.39250294]]), log_likelihood=[[-3.5515996]], gain=[[0.45807105]\n",
       " [0.02825443]\n",
       " [0.45685365]])"
      ]
     },
     "execution_count": 33,
     "metadata": {},
     "output_type": "execute_result"
    }
   ],
   "source": [
    "sum_observable.observe(time=t3, obs=N(mean=365.00, cov=9.))"
   ]
  },
  {
   "cell_type": "markdown",
   "metadata": {},
   "source": [
    "How has our prediction of the state changed?"
   ]
  },
  {
   "cell_type": "code",
   "execution_count": 34,
   "metadata": {},
   "outputs": [
    {
     "data": {
      "text/plain": [
       "PredictedObs(time=2017-05-12 18:18:25.204000, distr=NormalDistr(mean=[[102.99068137]\n",
       " [125.33264306]\n",
       " [136.35667032]], cov=[[ 39.31966585  -2.05000067 -33.14702575]\n",
       " [ -2.05000067   4.54134947  -2.23705894]\n",
       " [-33.14702575  -2.23705894  39.49576756]]), observable_name=\"KalmanObservable_1930416097152\", cross_cov=[[ 39.31966585  -2.05000067 -33.14702575]\n",
       " [ -2.05000067   4.54134947  -2.23705894]\n",
       " [-33.14702575  -2.23705894  39.49576756]])"
      ]
     },
     "execution_count": 34,
     "metadata": {},
     "output_type": "execute_result"
    }
   ],
   "source": [
    "state_observable.predict(t3)"
   ]
  },
  {
   "cell_type": "markdown",
   "metadata": {},
   "source": [
    "And what is its predicted sum?"
   ]
  },
  {
   "cell_type": "code",
   "execution_count": 35,
   "metadata": {},
   "outputs": [
    {
     "data": {
      "text/plain": [
       "PredictedObs(time=2017-05-12 18:18:25.204000, distr=NormalDistr(mean=[[364.67999475]], cov=[[8.48861216]]), observable_name=\"KalmanObservable_1930416124088\", cross_cov=[[4.12263943 0.25428986 4.11168287]])"
      ]
     },
     "execution_count": 35,
     "metadata": {},
     "output_type": "execute_result"
    }
   ],
   "source": [
    "sum_observable.predict(t3)"
   ]
  }
 ],
 "metadata": {
  "kernelspec": {
   "display_name": "Python 3",
   "language": "python",
   "name": "python3"
  },
  "language_info": {
   "codemirror_mode": {
    "name": "ipython",
    "version": 3
   },
   "file_extension": ".py",
   "mimetype": "text/x-python",
   "name": "python",
   "nbconvert_exporter": "python",
   "pygments_lexer": "ipython3",
   "version": "3.7.3"
  }
 },
 "nbformat": 4,
 "nbformat_minor": 2
}
