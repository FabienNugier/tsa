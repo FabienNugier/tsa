{
 "cells": [
  {
   "cell_type": "markdown",
   "metadata": {},
   "source": [
    "# Kalman filtering\n",
    "\n",
    "## Introduction\n",
    "\n",
    "Much thought has been given to the interfaces of the Kalman filter and related classes in thalesians.tsa. These interfaces and the underlying implementations incorporate many suggestions by Martin Zinkin.\n",
    "\n",
    "Before we proceed, we import some Python modules:"
   ]
  },
  {
   "cell_type": "code",
   "execution_count": 1,
   "metadata": {
    "collapsed": true
   },
   "outputs": [],
   "source": [
    "import os, sys\n",
    "sys.path.append(os.path.abspath('../../main/python'))\n",
    "\n",
    "import datetime as dt\n",
    "\n",
    "import numpy as np\n",
    "import numpy.testing as npt\n",
    "import matplotlib.pyplot as plt\n",
    "\n",
    "from thalesians.tsa.distrs import NormalDistr as N\n",
    "import thalesians.tsa.filtering as filtering\n",
    "import thalesians.tsa.numpyutils as npu\n",
    "import thalesians.tsa.processes as proc"
   ]
  },
  {
   "cell_type": "markdown",
   "metadata": {
    "collapsed": true
   },
   "source": [
    "## A single-process, univariate example\n",
    "\n",
    "First we need a **process model**. In this case it will be a single stochastic process,"
   ]
  },
  {
   "cell_type": "code",
   "execution_count": 2,
   "metadata": {
    "collapsed": true
   },
   "outputs": [],
   "source": [
    "process = proc.WienerProcess.createfromcov(mean=3., cov=25.)"
   ]
  },
  {
   "cell_type": "markdown",
   "metadata": {},
   "source": [
    "This we pass to a newly created Kalman filter, along with the initial time and initial state. The latter takes the form of a normal distribution. We have chosen to use Python `datetime`s as our data type for time, but we could have chosen `int`s or something else."
   ]
  },
  {
   "cell_type": "code",
   "execution_count": 3,
   "metadata": {},
   "outputs": [],
   "source": [
    "t0 = dt.datetime(2017, 5, 12, 16, 18, 25, 204000)\n",
    "kf = filtering.KalmanFilter(t0, statedistr=N(mean=100., cov=250.), process=process)"
   ]
  },
  {
   "cell_type": "markdown",
   "metadata": {
    "collapsed": true
   },
   "source": [
    "Next we create an **observable**, which incorporates a particular **observation model**. In this case, the observation model is particularly simple, since we are observing the entire state of the Kalman filter. Our observation model is a 1x1 identity:"
   ]
  },
  {
   "cell_type": "code",
   "execution_count": 4,
   "metadata": {},
   "outputs": [],
   "source": [
    "observable = kf.createobservable(filtering.KalmanFilterObsModel.create(1.), process)"
   ]
  },
  {
   "cell_type": "markdown",
   "metadata": {},
   "source": [
    "Let's roll forward the time by one hour:"
   ]
  },
  {
   "cell_type": "code",
   "execution_count": 5,
   "metadata": {
    "collapsed": true
   },
   "outputs": [],
   "source": [
    "t1 = t0 + dt.timedelta(hours=1)"
   ]
  },
  {
   "cell_type": "markdown",
   "metadata": {},
   "source": [
    "What is our predicted observation at this time? Since we haven't observed any actual information, this is our **prior** observation estimate:"
   ]
  },
  {
   "cell_type": "code",
   "execution_count": 6,
   "metadata": {},
   "outputs": [
    {
     "data": {
      "text/plain": [
       "PredictedObs(time=2017-05-12 17:18:25.204000, distr=Normal(mean=[[ 100.125]], cov=[[ 251.04166667]]), crosscov=[[ 251.04166667]])"
      ]
     },
     "execution_count": 6,
     "metadata": {},
     "output_type": "execute_result"
    }
   ],
   "source": [
    "priorpredictedobs1 = observable.predict(t1)\n",
    "priorpredictedobs1"
   ]
  },
  {
   "cell_type": "markdown",
   "metadata": {},
   "source": [
    "We confirm that this is consistent with how our (linear-Gaussian) process model scales over time:"
   ]
  },
  {
   "cell_type": "code",
   "execution_count": 7,
   "metadata": {
    "collapsed": true
   },
   "outputs": [],
   "source": [
    "priorpredictedobs1 = observable.predict(t1)\n",
    "npt.assert_almost_equal(priorpredictedobs1.distr.mean, 100. + 3./24.)\n",
    "npt.assert_almost_equal(priorpredictedobs1.distr.cov, 250. + 25./24.)\n",
    "npt.assert_almost_equal(priorpredictedobs1.crosscov, priorpredictedobs1.distr.cov)"
   ]
  },
  {
   "cell_type": "markdown",
   "metadata": {},
   "source": [
    "Let us now actually *observe* our observation. Say, the observation is 100.35 and the observation noise covariance is 100.0:"
   ]
  },
  {
   "cell_type": "code",
   "execution_count": 8,
   "metadata": {},
   "outputs": [
    {
     "data": {
      "text/plain": [
       "ObsResult(time=2017-05-12 17:18:25.204000, obsdistr=Normal(mean=[[ 100.35]], cov=[[ 100.]]), accepted=True, predictedobs=PredictedObs(time=2017-05-12 17:18:25.204000, distr=Normal(mean=[[ 100.125]], cov=[[ 251.04166667]]), crosscov=[[ 251.04166667]]), innovdistr=Normal(mean=[[ 0.225]], cov=[[ 351.04166667]]), loglikelihood=-3.849463)"
      ]
     },
     "execution_count": 8,
     "metadata": {},
     "output_type": "execute_result"
    }
   ],
   "source": [
    "observable.observe(t1, N(mean=100.35, cov=100.0))"
   ]
  },
  {
   "cell_type": "markdown",
   "metadata": {},
   "source": [
    "Having seen an actual observation, let us obtain the **posterior** observation estimate:"
   ]
  },
  {
   "cell_type": "code",
   "execution_count": 9,
   "metadata": {},
   "outputs": [
    {
     "data": {
      "text/plain": [
       "PredictedObs(time=2017-05-12 17:18:25.204000, distr=Normal(mean=[[ 100.28590504]], cov=[[ 71.51335312]]), crosscov=[[ 71.51335312]])"
      ]
     },
     "execution_count": 9,
     "metadata": {},
     "output_type": "execute_result"
    }
   ],
   "source": [
    "posteriorpredictedobs1 = observable.predict(t1); posteriorpredictedobs1"
   ]
  },
  {
   "cell_type": "markdown",
   "metadata": {},
   "source": [
    "We can now fast-forward the time, by two hours, say, and repeat the process:"
   ]
  },
  {
   "cell_type": "code",
   "execution_count": 10,
   "metadata": {
    "collapsed": true
   },
   "outputs": [],
   "source": [
    "t2 = t1 + dt.timedelta(hours=2)\n",
    "        \n",
    "priorpredictedobs2 = observable.predict(t2)\n",
    "npt.assert_almost_equal(priorpredictedobs2.distr.mean, 100.28590504 + 2.*3./24.)\n",
    "npt.assert_almost_equal(priorpredictedobs2.distr.cov, 71.513353115 + 2.*25./24.)\n",
    "npt.assert_almost_equal(priorpredictedobs2.crosscov, priorpredictedobs2.distr.cov)\n",
    "        \n",
    "observable.observe(t2, N(mean=100.35, cov=100.0))\n",
    "\n",
    "posteriorpredictedobs2 = observable.predict(t2)\n",
    "npt.assert_almost_equal(posteriorpredictedobs2.distr.mean, 100.45709020)\n",
    "npt.assert_almost_equal(posteriorpredictedobs2.distr.cov, 42.395213845)\n",
    "npt.assert_almost_equal(posteriorpredictedobs2.crosscov, posteriorpredictedobs2.distr.cov)\n"
   ]
  },
  {
   "cell_type": "markdown",
   "metadata": {},
   "source": [
    "## A multi-process, multivariate example"
   ]
  },
  {
   "cell_type": "markdown",
   "metadata": {},
   "source": [
    "The real power of our Kalman filter interface is demonstrated for process models consisting of several (independent) stochastic processes:"
   ]
  },
  {
   "cell_type": "code",
   "execution_count": 11,
   "metadata": {
    "collapsed": true
   },
   "outputs": [],
   "source": [
    "process1 = proc.WienerProcess.createfromcov(mean=3., cov=25.)\n",
    "process2 = proc.WienerProcess.createfromcov(mean=[1., 4.], cov=[[36.0, -9.0], [-9.0, 25.0]])"
   ]
  },
  {
   "cell_type": "markdown",
   "metadata": {},
   "source": [
    "Such models are common in finance, where, for example, the dynamics of a yield curve may be represented by a (multivariate) stochastic process, whereas the idiosyncratic spread for each bond may be an independent stochastic process.\n",
    "\n",
    "Let us pass `process1` and `process2` as a (compound) process model to our Kalman filter, along with the initial time and state:"
   ]
  },
  {
   "cell_type": "code",
   "execution_count": 12,
   "metadata": {
    "collapsed": true
   },
   "outputs": [],
   "source": [
    "t0 = dt.datetime(2017, 5, 12, 16, 18, 25, 204000)\n",
    "kf = filtering.KalmanFilter(\n",
    "    t0,\n",
    "    statedistr=N(\n",
    "        mean=[100.0, 120.0, 130.0],\n",
    "        cov=[[250.0, 0.0, 0.0],\n",
    "             [0.0, 360.0, 0.0],\n",
    "             [0.0, 0.0, 250.0]]),\n",
    "    process=(process1, process2))"
   ]
  },
  {
   "cell_type": "markdown",
   "metadata": {},
   "source": [
    "We shall now create several **observables**, each corresponding to a distinct **observation model**. The first one will observe the entire state:"
   ]
  },
  {
   "cell_type": "code",
   "execution_count": 13,
   "metadata": {
    "collapsed": true
   },
   "outputs": [],
   "source": [
    "stateobservable = kf.createobservable(\n",
    "    filtering.KalmanFilterObsModel.create(1.0, np.eye(2)),\n",
    "    process1, process2)"
   ]
  },
  {
   "cell_type": "markdown",
   "metadata": {},
   "source": [
    "The second observable will observe the first coordinate of the first process:"
   ]
  },
  {
   "cell_type": "code",
   "execution_count": 14,
   "metadata": {
    "collapsed": true
   },
   "outputs": [],
   "source": [
    "coord0observable = kf.createobservable(\n",
    "    filtering.KalmanFilterObsModel.create(1.),\n",
    "    process1)"
   ]
  },
  {
   "cell_type": "markdown",
   "metadata": {},
   "source": [
    "The third, the first coordinate of the second process:"
   ]
  },
  {
   "cell_type": "code",
   "execution_count": 15,
   "metadata": {},
   "outputs": [],
   "source": [
    "coord1observable = kf.createobservable(\n",
    "    filtering.KalmanFilterObsModel.create(npu.row(1., 0.)),\n",
    "    process2)"
   ]
  },
  {
   "cell_type": "markdown",
   "metadata": {},
   "source": [
    "The fourth, the second coordinate of the second process:"
   ]
  },
  {
   "cell_type": "code",
   "execution_count": 16,
   "metadata": {},
   "outputs": [],
   "source": [
    "coord2observable = kf.createobservable(\n",
    "    filtering.KalmanFilterObsModel.create(npu.row(0., 1.)),\n",
    "    process2)"
   ]
  },
  {
   "cell_type": "markdown",
   "metadata": {},
   "source": [
    "The fifth will observe the sum of the entire state (across the two processes):"
   ]
  },
  {
   "cell_type": "code",
   "execution_count": 18,
   "metadata": {
    "collapsed": true
   },
   "outputs": [],
   "source": [
    "sumobservable = kf.createobservable(\n",
    "    filtering.KalmanFilterObsModel.create(npu.row(1., 1., 1.)),\n",
    "    process1, process2)"
   ]
  },
  {
   "cell_type": "markdown",
   "metadata": {},
   "source": [
    "And the sixth a certain linear combination thereof:"
   ]
  },
  {
   "cell_type": "code",
   "execution_count": 19,
   "metadata": {
    "collapsed": true
   },
   "outputs": [],
   "source": [
    "lincombobservable = kf.createobservable(\n",
    "    filtering.KalmanFilterObsModel.create(npu.row(2., 0., -3.)),\n",
    "    process1, process2)"
   ]
  },
  {
   "cell_type": "markdown",
   "metadata": {},
   "source": [
    "Fast-forward the time by one hour:"
   ]
  },
  {
   "cell_type": "code",
   "execution_count": 20,
   "metadata": {
    "collapsed": true
   },
   "outputs": [],
   "source": [
    "t1 = t0 + dt.timedelta(hours=1)"
   ]
  },
  {
   "cell_type": "markdown",
   "metadata": {},
   "source": [
    "Let's predict the state at this time..."
   ]
  },
  {
   "cell_type": "code",
   "execution_count": 21,
   "metadata": {},
   "outputs": [
    {
     "data": {
      "text/plain": [
       "PredictedObs(time=2017-05-12 17:18:25.204000, distr=Normal(mean=[[ 100.125     ]\n",
       " [ 120.04166667]\n",
       " [ 130.16666667]], cov=[[ 251.04166667    0.            0.        ]\n",
       " [   0.          361.5          -0.375     ]\n",
       " [   0.           -0.375       251.04166667]]), crosscov=[[ 251.04166667    0.            0.        ]\n",
       " [   0.          361.5          -0.375     ]\n",
       " [   0.           -0.375       251.04166667]])"
      ]
     },
     "execution_count": 21,
     "metadata": {},
     "output_type": "execute_result"
    }
   ],
   "source": [
    "predictedobs1_prior = stateobservable.predict(t1)\n",
    "predictedobs1_prior"
   ]
  },
  {
   "cell_type": "markdown",
   "metadata": {},
   "source": [
    "And check that it is consistent with the scaling of the (multivariate) Wiener process with time:"
   ]
  },
  {
   "cell_type": "code",
   "execution_count": 23,
   "metadata": {
    "collapsed": true
   },
   "outputs": [],
   "source": [
    "npt.assert_almost_equal(predictedobs1_prior.distr.mean,\n",
    "                        npu.col(100.0 + 3.0/24.0, 120.0 + 1.0/24.0, 130.0 + 4.0/24.0))\n",
    "npt.assert_almost_equal(predictedobs1_prior.distr.cov,\n",
    "                        [[250.0 + 25.0/24.0, 0.0, 0.0],\n",
    "                         [0.0, 360.0 + 36.0/24.0, -9.0/24.0],\n",
    "                         [0.0, -9.0/24.0, 250 + 25.0/24.0]])\n",
    "npt.assert_almost_equal(predictedobs1_prior.crosscov, predictedobs1_prior.distr.cov)"
   ]
  },
  {
   "cell_type": "markdown",
   "metadata": {},
   "source": [
    "Suppose that a new observation arrives, and we observe each of the three coordinates individually:"
   ]
  },
  {
   "cell_type": "code",
   "execution_count": 25,
   "metadata": {},
   "outputs": [],
   "source": [
    "stateobservable.observe(t1, N(mean=[100.35, 121.0, 135.0],\n",
    "                              cov=[[100.0, 0.0, 0.0],\n",
    "                                   [0.0, 400.0, 0.0],\n",
    "                                   [0.0, 0.0, 100.0]]));"
   ]
  },
  {
   "cell_type": "markdown",
   "metadata": {},
   "source": [
    "Let's look at our (posterior) predicted state:"
   ]
  },
  {
   "cell_type": "code",
   "execution_count": 26,
   "metadata": {},
   "outputs": [
    {
     "data": {
      "text/plain": [
       "PredictedObs(time=2017-05-12 17:18:25.204000, distr=Normal(mean=[[ 100.31262976]\n",
       " [ 120.65650761]\n",
       " [ 134.19712486]], cov=[[  4.16955017e+01   0.00000000e+00   0.00000000e+00]\n",
       " [  0.00000000e+00   1.28762185e+02  -2.21847868e-02]\n",
       " [  0.00000000e+00  -2.21847868e-02   4.16954948e+01]]), crosscov=[[  4.16955017e+01   0.00000000e+00   0.00000000e+00]\n",
       " [  0.00000000e+00   1.28762185e+02  -2.21847868e-02]\n",
       " [  0.00000000e+00  -2.21847868e-02   4.16954948e+01]])"
      ]
     },
     "execution_count": 26,
     "metadata": {},
     "output_type": "execute_result"
    }
   ],
   "source": [
    "stateobservable.predict(t1)"
   ]
  },
  {
   "cell_type": "markdown",
   "metadata": {},
   "source": [
    "Let's also look at the predictions for the individual coordinates:"
   ]
  },
  {
   "cell_type": "code",
   "execution_count": 27,
   "metadata": {},
   "outputs": [
    {
     "data": {
      "text/plain": [
       "PredictedObs(time=2017-05-12 17:18:25.204000, distr=Normal(mean=[[ 100.31262976]], cov=[[ 41.69550173]]), crosscov=[[ 41.69550173   0.           0.        ]])"
      ]
     },
     "execution_count": 27,
     "metadata": {},
     "output_type": "execute_result"
    }
   ],
   "source": [
    "coord0observable.predict(t1)"
   ]
  },
  {
   "cell_type": "code",
   "execution_count": 28,
   "metadata": {},
   "outputs": [
    {
     "data": {
      "text/plain": [
       "PredictedObs(time=2017-05-12 17:18:25.204000, distr=Normal(mean=[[ 120.65650761]], cov=[[ 128.76218472]]), crosscov=[[  0.00000000e+00   1.28762185e+02  -2.21847868e-02]])"
      ]
     },
     "execution_count": 28,
     "metadata": {},
     "output_type": "execute_result"
    }
   ],
   "source": [
    "coord1observable.predict(t1)"
   ]
  },
  {
   "cell_type": "code",
   "execution_count": 29,
   "metadata": {},
   "outputs": [
    {
     "data": {
      "text/plain": [
       "PredictedObs(time=2017-05-12 17:18:25.204000, distr=Normal(mean=[[ 134.19712486]], cov=[[ 41.69549482]]), crosscov=[[  0.00000000e+00  -2.21847868e-02   4.16954948e+01]])"
      ]
     },
     "execution_count": 29,
     "metadata": {},
     "output_type": "execute_result"
    }
   ],
   "source": [
    "coord2observable.predict(t1)"
   ]
  },
  {
   "cell_type": "markdown",
   "metadata": {},
   "source": [
    "The predicted sum:"
   ]
  },
  {
   "cell_type": "code",
   "execution_count": 30,
   "metadata": {},
   "outputs": [
    {
     "data": {
      "text/plain": [
       "PredictedObs(time=2017-05-12 17:18:25.204000, distr=Normal(mean=[[ 355.16626223]], cov=[[ 212.1088117]]), crosscov=[[  41.69550173  128.73999994   41.67331003]])"
      ]
     },
     "execution_count": 30,
     "metadata": {},
     "output_type": "execute_result"
    }
   ],
   "source": [
    "sumobservable.predict(t1)"
   ]
  },
  {
   "cell_type": "markdown",
   "metadata": {},
   "source": [
    "And the predicted linear combination:"
   ]
  },
  {
   "cell_type": "code",
   "execution_count": 31,
   "metadata": {},
   "outputs": [
    {
     "data": {
      "text/plain": [
       "PredictedObs(time=2017-05-12 17:18:25.204000, distr=Normal(mean=[[-201.96611508]], cov=[[ 542.04146031]]), crosscov=[[  8.33910035e+01   6.65543603e-02  -1.25086484e+02]])"
      ]
     },
     "execution_count": 31,
     "metadata": {},
     "output_type": "execute_result"
    }
   ],
   "source": [
    "lincombobservable.predict(t1)"
   ]
  },
  {
   "cell_type": "markdown",
   "metadata": {},
   "source": [
    "Let's now go 30 minutes into the future:"
   ]
  },
  {
   "cell_type": "code",
   "execution_count": 32,
   "metadata": {
    "collapsed": true
   },
   "outputs": [],
   "source": [
    "t2 = t1 + dt.timedelta(minutes=30)"
   ]
  },
  {
   "cell_type": "markdown",
   "metadata": {},
   "source": [
    "And observe only the first coordinate of the second process, with a pretty high confidence:"
   ]
  },
  {
   "cell_type": "code",
   "execution_count": 34,
   "metadata": {},
   "outputs": [
    {
     "data": {
      "text/plain": [
       "ObsResult(time=2017-05-12 17:48:25.204000, obsdistr=Normal(mean=[[ 125.25]], cov=[[ 4.]]), accepted=True, predictedobs=PredictedObs(time=2017-05-12 17:48:25.204000, distr=Normal(mean=[[ 120.67734094]], cov=[[ 129.51218472]]), crosscov=[[   0.          129.51218472   -0.20968479]]), innovdistr=Normal(mean=[[ 4.57265906]], cov=[[ 133.51218472]]), loglikelihood=-3.444339)"
      ]
     },
     "execution_count": 34,
     "metadata": {},
     "output_type": "execute_result"
    }
   ],
   "source": [
    "coord1observable.observe(t2, N(mean=125.25, cov=4.))"
   ]
  },
  {
   "cell_type": "markdown",
   "metadata": {},
   "source": [
    "How does our predicted state change?"
   ]
  },
  {
   "cell_type": "code",
   "execution_count": 36,
   "metadata": {},
   "outputs": [
    {
     "data": {
      "text/plain": [
       "PredictedObs(time=2017-05-12 17:48:25.204000, distr=Normal(mean=[[ 100.37512976]\n",
       " [ 125.11300399]\n",
       " [ 134.2732767 ]], cov=[[  4.22163351e+01   0.00000000e+00   0.00000000e+00]\n",
       " [  0.00000000e+00   3.88016075e+00  -6.28211686e-03]\n",
       " [  0.00000000e+00  -6.28211686e-03   4.22159988e+01]]), crosscov=[[  4.22163351e+01   0.00000000e+00   0.00000000e+00]\n",
       " [  0.00000000e+00   3.88016075e+00  -6.28211686e-03]\n",
       " [  0.00000000e+00  -6.28211686e-03   4.22159988e+01]])"
      ]
     },
     "execution_count": 36,
     "metadata": {},
     "output_type": "execute_result"
    }
   ],
   "source": [
    "stateobservable.predict(t2)"
   ]
  },
  {
   "cell_type": "markdown",
   "metadata": {},
   "source": [
    "Thirty minutes later..."
   ]
  },
  {
   "cell_type": "code",
   "execution_count": 37,
   "metadata": {
    "collapsed": true
   },
   "outputs": [],
   "source": [
    "t3 = t2 + dt.timedelta(minutes=30)"
   ]
  },
  {
   "cell_type": "markdown",
   "metadata": {},
   "source": [
    "We observe the *sum* of the three coordinates, rather than the individual coordinates:"
   ]
  },
  {
   "cell_type": "code",
   "execution_count": 39,
   "metadata": {},
   "outputs": [
    {
     "data": {
      "text/plain": [
       "ObsResult(time=2017-05-12 18:18:25.204000, obsdistr=Normal(mean=[[ 365.]], cov=[[ 9.]]), accepted=True, predictedobs=PredictedObs(time=2017-05-12 18:18:25.204000, distr=Normal(mean=[[ 359.92807712]], cov=[[ 89.71659709]]), crosscov=[[ 42.7371684    4.43637863  42.54305006]]), innovdistr=Normal(mean=[[ 5.07192288]], cov=[[ 98.71659709]]), loglikelihood=-3.345359)"
      ]
     },
     "execution_count": 39,
     "metadata": {},
     "output_type": "execute_result"
    }
   ],
   "source": [
    "sumobservable.observe(t3, N(mean=365.00, cov=9.))"
   ]
  },
  {
   "cell_type": "markdown",
   "metadata": {},
   "source": [
    "How has our prediction of the state changed?"
   ]
  },
  {
   "cell_type": "code",
   "execution_count": 40,
   "metadata": {},
   "outputs": [
    {
     "data": {
      "text/plain": [
       "PredictedObs(time=2017-05-12 18:18:25.204000, distr=Normal(mean=[[ 102.63340664]\n",
       " [ 125.36177235]\n",
       " [ 136.54241339]], cov=[[ 24.23505612  -1.92063206 -18.41807303]\n",
       " [ -1.92063206   4.43078743  -2.10569039]\n",
       " [-18.41807303  -2.10569039  24.40241667]]), crosscov=[[ 24.23505612  -1.92063206 -18.41807303]\n",
       " [ -1.92063206   4.43078743  -2.10569039]\n",
       " [-18.41807303  -2.10569039  24.40241667]])"
      ]
     },
     "execution_count": 40,
     "metadata": {},
     "output_type": "execute_result"
    }
   ],
   "source": [
    "stateobservable.predict(t3)"
   ]
  },
  {
   "cell_type": "markdown",
   "metadata": {},
   "source": [
    "And what is its predicted sum?"
   ]
  },
  {
   "cell_type": "code",
   "execution_count": 41,
   "metadata": {},
   "outputs": [
    {
     "data": {
      "text/plain": [
       "PredictedObs(time=2017-05-12 18:18:25.204000, distr=Normal(mean=[[ 364.53759239]], cov=[[ 8.17946928]]), crosscov=[[ 3.89635104  0.40446499  3.87865325]])"
      ]
     },
     "execution_count": 41,
     "metadata": {},
     "output_type": "execute_result"
    }
   ],
   "source": [
    "sumobservable.predict(t3)"
   ]
  }
 ],
 "metadata": {
  "kernelspec": {
   "display_name": "Python 3",
   "language": "python",
   "name": "python3"
  },
  "language_info": {
   "codemirror_mode": {
    "name": "ipython",
    "version": 3
   },
   "file_extension": ".py",
   "mimetype": "text/x-python",
   "name": "python",
   "nbconvert_exporter": "python",
   "pygments_lexer": "ipython3",
   "version": "3.6.1"
  }
 },
 "nbformat": 4,
 "nbformat_minor": 2
}
