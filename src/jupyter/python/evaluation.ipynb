{
 "cells": [
  {
   "cell_type": "code",
   "execution_count": 1,
   "metadata": {
    "collapsed": true
   },
   "outputs": [],
   "source": [
    "import os, sys\n",
    "sys.path.append(os.path.abspath('../../main/python'))"
   ]
  },
  {
   "cell_type": "code",
   "execution_count": 2,
   "metadata": {},
   "outputs": [
    {
     "data": {
      "text/plain": [
       "<module 'thalesians.tsa.evaluation' from 'S:\\\\dev\\\\tsa\\\\src\\\\main\\\\python\\\\thalesians\\\\tsa\\\\evaluation.py'>"
      ]
     },
     "execution_count": 2,
     "metadata": {},
     "output_type": "execute_result"
    }
   ],
   "source": [
    "import math\n",
    "import time\n",
    "\n",
    "import thalesians.tsa.evaluation as evaluation\n",
    "\n",
    "import importlib\n",
    "importlib.reload(evaluation)"
   ]
  },
  {
   "cell_type": "code",
   "execution_count": 3,
   "metadata": {
    "collapsed": true
   },
   "outputs": [],
   "source": [
    "def fact(x):\n",
    "    time.sleep(10)\n",
    "    return math.factorial(x)"
   ]
  },
  {
   "cell_type": "code",
   "execution_count": 4,
   "metadata": {},
   "outputs": [],
   "source": [
    "current_thread_evaluator = evaluation.CurrentThreadEvaluator()"
   ]
  },
  {
   "cell_type": "code",
   "execution_count": 5,
   "metadata": {},
   "outputs": [
    {
     "name": "stdout",
     "output_type": "stream",
     "text": [
      "Status(ready=True, result=Result(work_id=\"eb29d8ca15984a6d905df63a330601d1\", func=<function fact at 0x000002300110E620>, args=[10], kwargs={}, call_count=1, repeat_count=1, evaluation_id=\"f0639373ced84615b119687d51a08d3f\", result=3628800, exception=None, start_datetime=2018-04-02 17:04:01.502726, seconds_per_call=[9.999897941524932], hostname=\"DESKTOP-EFQ7TT8\", pid=35084, thread_id=35084))\n"
     ]
    }
   ],
   "source": [
    "status = evaluation.evaluate(fact, args=[10], evaluator=current_thread_evaluator)\n",
    "print(status)"
   ]
  },
  {
   "cell_type": "code",
   "execution_count": 6,
   "metadata": {
    "collapsed": true
   },
   "outputs": [],
   "source": [
    "ipp_evaluator = evaluation.IPyParallelEvaluator()"
   ]
  },
  {
   "cell_type": "code",
   "execution_count": 7,
   "metadata": {},
   "outputs": [
    {
     "name": "stdout",
     "output_type": "stream",
     "text": [
      "Status(ready=False, result=None)\n"
     ]
    }
   ],
   "source": [
    "status1 = evaluation.evaluate(fact, args=[10], evaluator=ipp_evaluator)\n",
    "print(status1)"
   ]
  },
  {
   "cell_type": "code",
   "execution_count": 8,
   "metadata": {},
   "outputs": [
    {
     "name": "stdout",
     "output_type": "stream",
     "text": [
      "Status(ready=False, result=None)\n"
     ]
    }
   ],
   "source": [
    "status2 = evaluation.evaluate(fact, args=[8], evaluator=ipp_evaluator)\n",
    "print(status2)"
   ]
  },
  {
   "cell_type": "code",
   "execution_count": 9,
   "metadata": {},
   "outputs": [
    {
     "name": "stdout",
     "output_type": "stream",
     "text": [
      "The status is now ready: Status(ready=True, result=Result(work_id=\"408f230cb36040b78dde2b7a82566bcf\", func=<function fact at 0x00000230024F9F28>, args=[8], kwargs={}, call_count=1, repeat_count=1, evaluation_id=\"853de52b700f4c4a9c48c04159329b96\", result=40320, exception=None, start_datetime=2018-04-02 17:04:49.529466, seconds_per_call=[10.000074751849752], hostname=\"DESKTOP-EFQ7TT8\", pid=16724, thread_id=16724))\n"
     ]
    }
   ],
   "source": [
    "def my_callback(status):\n",
    "    print('The status is now ready:', status)\n",
    "status3 = evaluation.evaluate(fact, args=[8], evaluator=ipp_evaluator)\n",
    "status3.add_callback(my_callback)"
   ]
  },
  {
   "cell_type": "code",
   "execution_count": 10,
   "metadata": {},
   "outputs": [
    {
     "data": {
      "text/plain": [
       "Status(ready=True, result=Result(work_id=\"e82b60b1ae72436488314a54e733b885\", func=<function fact at 0x00000230024DFBF8>, args=[10], kwargs={}, call_count=1, repeat_count=1, evaluation_id=\"1dffab772c78492eb040ceedc64d0c6b\", result=3628800, exception=None, start_datetime=2018-04-02 17:04:20.779039, seconds_per_call=[9.999709184514359], hostname=\"DESKTOP-EFQ7TT8\", pid=28588, thread_id=28588))"
      ]
     },
     "execution_count": 10,
     "metadata": {},
     "output_type": "execute_result"
    }
   ],
   "source": [
    "status1"
   ]
  },
  {
   "cell_type": "code",
   "execution_count": 11,
   "metadata": {},
   "outputs": [
    {
     "data": {
      "text/plain": [
       "Status(ready=True, result=Result(work_id=\"41fa98df5ae9459c9a83624491d1170a\", func=<function fact at 0x00000230024ECC80>, args=[8], kwargs={}, call_count=1, repeat_count=1, evaluation_id=\"b20998402da8497d90bfa5af94b8fd92\", result=40320, exception=None, start_datetime=2018-04-02 17:04:33.494733, seconds_per_call=[10.000365908665117], hostname=\"DESKTOP-EFQ7TT8\", pid=28392, thread_id=28392))"
      ]
     },
     "execution_count": 11,
     "metadata": {},
     "output_type": "execute_result"
    }
   ],
   "source": [
    "status2"
   ]
  },
  {
   "cell_type": "code",
   "execution_count": 12,
   "metadata": {},
   "outputs": [
    {
     "data": {
      "text/plain": [
       "Status(ready=True, result=Result(work_id=\"408f230cb36040b78dde2b7a82566bcf\", func=<function fact at 0x00000230024F9F28>, args=[8], kwargs={}, call_count=1, repeat_count=1, evaluation_id=\"853de52b700f4c4a9c48c04159329b96\", result=40320, exception=None, start_datetime=2018-04-02 17:04:49.529466, seconds_per_call=[10.000074751849752], hostname=\"DESKTOP-EFQ7TT8\", pid=16724, thread_id=16724))"
      ]
     },
     "execution_count": 12,
     "metadata": {},
     "output_type": "execute_result"
    }
   ],
   "source": [
    "status3"
   ]
  },
  {
   "cell_type": "code",
   "execution_count": 13,
   "metadata": {},
   "outputs": [
    {
     "name": "stdout",
     "output_type": "stream",
     "text": [
      "Status(ready=False, result=None)\n",
      "Status(ready=False, result=None)\n",
      "Status(ready=False, result=None)\n",
      "Status(ready=False, result=None)\n",
      "Status(ready=False, result=None)\n",
      "Status(ready=False, result=None)\n",
      "Status(ready=False, result=None)\n",
      "Status(ready=False, result=None)\n",
      "Status(ready=False, result=None)\n",
      "Status(ready=False, result=None)\n",
      "Status(ready=False, result=None)\n",
      "Status(ready=False, result=None)\n",
      "Status(ready=False, result=None)\n",
      "Status(ready=False, result=None)\n",
      "Status(ready=False, result=None)\n",
      "Status(ready=False, result=None)\n",
      "Status(ready=False, result=None)\n",
      "Status(ready=False, result=None)\n",
      "Status(ready=False, result=None)\n",
      "Status(ready=False, result=None)\n",
      "Status(ready=False, result=None)\n",
      "Status(ready=False, result=None)\n",
      "Status(ready=False, result=None)\n",
      "Status(ready=False, result=None)\n",
      "Status(ready=False, result=None)\n"
     ]
    }
   ],
   "source": [
    "statuses = []\n",
    "for x in range(25):\n",
    "    status = evaluation.evaluate(fact, args=[x], evaluator=ipp_evaluator)\n",
    "    print(status)\n",
    "    statuses.append(status)"
   ]
  },
  {
   "cell_type": "code",
   "execution_count": 14,
   "metadata": {},
   "outputs": [
    {
     "data": {
      "text/plain": [
       "Status(ready=False, result=None)"
      ]
     },
     "execution_count": 14,
     "metadata": {},
     "output_type": "execute_result"
    }
   ],
   "source": [
    "statuses[24]"
   ]
  },
  {
   "cell_type": "code",
   "execution_count": 15,
   "metadata": {},
   "outputs": [
    {
     "data": {
      "text/plain": [
       "Status(ready=True, result=Result(work_id=\"cb256a559415427e84e099492c5ea323\", func=<function fact at 0x0000023002649F28>, args=[24], kwargs={}, call_count=1, repeat_count=1, evaluation_id=\"f78dd2a7654a46a382913f0d3f06905a\", result=620448401733239439360000, exception=None, start_datetime=2018-04-02 17:05:42.068826, seconds_per_call=[9.999987712013535], hostname=\"DESKTOP-EFQ7TT8\", pid=25292, thread_id=25292))"
      ]
     },
     "execution_count": 15,
     "metadata": {},
     "output_type": "execute_result"
    }
   ],
   "source": [
    "statuses[24]"
   ]
  }
 ],
 "metadata": {
  "kernelspec": {
   "display_name": "Python 3",
   "language": "python",
   "name": "python3"
  },
  "language_info": {
   "codemirror_mode": {
    "name": "ipython",
    "version": 3
   },
   "file_extension": ".py",
   "mimetype": "text/x-python",
   "name": "python",
   "nbconvert_exporter": "python",
   "pygments_lexer": "ipython3",
   "version": "3.6.1"
  }
 },
 "nbformat": 4,
 "nbformat_minor": 2
}
