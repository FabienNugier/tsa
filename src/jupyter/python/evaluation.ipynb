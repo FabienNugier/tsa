{
 "cells": [
  {
   "cell_type": "code",
   "execution_count": 1,
   "metadata": {
    "collapsed": true
   },
   "outputs": [],
   "source": [
    "import os, sys\n",
    "sys.path.append(os.path.abspath('../../main/python'))"
   ]
  },
  {
   "cell_type": "code",
   "execution_count": 2,
   "metadata": {
    "collapsed": true
   },
   "outputs": [],
   "source": [
    "import math\n",
    "import time\n",
    "\n",
    "import thalesians.tsa.evaluation as evaluation"
   ]
  },
  {
   "cell_type": "code",
   "execution_count": 3,
   "metadata": {
    "collapsed": true
   },
   "outputs": [],
   "source": [
    "def fact(x):\n",
    "    time.sleep(10)\n",
    "    return math.factorial(x)"
   ]
  },
  {
   "cell_type": "code",
   "execution_count": 4,
   "metadata": {
    "collapsed": true
   },
   "outputs": [],
   "source": [
    "current_thread_evaluator = evaluation.CurrentThreadEvaluator()"
   ]
  },
  {
   "cell_type": "code",
   "execution_count": 5,
   "metadata": {},
   "outputs": [
    {
     "name": "stdout",
     "output_type": "stream",
     "text": [
      "Status(ready=True, work=Work(work_id=\"c7be38c6e17e4cbf850bc03d740fb5c2\", func=<function fact at 0x000002ADA845F378>, args=[10], kwargs={}, call_count=1, repeat_count=1, info=None), result=Result(work_id=\"c7be38c6e17e4cbf850bc03d740fb5c2\", func=<function fact at 0x000002ADA845F378>, args=[10], kwargs={}, call_count=1, repeat_count=1, info=None, evaluation_id=\"ec469809b93844c8adf5400debd87031\", result=3628800, exception=None, start_datetime=2018-04-17 18:06:01.002621, seconds_per_call=[10.006839624493079], hostname=\"DESKTOP-EFQ7TT8\", pid=29936, thread_id=29936))\n"
     ]
    }
   ],
   "source": [
    "status = evaluation.evaluate(fact, args=[10], evaluator=current_thread_evaluator)\n",
    "print(status)"
   ]
  },
  {
   "cell_type": "code",
   "execution_count": 6,
   "metadata": {
    "collapsed": true
   },
   "outputs": [],
   "source": [
    "ipp_evaluator = evaluation.IPyParallelEvaluator()"
   ]
  },
  {
   "cell_type": "code",
   "execution_count": 7,
   "metadata": {},
   "outputs": [
    {
     "name": "stdout",
     "output_type": "stream",
     "text": [
      "Status(ready=False, work=Work(work_id=\"7a66871945bf4f0092a4890cf3cecf83\", func=<function fact at 0x000002ADA845F378>, args=[10], kwargs={}, call_count=1, repeat_count=1, info=None), result=None)\n"
     ]
    }
   ],
   "source": [
    "status1 = evaluation.evaluate(fact, args=[10], evaluator=ipp_evaluator)\n",
    "print(status1)"
   ]
  },
  {
   "cell_type": "code",
   "execution_count": 8,
   "metadata": {},
   "outputs": [
    {
     "name": "stdout",
     "output_type": "stream",
     "text": [
      "Status(ready=False, work=Work(work_id=\"0459a8dc2b2541b8bba9c8214463be07\", func=<function fact at 0x000002ADA845F378>, args=[8], kwargs={}, call_count=1, repeat_count=1, info=None), result=None)\n"
     ]
    }
   ],
   "source": [
    "status2 = evaluation.evaluate(fact, args=[8], evaluator=ipp_evaluator)\n",
    "print(status2)"
   ]
  },
  {
   "cell_type": "code",
   "execution_count": 9,
   "metadata": {},
   "outputs": [],
   "source": [
    "def my_callback(status):\n",
    "    print('The status is now ready:', status)\n",
    "status3 = evaluation.evaluate(fact, args=[8], evaluator=ipp_evaluator)\n",
    "status3.add_callback(my_callback)"
   ]
  },
  {
   "cell_type": "code",
   "execution_count": 10,
   "metadata": {},
   "outputs": [
    {
     "data": {
      "text/plain": [
       "Status(ready=False, work=Work(work_id=\"7a66871945bf4f0092a4890cf3cecf83\", func=<function fact at 0x000002ADA845F378>, args=[10], kwargs={}, call_count=1, repeat_count=1, info=None), result=None)"
      ]
     },
     "execution_count": 10,
     "metadata": {},
     "output_type": "execute_result"
    }
   ],
   "source": [
    "status1"
   ]
  },
  {
   "cell_type": "code",
   "execution_count": 11,
   "metadata": {},
   "outputs": [
    {
     "data": {
      "text/plain": [
       "Status(ready=False, work=Work(work_id=\"0459a8dc2b2541b8bba9c8214463be07\", func=<function fact at 0x000002ADA845F378>, args=[8], kwargs={}, call_count=1, repeat_count=1, info=None), result=None)"
      ]
     },
     "execution_count": 11,
     "metadata": {},
     "output_type": "execute_result"
    }
   ],
   "source": [
    "status2"
   ]
  },
  {
   "cell_type": "code",
   "execution_count": 12,
   "metadata": {},
   "outputs": [
    {
     "data": {
      "text/plain": [
       "Status(ready=False, work=Work(work_id=\"15c56d74e80e4aec8cf53c5b273c594b\", func=<function fact at 0x000002ADA845F378>, args=[8], kwargs={}, call_count=1, repeat_count=1, info=None), result=None)"
      ]
     },
     "execution_count": 12,
     "metadata": {},
     "output_type": "execute_result"
    }
   ],
   "source": [
    "status3"
   ]
  },
  {
   "cell_type": "code",
   "execution_count": 13,
   "metadata": {},
   "outputs": [
    {
     "name": "stdout",
     "output_type": "stream",
     "text": [
      "Status(ready=False, work=Work(work_id=\"4b8a80bc46be4e799f99909ebdec6ced\", func=<function fact at 0x000002ADA845F378>, args=[0], kwargs={}, call_count=1, repeat_count=1, info=None), result=None)\n",
      "Status(ready=False, work=Work(work_id=\"5162a92414f64143b8882e806593a161\", func=<function fact at 0x000002ADA845F378>, args=[1], kwargs={}, call_count=1, repeat_count=1, info=None), result=None)\n",
      "Status(ready=False, work=Work(work_id=\"6d0b7d41d2a04901875f18d748cf71e4\", func=<function fact at 0x000002ADA845F378>, args=[2], kwargs={}, call_count=1, repeat_count=1, info=None), result=None)\n",
      "Status(ready=False, work=Work(work_id=\"45a3c1f7fc764feb8d215ae4497e0f1a\", func=<function fact at 0x000002ADA845F378>, args=[3], kwargs={}, call_count=1, repeat_count=1, info=None), result=None)\n",
      "Status(ready=False, work=Work(work_id=\"2b64292150ca454eb649f9f15a03b1dd\", func=<function fact at 0x000002ADA845F378>, args=[4], kwargs={}, call_count=1, repeat_count=1, info=None), result=None)\n",
      "Status(ready=False, work=Work(work_id=\"3ee41bc568dc45a9812b63b9e08cbbda\", func=<function fact at 0x000002ADA845F378>, args=[5], kwargs={}, call_count=1, repeat_count=1, info=None), result=None)\n",
      "Status(ready=False, work=Work(work_id=\"cd8e0b77926d4647b1a30af2ee625824\", func=<function fact at 0x000002ADA845F378>, args=[6], kwargs={}, call_count=1, repeat_count=1, info=None), result=None)\n",
      "Status(ready=False, work=Work(work_id=\"8f1847f39b22402280145a72d23d993b\", func=<function fact at 0x000002ADA845F378>, args=[7], kwargs={}, call_count=1, repeat_count=1, info=None), result=None)\n",
      "Status(ready=False, work=Work(work_id=\"c42349493055468ab6e5b69291785458\", func=<function fact at 0x000002ADA845F378>, args=[8], kwargs={}, call_count=1, repeat_count=1, info=None), result=None)\n",
      "Status(ready=False, work=Work(work_id=\"eb5145e5d08342198478b561b59fbf32\", func=<function fact at 0x000002ADA845F378>, args=[9], kwargs={}, call_count=1, repeat_count=1, info=None), result=None)\n",
      "Status(ready=False, work=Work(work_id=\"badfa4ad1a464ed18e2da970d408aad1\", func=<function fact at 0x000002ADA845F378>, args=[10], kwargs={}, call_count=1, repeat_count=1, info=None), result=None)\n",
      "Status(ready=False, work=Work(work_id=\"90f1070a59d94062978ee61075ce3ec7\", func=<function fact at 0x000002ADA845F378>, args=[11], kwargs={}, call_count=1, repeat_count=1, info=None), result=None)\n",
      "Status(ready=False, work=Work(work_id=\"7f2470c569774f64b1838c771a3590cd\", func=<function fact at 0x000002ADA845F378>, args=[12], kwargs={}, call_count=1, repeat_count=1, info=None), result=None)\n",
      "Status(ready=False, work=Work(work_id=\"ca92ff42b8dd4f9d9789c29cd1f2bbbc\", func=<function fact at 0x000002ADA845F378>, args=[13], kwargs={}, call_count=1, repeat_count=1, info=None), result=None)\n",
      "Status(ready=False, work=Work(work_id=\"e4a09774964943ada232f0b8f324fa8a\", func=<function fact at 0x000002ADA845F378>, args=[14], kwargs={}, call_count=1, repeat_count=1, info=None), result=None)\n",
      "Status(ready=False, work=Work(work_id=\"8dc9cd2865ae4a1fbbc8bd93369509c9\", func=<function fact at 0x000002ADA845F378>, args=[15], kwargs={}, call_count=1, repeat_count=1, info=None), result=None)\n",
      "Status(ready=False, work=Work(work_id=\"c926536cae3545bbbe7e975290dba2e1\", func=<function fact at 0x000002ADA845F378>, args=[16], kwargs={}, call_count=1, repeat_count=1, info=None), result=None)\n",
      "Status(ready=False, work=Work(work_id=\"fa67da0c96af46808a8b7fe4440e7211\", func=<function fact at 0x000002ADA845F378>, args=[17], kwargs={}, call_count=1, repeat_count=1, info=None), result=None)\n",
      "Status(ready=False, work=Work(work_id=\"a20341fe9c534859b14337dfeb141d27\", func=<function fact at 0x000002ADA845F378>, args=[18], kwargs={}, call_count=1, repeat_count=1, info=None), result=None)\n",
      "Status(ready=False, work=Work(work_id=\"be5df069b7f84ddaba4184ee6a7e01a7\", func=<function fact at 0x000002ADA845F378>, args=[19], kwargs={}, call_count=1, repeat_count=1, info=None), result=None)\n",
      "Status(ready=False, work=Work(work_id=\"7bd6ee0a944b406d98b5824dc48ab672\", func=<function fact at 0x000002ADA845F378>, args=[20], kwargs={}, call_count=1, repeat_count=1, info=None), result=None)\n",
      "Status(ready=False, work=Work(work_id=\"10b08fb55e1f407c8af3cd40cb62d855\", func=<function fact at 0x000002ADA845F378>, args=[21], kwargs={}, call_count=1, repeat_count=1, info=None), result=None)\n",
      "Status(ready=False, work=Work(work_id=\"8db9c71f62e54d86b15ebcde094736ea\", func=<function fact at 0x000002ADA845F378>, args=[22], kwargs={}, call_count=1, repeat_count=1, info=None), result=None)\n",
      "Status(ready=False, work=Work(work_id=\"04f949ef8d124b1b9034b11c7122376c\", func=<function fact at 0x000002ADA845F378>, args=[23], kwargs={}, call_count=1, repeat_count=1, info=None), result=None)\n",
      "Status(ready=False, work=Work(work_id=\"fb87a30505044c939133f8571587038d\", func=<function fact at 0x000002ADA845F378>, args=[24], kwargs={}, call_count=1, repeat_count=1, info=None), result=None)\n",
      "The status is now ready: Status(ready=True, work=Work(work_id=\"15c56d74e80e4aec8cf53c5b273c594b\", func=<function fact at 0x000002ADA845F378>, args=[8], kwargs={}, call_count=1, repeat_count=1, info=None), result=Result(work_id=\"15c56d74e80e4aec8cf53c5b273c594b\", func=<function fact at 0x000002ADA9934158>, args=[8], kwargs={}, call_count=1, repeat_count=1, info=None, evaluation_id=\"964222a2b3e848368e073c15e6d53a83\", result=40320, exception=None, start_datetime=2018-04-17 18:06:17.968407, seconds_per_call=[10.000258388848579], hostname=\"DESKTOP-EFQ7TT8\", pid=18792, thread_id=18792))\n"
     ]
    }
   ],
   "source": [
    "statuses = []\n",
    "for x in range(25):\n",
    "    status = evaluation.evaluate(fact, args=[x], evaluator=ipp_evaluator)\n",
    "    print(status)\n",
    "    statuses.append(status)"
   ]
  },
  {
   "cell_type": "code",
   "execution_count": 14,
   "metadata": {},
   "outputs": [
    {
     "data": {
      "text/plain": [
       "Status(ready=False, work=Work(work_id=\"fb87a30505044c939133f8571587038d\", func=<function fact at 0x000002ADA845F378>, args=[24], kwargs={}, call_count=1, repeat_count=1, info=None), result=None)"
      ]
     },
     "execution_count": 14,
     "metadata": {},
     "output_type": "execute_result"
    }
   ],
   "source": [
    "statuses[24]"
   ]
  },
  {
   "cell_type": "code",
   "execution_count": 15,
   "metadata": {},
   "outputs": [
    {
     "data": {
      "text/plain": [
       "Status(ready=True, work=Work(work_id=\"fb87a30505044c939133f8571587038d\", func=<function fact at 0x000002ADA845F378>, args=[24], kwargs={}, call_count=1, repeat_count=1, info=None), result=Result(work_id=\"fb87a30505044c939133f8571587038d\", func=<function fact at 0x000002ADA99D5D90>, args=[24], kwargs={}, call_count=1, repeat_count=1, info=None, evaluation_id=\"e7374bc1711b4907a236db39cc4de910\", result=620448401733239439360000, exception=None, start_datetime=2018-04-17 18:06:54.847124, seconds_per_call=[9.98735703706825], hostname=\"DESKTOP-EFQ7TT8\", pid=17840, thread_id=17840))"
      ]
     },
     "execution_count": 15,
     "metadata": {},
     "output_type": "execute_result"
    }
   ],
   "source": [
    "statuses[24]"
   ]
  }
 ],
 "metadata": {
  "kernelspec": {
   "display_name": "Python 3",
   "language": "python",
   "name": "python3"
  },
  "language_info": {
   "codemirror_mode": {
    "name": "ipython",
    "version": 3
   },
   "file_extension": ".py",
   "mimetype": "text/x-python",
   "name": "python",
   "nbconvert_exporter": "python",
   "pygments_lexer": "ipython3",
   "version": "3.6.1"
  }
 },
 "nbformat": 4,
 "nbformat_minor": 2
}
