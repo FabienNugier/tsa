{
 "cells": [
  {
   "cell_type": "code",
   "execution_count": 1,
   "metadata": {
    "collapsed": true
   },
   "outputs": [],
   "source": [
    "import os, sys\n",
    "sys.path.append(os.path.abspath('../../main/python'))"
   ]
  },
  {
   "cell_type": "code",
   "execution_count": 2,
   "metadata": {
    "collapsed": true
   },
   "outputs": [],
   "source": [
    "import math\n",
    "import time\n",
    "\n",
    "import thalesians.tsa.evaluation as evaluation"
   ]
  },
  {
   "cell_type": "code",
   "execution_count": 3,
   "metadata": {
    "collapsed": true
   },
   "outputs": [],
   "source": [
    "def fact(x):\n",
    "    time.sleep(10)\n",
    "    return math.factorial(x)"
   ]
  },
  {
   "cell_type": "code",
   "execution_count": 4,
   "metadata": {
    "collapsed": true
   },
   "outputs": [],
   "source": [
    "current_thread_evaluator = evaluation.CurrentThreadEvaluator()"
   ]
  },
  {
   "cell_type": "code",
   "execution_count": 5,
   "metadata": {},
   "outputs": [
    {
     "name": "stdout",
     "output_type": "stream",
     "text": [
      "Status(ready=True, work=Work(work_id=\"20be2b14dcbc4836a98da7d34e50a9c2\", func=<function fact at 0x000002280A670378>, args=[10], kwargs={}, call_count=1, repeat_count=1, info=None), result=Result(work_id=\"20be2b14dcbc4836a98da7d34e50a9c2\", func=<function fact at 0x000002280A670378>, args=[10], kwargs={}, call_count=1, repeat_count=1, info=None, evaluation_id=\"81ee140942534854bf846ef96867bb17\", result=3628800, exception=None, start_datetime=2018-05-02 14:30:40.640060, seconds_per_call=[9.999702357892108], hostname=\"DESKTOP-EFQ7TT8\", pid=8100, thread_id=8100))\n"
     ]
    }
   ],
   "source": [
    "status = evaluation.evaluate(fact, args=[10], evaluator=current_thread_evaluator)\n",
    "print(status)"
   ]
  },
  {
   "cell_type": "code",
   "execution_count": 6,
   "metadata": {
    "collapsed": true
   },
   "outputs": [],
   "source": [
    "ipp_evaluator = evaluation.IPyParallelEvaluator()"
   ]
  },
  {
   "cell_type": "code",
   "execution_count": 7,
   "metadata": {},
   "outputs": [
    {
     "name": "stdout",
     "output_type": "stream",
     "text": [
      "Status(ready=False, work=Work(work_id=\"10e2e65a45364d27883c1d0a70c18a6b\", func=<function fact at 0x000002280A670378>, args=[10], kwargs={}, call_count=1, repeat_count=1, info=None), result=None)\n"
     ]
    }
   ],
   "source": [
    "status1 = evaluation.evaluate(fact, args=[10], evaluator=ipp_evaluator)\n",
    "print(status1)"
   ]
  },
  {
   "cell_type": "code",
   "execution_count": 8,
   "metadata": {},
   "outputs": [
    {
     "name": "stdout",
     "output_type": "stream",
     "text": [
      "Status(ready=False, work=Work(work_id=\"98b96af28a4a40b097b343e9ae8b3648\", func=<function fact at 0x000002280A670378>, args=[8], kwargs={}, call_count=1, repeat_count=1, info=None), result=None)\n"
     ]
    }
   ],
   "source": [
    "status2 = evaluation.evaluate(fact, args=[8], evaluator=ipp_evaluator)\n",
    "print(status2)"
   ]
  },
  {
   "cell_type": "code",
   "execution_count": 9,
   "metadata": {},
   "outputs": [
    {
     "name": "stdout",
     "output_type": "stream",
     "text": [
      "The status is now ready: Status(ready=True, work=Work(work_id=\"68371ec6bb2b4a93a95f9107f26b1862\", func=<function fact at 0x000002280A670378>, args=[8], kwargs={}, call_count=1, repeat_count=1, info=None), result=Result(work_id=\"68371ec6bb2b4a93a95f9107f26b1862\", func=<function fact at 0x000002280BA82AE8>, args=[8], kwargs={}, call_count=1, repeat_count=1, info=None, evaluation_id=\"4edcf415c79b44a98b11f52353998881\", result=40320, exception=None, start_datetime=2018-05-02 14:30:57.821940, seconds_per_call=[9.999730688519776], hostname=\"DESKTOP-EFQ7TT8\", pid=31904, thread_id=31904))\n"
     ]
    }
   ],
   "source": [
    "def my_callback(status):\n",
    "    print('The status is now ready:', status)\n",
    "status3 = evaluation.evaluate(fact, args=[8], evaluator=ipp_evaluator)\n",
    "status3.add_callback(my_callback)"
   ]
  },
  {
   "cell_type": "code",
   "execution_count": 10,
   "metadata": {},
   "outputs": [
    {
     "data": {
      "text/plain": [
       "Status(ready=True, work=Work(work_id=\"10e2e65a45364d27883c1d0a70c18a6b\", func=<function fact at 0x000002280A670378>, args=[10], kwargs={}, call_count=1, repeat_count=1, info=None), result=Result(work_id=\"10e2e65a45364d27883c1d0a70c18a6b\", func=<function fact at 0x000002280BA7C510>, args=[10], kwargs={}, call_count=1, repeat_count=1, info=None, evaluation_id=\"c6b1f30154a746b0b2d11ff68f7bf353\", result=3628800, exception=None, start_datetime=2018-05-02 14:30:55.453860, seconds_per_call=[10.000619177473709], hostname=\"DESKTOP-EFQ7TT8\", pid=14756, thread_id=14756))"
      ]
     },
     "execution_count": 10,
     "metadata": {},
     "output_type": "execute_result"
    }
   ],
   "source": [
    "status1"
   ]
  },
  {
   "cell_type": "code",
   "execution_count": 11,
   "metadata": {},
   "outputs": [
    {
     "data": {
      "text/plain": [
       "Status(ready=True, work=Work(work_id=\"98b96af28a4a40b097b343e9ae8b3648\", func=<function fact at 0x000002280A670378>, args=[8], kwargs={}, call_count=1, repeat_count=1, info=None), result=Result(work_id=\"98b96af28a4a40b097b343e9ae8b3648\", func=<function fact at 0x000002280BA82048>, args=[8], kwargs={}, call_count=1, repeat_count=1, info=None, evaluation_id=\"277606deb7184f28a58492d830ef6487\", result=40320, exception=None, start_datetime=2018-05-02 14:30:57.101663, seconds_per_call=[9.999643307353836], hostname=\"DESKTOP-EFQ7TT8\", pid=13676, thread_id=13676))"
      ]
     },
     "execution_count": 11,
     "metadata": {},
     "output_type": "execute_result"
    }
   ],
   "source": [
    "status2"
   ]
  },
  {
   "cell_type": "code",
   "execution_count": 12,
   "metadata": {},
   "outputs": [
    {
     "data": {
      "text/plain": [
       "Status(ready=True, work=Work(work_id=\"68371ec6bb2b4a93a95f9107f26b1862\", func=<function fact at 0x000002280A670378>, args=[8], kwargs={}, call_count=1, repeat_count=1, info=None), result=Result(work_id=\"68371ec6bb2b4a93a95f9107f26b1862\", func=<function fact at 0x000002280BA82AE8>, args=[8], kwargs={}, call_count=1, repeat_count=1, info=None, evaluation_id=\"4edcf415c79b44a98b11f52353998881\", result=40320, exception=None, start_datetime=2018-05-02 14:30:57.821940, seconds_per_call=[9.999730688519776], hostname=\"DESKTOP-EFQ7TT8\", pid=31904, thread_id=31904))"
      ]
     },
     "execution_count": 12,
     "metadata": {},
     "output_type": "execute_result"
    }
   ],
   "source": [
    "status3"
   ]
  },
  {
   "cell_type": "code",
   "execution_count": 13,
   "metadata": {},
   "outputs": [
    {
     "name": "stdout",
     "output_type": "stream",
     "text": [
      "Status(ready=False, work=Work(work_id=\"5690dfb1a12e438b9b4c5a2f955b2e4d\", func=<function fact at 0x000002280A670378>, args=[0], kwargs={}, call_count=1, repeat_count=1, info=None), result=None)\n",
      "Status(ready=False, work=Work(work_id=\"61ca64d597f7469ab88ea8c4277b370a\", func=<function fact at 0x000002280A670378>, args=[1], kwargs={}, call_count=1, repeat_count=1, info=None), result=None)\n",
      "Status(ready=False, work=Work(work_id=\"59f4f2edafcb4185ab34f042e5349a42\", func=<function fact at 0x000002280A670378>, args=[2], kwargs={}, call_count=1, repeat_count=1, info=None), result=None)\n",
      "Status(ready=False, work=Work(work_id=\"3968cc9539d646bf9a40a6e1ac0eb6ca\", func=<function fact at 0x000002280A670378>, args=[3], kwargs={}, call_count=1, repeat_count=1, info=None), result=None)\n",
      "Status(ready=False, work=Work(work_id=\"cad49f44fdc045a4a1b49e715ba01219\", func=<function fact at 0x000002280A670378>, args=[4], kwargs={}, call_count=1, repeat_count=1, info=None), result=None)\n",
      "Status(ready=False, work=Work(work_id=\"30328f60b2b9416a8e3af9a538b41e6e\", func=<function fact at 0x000002280A670378>, args=[5], kwargs={}, call_count=1, repeat_count=1, info=None), result=None)\n",
      "Status(ready=False, work=Work(work_id=\"57e4e152d0c044d1b8da41d46ede31ec\", func=<function fact at 0x000002280A670378>, args=[6], kwargs={}, call_count=1, repeat_count=1, info=None), result=None)\n",
      "Status(ready=False, work=Work(work_id=\"bae5789701d74e9dab235d1746dd5731\", func=<function fact at 0x000002280A670378>, args=[7], kwargs={}, call_count=1, repeat_count=1, info=None), result=None)\n",
      "Status(ready=False, work=Work(work_id=\"42df836f83954abaaf1682e2cfdbac42\", func=<function fact at 0x000002280A670378>, args=[8], kwargs={}, call_count=1, repeat_count=1, info=None), result=None)\n",
      "Status(ready=False, work=Work(work_id=\"12c05805fd9b4c9f83fb8781a223bdc3\", func=<function fact at 0x000002280A670378>, args=[9], kwargs={}, call_count=1, repeat_count=1, info=None), result=None)\n",
      "Status(ready=False, work=Work(work_id=\"b6c5c721fc9a464fb6ca5aec4f2038ef\", func=<function fact at 0x000002280A670378>, args=[10], kwargs={}, call_count=1, repeat_count=1, info=None), result=None)\n",
      "Status(ready=False, work=Work(work_id=\"f39019e3d7f04cc5aa5d4b27bc14dde4\", func=<function fact at 0x000002280A670378>, args=[11], kwargs={}, call_count=1, repeat_count=1, info=None), result=None)\n",
      "Status(ready=False, work=Work(work_id=\"3c36d413e3a94b739744f51904df0a39\", func=<function fact at 0x000002280A670378>, args=[12], kwargs={}, call_count=1, repeat_count=1, info=None), result=None)\n",
      "Status(ready=False, work=Work(work_id=\"1f108626ca6d4e388c8e230de3081bc2\", func=<function fact at 0x000002280A670378>, args=[13], kwargs={}, call_count=1, repeat_count=1, info=None), result=None)\n",
      "Status(ready=False, work=Work(work_id=\"009c066caf5f4b089ceee96e2a49e48f\", func=<function fact at 0x000002280A670378>, args=[14], kwargs={}, call_count=1, repeat_count=1, info=None), result=None)\n",
      "Status(ready=False, work=Work(work_id=\"34d158a262b04127a90a0ec6c7fca443\", func=<function fact at 0x000002280A670378>, args=[15], kwargs={}, call_count=1, repeat_count=1, info=None), result=None)\n",
      "Status(ready=False, work=Work(work_id=\"11ad346121c64c0b9b3a8d36af1fdf23\", func=<function fact at 0x000002280A670378>, args=[16], kwargs={}, call_count=1, repeat_count=1, info=None), result=None)\n",
      "Status(ready=False, work=Work(work_id=\"f6a2d4ebc34b489cb1dfb143df3b7169\", func=<function fact at 0x000002280A670378>, args=[17], kwargs={}, call_count=1, repeat_count=1, info=None), result=None)\n",
      "Status(ready=False, work=Work(work_id=\"9e7dfd97069f4134930cb0fb7c660ff8\", func=<function fact at 0x000002280A670378>, args=[18], kwargs={}, call_count=1, repeat_count=1, info=None), result=None)\n",
      "Status(ready=False, work=Work(work_id=\"5f116a8d61194c79b74fdac639035489\", func=<function fact at 0x000002280A670378>, args=[19], kwargs={}, call_count=1, repeat_count=1, info=None), result=None)\n",
      "Status(ready=False, work=Work(work_id=\"8ffa059a110f4183ac5d17ddbe5621cb\", func=<function fact at 0x000002280A670378>, args=[20], kwargs={}, call_count=1, repeat_count=1, info=None), result=None)\n",
      "Status(ready=False, work=Work(work_id=\"d880df9b31924f68bf17860b54247df3\", func=<function fact at 0x000002280A670378>, args=[21], kwargs={}, call_count=1, repeat_count=1, info=None), result=None)\n",
      "Status(ready=False, work=Work(work_id=\"7448320b8d9f4597a8418624cc886e2d\", func=<function fact at 0x000002280A670378>, args=[22], kwargs={}, call_count=1, repeat_count=1, info=None), result=None)\n",
      "Status(ready=False, work=Work(work_id=\"d8150d467b0d41a388f5b9ae6c01788a\", func=<function fact at 0x000002280A670378>, args=[23], kwargs={}, call_count=1, repeat_count=1, info=None), result=None)\n",
      "Status(ready=False, work=Work(work_id=\"79548dac6e1c49a9ae45ddbafa3549e5\", func=<function fact at 0x000002280A670378>, args=[24], kwargs={}, call_count=1, repeat_count=1, info=None), result=None)\n"
     ]
    }
   ],
   "source": [
    "statuses = []\n",
    "for x in range(25):\n",
    "    status = evaluation.evaluate(fact, args=[x], evaluator=ipp_evaluator)\n",
    "    print(status)\n",
    "    statuses.append(status)"
   ]
  },
  {
   "cell_type": "code",
   "execution_count": 14,
   "metadata": {},
   "outputs": [
    {
     "data": {
      "text/plain": [
       "Status(ready=False, work=Work(work_id=\"79548dac6e1c49a9ae45ddbafa3549e5\", func=<function fact at 0x000002280A670378>, args=[24], kwargs={}, call_count=1, repeat_count=1, info=None), result=None)"
      ]
     },
     "execution_count": 14,
     "metadata": {},
     "output_type": "execute_result"
    }
   ],
   "source": [
    "statuses[24]"
   ]
  },
  {
   "cell_type": "code",
   "execution_count": 15,
   "metadata": {},
   "outputs": [
    {
     "data": {
      "text/plain": [
       "Status(ready=True, work=Work(work_id=\"79548dac6e1c49a9ae45ddbafa3549e5\", func=<function fact at 0x000002280A670378>, args=[24], kwargs={}, call_count=1, repeat_count=1, info=None), result=Result(work_id=\"79548dac6e1c49a9ae45ddbafa3549e5\", func=<function fact at 0x000002280BBE8D90>, args=[24], kwargs={}, call_count=1, repeat_count=1, info=None, evaluation_id=\"75ab049f62704822aa6c46ed52318784\", result=620448401733239439360000, exception=None, start_datetime=2018-05-02 14:33:23.676178, seconds_per_call=[10.00059391889954], hostname=\"DESKTOP-EFQ7TT8\", pid=33024, thread_id=33024))"
      ]
     },
     "execution_count": 15,
     "metadata": {},
     "output_type": "execute_result"
    }
   ],
   "source": [
    "statuses[24]"
   ]
  }
 ],
 "metadata": {
  "kernelspec": {
   "display_name": "Python 3",
   "language": "python",
   "name": "python3"
  },
  "language_info": {
   "codemirror_mode": {
    "name": "ipython",
    "version": 3
   },
   "file_extension": ".py",
   "mimetype": "text/x-python",
   "name": "python",
   "nbconvert_exporter": "python",
   "pygments_lexer": "ipython3",
   "version": "3.6.1"
  }
 },
 "nbformat": 4,
 "nbformat_minor": 2
}
