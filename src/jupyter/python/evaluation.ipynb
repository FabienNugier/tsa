{
 "cells": [
  {
   "cell_type": "code",
   "execution_count": 27,
   "metadata": {
    "collapsed": true
   },
   "outputs": [],
   "source": [
    "import os, sys\n",
    "sys.path.append(os.path.abspath('../../main/python'))"
   ]
  },
  {
   "cell_type": "code",
   "execution_count": 93,
   "metadata": {},
   "outputs": [
    {
     "data": {
      "text/plain": [
       "<module 'thalesians.tsa.evaluation' from 'S:\\\\dev\\\\tsa\\\\src\\\\main\\\\python\\\\thalesians\\\\tsa\\\\evaluation.py'>"
      ]
     },
     "execution_count": 93,
     "metadata": {},
     "output_type": "execute_result"
    }
   ],
   "source": [
    "import math\n",
    "import time\n",
    "\n",
    "import thalesians.tsa.evaluation as evaluation\n",
    "\n",
    "import importlib\n",
    "importlib.reload(evaluation)"
   ]
  },
  {
   "cell_type": "code",
   "execution_count": 92,
   "metadata": {
    "collapsed": true
   },
   "outputs": [],
   "source": [
    "def fact(x):\n",
    "    time.sleep(10)\n",
    "    return math.factorial(x)"
   ]
  },
  {
   "cell_type": "code",
   "execution_count": 95,
   "metadata": {},
   "outputs": [],
   "source": [
    "current_thread_evaluator = evaluation.CurrentThreadEvaluator()"
   ]
  },
  {
   "cell_type": "code",
   "execution_count": 96,
   "metadata": {},
   "outputs": [
    {
     "name": "stdout",
     "output_type": "stream",
     "text": [
      "Status(ready=True, result=Result(work_id=\"ebd1245962b3467c9350fb5da49eb049\", func=<function fact at 0x0000026135FE49D8>, args=[10], kwargs={}, call_count=1, repeat_count=1, evaluation_id=\"35b0f75d346e4dfbbaa7fbd73c9679f3\", result=3628800, exception=None, start_datetime=2018-03-29 15:10:37.813532, seconds_per_call=[10.010615788070627], hostname=\"DESKTOP-EFQ7TT8\", pid=20376, thread_id=20376))\n"
     ]
    }
   ],
   "source": [
    "status = evaluation.evaluate(fact, args=[10], evaluator=current_thread_evaluator)\n",
    "print(status)"
   ]
  },
  {
   "cell_type": "code",
   "execution_count": 100,
   "metadata": {},
   "outputs": [
    {
     "name": "stdout",
     "output_type": "stream",
     "text": [
      "<multiprocessing.pool.ApplyResult object at 0x0000026135F74D30>\n"
     ]
    }
   ],
   "source": [
    "import multiprocessing as mp\n",
    "pool = mp.Pool(5)\n",
    "result = pool.apply_async(fact, args=[10])\n",
    "print(result)"
   ]
  },
  {
   "cell_type": "code",
   "execution_count": 112,
   "metadata": {},
   "outputs": [
    {
     "data": {
      "text/plain": [
       "False"
      ]
     },
     "execution_count": 112,
     "metadata": {},
     "output_type": "execute_result"
    }
   ],
   "source": [
    "result.ready()"
   ]
  },
  {
   "cell_type": "code",
   "execution_count": 111,
   "metadata": {},
   "outputs": [],
   "source": [
    "result._callback = lambda x: print('done', x)"
   ]
  },
  {
   "cell_type": "code",
   "execution_count": 97,
   "metadata": {
    "collapsed": true
   },
   "outputs": [],
   "source": [
    "ipp_evaluator = evaluation.IPyParallelEvaluator()"
   ]
  },
  {
   "cell_type": "code",
   "execution_count": 98,
   "metadata": {},
   "outputs": [
    {
     "name": "stdout",
     "output_type": "stream",
     "text": [
      "Status(ready=False, result=None)\n"
     ]
    }
   ],
   "source": [
    "status1 = evaluation.evaluate(fact, args=[10], evaluator=ipp_evaluator)\n",
    "print(status1)"
   ]
  },
  {
   "cell_type": "code",
   "execution_count": 46,
   "metadata": {},
   "outputs": [
    {
     "data": {
      "text/plain": [
       "Status(ready=True, result=Result(work_id=\"330c4954eab54010aa1d7e355460630a\", func=<function fact at 0x0000026134779268>, args=[10], kwargs={}, call_count=1, repeat_count=1, evaluation_id=\"0bfe856d9d224687aac78ae37dcb132c\", result=3628800, exception=None, start_datetime=2018-03-29 14:06:38.686878, seconds_per_call=[9.999482539637938], hostname=\"DESKTOP-EFQ7TT8\", pid=28392, thread_id=28392))"
      ]
     },
     "execution_count": 46,
     "metadata": {},
     "output_type": "execute_result"
    }
   ],
   "source": [
    "status1"
   ]
  },
  {
   "cell_type": "code",
   "execution_count": 40,
   "metadata": {},
   "outputs": [
    {
     "name": "stdout",
     "output_type": "stream",
     "text": [
      "Status(ready=False, result=None)\n"
     ]
    }
   ],
   "source": [
    "status2 = evaluation.evaluate(fact, args=[8])\n",
    "print(status2)"
   ]
  },
  {
   "cell_type": "code",
   "execution_count": 47,
   "metadata": {},
   "outputs": [
    {
     "data": {
      "text/plain": [
       "Status(ready=True, result=Result(work_id=\"7db0e090a05541518da5bbc3967e3e54\", func=<function fact at 0x0000026134779D08>, args=[8], kwargs={}, call_count=1, repeat_count=1, evaluation_id=\"63adecaa0504455f89da58b8002a0154\", result=40320, exception=None, start_datetime=2018-03-29 14:06:39.571877, seconds_per_call=[10.00783495062452], hostname=\"DESKTOP-EFQ7TT8\", pid=16724, thread_id=16724))"
      ]
     },
     "execution_count": 47,
     "metadata": {},
     "output_type": "execute_result"
    }
   ],
   "source": [
    "status2"
   ]
  },
  {
   "cell_type": "code",
   "execution_count": 91,
   "metadata": {},
   "outputs": [
    {
     "name": "stdout",
     "output_type": "stream",
     "text": [
      "The status is now ready: Status(ready=True, result=Result(work_id=\"09463a53979d4d7bb1cd0bdec06263e5\", func=<function fact at 0x0000026135FE46A8>, args=[8], kwargs={}, call_count=1, repeat_count=1, evaluation_id=\"213844d3c67a49d0a6d0c99588949f60\", result=40320, exception=None, start_datetime=2018-03-29 14:40:30.916713, seconds_per_call=[9.999365121191886], hostname=\"DESKTOP-EFQ7TT8\", pid=3000, thread_id=3000))\n"
     ]
    }
   ],
   "source": [
    "def my_callback(status):\n",
    "    print('The status is now ready:', status)\n",
    "status3 = evaluation.evaluate(fact, args=[8])\n",
    "status3.add_callback(my_callback)"
   ]
  },
  {
   "cell_type": "code",
   "execution_count": 48,
   "metadata": {},
   "outputs": [
    {
     "name": "stdout",
     "output_type": "stream",
     "text": [
      "Status(ready=False, result=None)\n",
      "Status(ready=False, result=None)\n",
      "Status(ready=False, result=None)\n",
      "Status(ready=False, result=None)\n",
      "Status(ready=False, result=None)\n",
      "Status(ready=False, result=None)\n",
      "Status(ready=False, result=None)\n",
      "Status(ready=False, result=None)\n",
      "Status(ready=False, result=None)\n",
      "Status(ready=False, result=None)\n",
      "Status(ready=False, result=None)\n",
      "Status(ready=False, result=None)\n",
      "Status(ready=False, result=None)\n",
      "Status(ready=False, result=None)\n",
      "Status(ready=False, result=None)\n",
      "Status(ready=False, result=None)\n",
      "Status(ready=False, result=None)\n",
      "Status(ready=False, result=None)\n",
      "Status(ready=False, result=None)\n",
      "Status(ready=False, result=None)\n",
      "Status(ready=False, result=None)\n",
      "Status(ready=False, result=None)\n",
      "Status(ready=False, result=None)\n",
      "Status(ready=False, result=None)\n",
      "Status(ready=False, result=None)\n"
     ]
    }
   ],
   "source": [
    "statuses = []\n",
    "for x in range(25):\n",
    "    status = evaluation.evaluate(fact, args=[x])\n",
    "    print(status)\n",
    "    statuses.append(status)"
   ]
  },
  {
   "cell_type": "code",
   "execution_count": 86,
   "metadata": {},
   "outputs": [
    {
     "data": {
      "text/plain": [
       "Status(ready=True, result=Result(work_id=\"e29d4fdc42ae45928bd63669c9c60156\", func=<function fact at 0x0000026135F2A2F0>, args=[24], kwargs={}, call_count=1, repeat_count=1, evaluation_id=\"b3efa4c514254712aeee6e5461437d93\", result=620448401733239439360000, exception=None, start_datetime=2018-03-29 14:08:30.778559, seconds_per_call=[10.00064307079274], hostname=\"DESKTOP-EFQ7TT8\", pid=25292, thread_id=25292))"
      ]
     },
     "execution_count": 86,
     "metadata": {},
     "output_type": "execute_result"
    }
   ],
   "source": [
    "statuses[24]"
   ]
  }
 ],
 "metadata": {
  "kernelspec": {
   "display_name": "Python 3",
   "language": "python",
   "name": "python3"
  },
  "language_info": {
   "codemirror_mode": {
    "name": "ipython",
    "version": 3
   },
   "file_extension": ".py",
   "mimetype": "text/x-python",
   "name": "python",
   "nbconvert_exporter": "python",
   "pygments_lexer": "ipython3",
   "version": "3.6.1"
  }
 },
 "nbformat": 4,
 "nbformat_minor": 2
}
