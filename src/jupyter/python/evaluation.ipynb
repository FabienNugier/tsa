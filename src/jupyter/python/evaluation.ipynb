{
 "cells": [
  {
   "cell_type": "code",
   "execution_count": 1,
   "metadata": {
    "collapsed": true
   },
   "outputs": [],
   "source": [
    "import os, sys\n",
    "sys.path.append(os.path.abspath('../../main/python'))"
   ]
  },
  {
   "cell_type": "code",
   "execution_count": 2,
   "metadata": {
    "collapsed": true
   },
   "outputs": [],
   "source": [
    "import math\n",
    "import time\n",
    "\n",
    "import thalesians.tsa.evaluation as evaluation"
   ]
  },
  {
   "cell_type": "code",
   "execution_count": 3,
   "metadata": {
    "collapsed": true
   },
   "outputs": [],
   "source": [
    "def fact(x):\n",
    "    time.sleep(10)\n",
    "    return math.factorial(x)"
   ]
  },
  {
   "cell_type": "code",
   "execution_count": 4,
   "metadata": {
    "collapsed": true
   },
   "outputs": [],
   "source": [
    "current_thread_evaluator = evaluation.CurrentThreadEvaluator()"
   ]
  },
  {
   "cell_type": "code",
   "execution_count": 5,
   "metadata": {},
   "outputs": [
    {
     "name": "stdout",
     "output_type": "stream",
     "text": [
      "Status(ready=True, work=Work(work_id=\"ab1bd8fbe2fb4bf583056f2ea98490bb\", func=<function fact at 0x0000026138E70378>, args=[10], kwargs={}, call_count=1, repeat_count=1, info=None), result=Result(work_id=\"ab1bd8fbe2fb4bf583056f2ea98490bb\", func=<function fact at 0x0000026138E70378>, args=[10], kwargs={}, call_count=1, repeat_count=1, info=None, evaluation_id=\"60b2e2ad17ab4d6f96a1526c9725c7c9\", result=3628800, exception=None, start_datetime=2018-04-12 13:46:17.813055, seconds_per_call=[10.002964133102001], hostname=\"DESKTOP-EFQ7TT8\", pid=23196, thread_id=23196))\n"
     ]
    }
   ],
   "source": [
    "status = evaluation.evaluate(fact, args=[10], evaluator=current_thread_evaluator)\n",
    "print(status)"
   ]
  },
  {
   "cell_type": "code",
   "execution_count": 6,
   "metadata": {
    "collapsed": true
   },
   "outputs": [],
   "source": [
    "ipp_evaluator = evaluation.IPyParallelEvaluator()"
   ]
  },
  {
   "cell_type": "code",
   "execution_count": 7,
   "metadata": {},
   "outputs": [
    {
     "name": "stdout",
     "output_type": "stream",
     "text": [
      "Status(ready=False, work=Work(work_id=\"df405b2b668c4752a033f2737f26f11a\", func=<function fact at 0x0000026138E70378>, args=[10], kwargs={}, call_count=1, repeat_count=1, info=None), result=None)\n"
     ]
    }
   ],
   "source": [
    "status1 = evaluation.evaluate(fact, args=[10], evaluator=ipp_evaluator)\n",
    "print(status1)"
   ]
  },
  {
   "cell_type": "code",
   "execution_count": 8,
   "metadata": {},
   "outputs": [
    {
     "name": "stdout",
     "output_type": "stream",
     "text": [
      "Status(ready=False, work=Work(work_id=\"6e3aa92f40b44dddb7e9992b0a3e3ae9\", func=<function fact at 0x0000026138E70378>, args=[8], kwargs={}, call_count=1, repeat_count=1, info=None), result=None)\n"
     ]
    }
   ],
   "source": [
    "status2 = evaluation.evaluate(fact, args=[8], evaluator=ipp_evaluator)\n",
    "print(status2)"
   ]
  },
  {
   "cell_type": "code",
   "execution_count": 9,
   "metadata": {},
   "outputs": [],
   "source": [
    "def my_callback(status):\n",
    "    print('The status is now ready:', status)\n",
    "status3 = evaluation.evaluate(fact, args=[8], evaluator=ipp_evaluator)\n",
    "status3.add_callback(my_callback)"
   ]
  },
  {
   "cell_type": "code",
   "execution_count": 10,
   "metadata": {},
   "outputs": [
    {
     "data": {
      "text/plain": [
       "Status(ready=False, work=Work(work_id=\"df405b2b668c4752a033f2737f26f11a\", func=<function fact at 0x0000026138E70378>, args=[10], kwargs={}, call_count=1, repeat_count=1, info=None), result=None)"
      ]
     },
     "execution_count": 10,
     "metadata": {},
     "output_type": "execute_result"
    },
    {
     "name": "stdout",
     "output_type": "stream",
     "text": [
      "The status is now ready: Status(ready=True, work=Work(work_id=\"e139c5f31bba414f8fbc0fafd598d85a\", func=<function fact at 0x0000026138E70378>, args=[8], kwargs={}, call_count=1, repeat_count=1, info=None), result=Result(work_id=\"e139c5f31bba414f8fbc0fafd598d85a\", func=<function fact at 0x000002613A25EB70>, args=[8], kwargs={}, call_count=1, repeat_count=1, evaluation_id=\"66807eb112ef4b94ac7292b28c8b3dff\", result=40320, exception=None, start_datetime=2018-04-12 13:46:33.396654, seconds_per_call=[10.00199986831285], hostname=\"DESKTOP-EFQ7TT8\", pid=28588, thread_id=28588))\n"
     ]
    }
   ],
   "source": [
    "status1"
   ]
  },
  {
   "cell_type": "code",
   "execution_count": 11,
   "metadata": {},
   "outputs": [
    {
     "data": {
      "text/plain": [
       "Status(ready=True, work=Work(work_id=\"6e3aa92f40b44dddb7e9992b0a3e3ae9\", func=<function fact at 0x0000026138E70378>, args=[8], kwargs={}, call_count=1, repeat_count=1, info=None), result=Result(work_id=\"6e3aa92f40b44dddb7e9992b0a3e3ae9\", func=<function fact at 0x000002613A25E0D0>, args=[8], kwargs={}, call_count=1, repeat_count=1, evaluation_id=\"5cb0b871176c4f9c8103de1eb36cb122\", result=40320, exception=None, start_datetime=2018-04-12 13:46:31.945146, seconds_per_call=[10.004457805072889], hostname=\"DESKTOP-EFQ7TT8\", pid=25292, thread_id=25292))"
      ]
     },
     "execution_count": 11,
     "metadata": {},
     "output_type": "execute_result"
    }
   ],
   "source": [
    "status2"
   ]
  },
  {
   "cell_type": "code",
   "execution_count": 12,
   "metadata": {},
   "outputs": [
    {
     "data": {
      "text/plain": [
       "Status(ready=True, work=Work(work_id=\"e139c5f31bba414f8fbc0fafd598d85a\", func=<function fact at 0x0000026138E70378>, args=[8], kwargs={}, call_count=1, repeat_count=1, info=None), result=Result(work_id=\"e139c5f31bba414f8fbc0fafd598d85a\", func=<function fact at 0x000002613A25EB70>, args=[8], kwargs={}, call_count=1, repeat_count=1, evaluation_id=\"66807eb112ef4b94ac7292b28c8b3dff\", result=40320, exception=None, start_datetime=2018-04-12 13:46:33.396654, seconds_per_call=[10.00199986831285], hostname=\"DESKTOP-EFQ7TT8\", pid=28588, thread_id=28588))"
      ]
     },
     "execution_count": 12,
     "metadata": {},
     "output_type": "execute_result"
    }
   ],
   "source": [
    "status3"
   ]
  },
  {
   "cell_type": "code",
   "execution_count": 13,
   "metadata": {},
   "outputs": [
    {
     "name": "stdout",
     "output_type": "stream",
     "text": [
      "Status(ready=False, work=Work(work_id=\"c44d00525a8f41adb81ba889b15e0044\", func=<function fact at 0x0000026138E70378>, args=[0], kwargs={}, call_count=1, repeat_count=1, info=None), result=None)\n",
      "Status(ready=False, work=Work(work_id=\"d371976a1f7447ce9e1968b9d966e193\", func=<function fact at 0x0000026138E70378>, args=[1], kwargs={}, call_count=1, repeat_count=1, info=None), result=None)\n",
      "Status(ready=False, work=Work(work_id=\"a0ce197c2c444c76b75e17a6c33784da\", func=<function fact at 0x0000026138E70378>, args=[2], kwargs={}, call_count=1, repeat_count=1, info=None), result=None)\n",
      "Status(ready=False, work=Work(work_id=\"f62a446e5c0e40078c442df1f58f190a\", func=<function fact at 0x0000026138E70378>, args=[3], kwargs={}, call_count=1, repeat_count=1, info=None), result=None)\n",
      "Status(ready=False, work=Work(work_id=\"6d4d4df25d51410b9015fd7de9350373\", func=<function fact at 0x0000026138E70378>, args=[4], kwargs={}, call_count=1, repeat_count=1, info=None), result=None)\n",
      "Status(ready=False, work=Work(work_id=\"52355a27842c46c9a0c96234de2db594\", func=<function fact at 0x0000026138E70378>, args=[5], kwargs={}, call_count=1, repeat_count=1, info=None), result=None)\n",
      "Status(ready=False, work=Work(work_id=\"c9e123e34801455cbb3397eea6dc177a\", func=<function fact at 0x0000026138E70378>, args=[6], kwargs={}, call_count=1, repeat_count=1, info=None), result=None)\n",
      "Status(ready=False, work=Work(work_id=\"e12d2a6127d8436281206598d45f40e7\", func=<function fact at 0x0000026138E70378>, args=[7], kwargs={}, call_count=1, repeat_count=1, info=None), result=None)\n",
      "Status(ready=False, work=Work(work_id=\"05f484b114e446619e7d318104c59654\", func=<function fact at 0x0000026138E70378>, args=[8], kwargs={}, call_count=1, repeat_count=1, info=None), result=None)\n",
      "Status(ready=False, work=Work(work_id=\"a8089c9ffee94f20a2afbab918853d8e\", func=<function fact at 0x0000026138E70378>, args=[9], kwargs={}, call_count=1, repeat_count=1, info=None), result=None)\n",
      "Status(ready=False, work=Work(work_id=\"efe8f855e287446bab7180fe9e6c088d\", func=<function fact at 0x0000026138E70378>, args=[10], kwargs={}, call_count=1, repeat_count=1, info=None), result=None)\n",
      "Status(ready=False, work=Work(work_id=\"fda730f2058b4c03ba34ca28a8aca289\", func=<function fact at 0x0000026138E70378>, args=[11], kwargs={}, call_count=1, repeat_count=1, info=None), result=None)\n",
      "Status(ready=False, work=Work(work_id=\"f53fb2784e6b4a0a9085eeafdfab40b8\", func=<function fact at 0x0000026138E70378>, args=[12], kwargs={}, call_count=1, repeat_count=1, info=None), result=None)\n",
      "Status(ready=False, work=Work(work_id=\"1ceff4949c024387815194e32ca840fd\", func=<function fact at 0x0000026138E70378>, args=[13], kwargs={}, call_count=1, repeat_count=1, info=None), result=None)\n",
      "Status(ready=False, work=Work(work_id=\"c2135b72711a4588bc3521bc581dd148\", func=<function fact at 0x0000026138E70378>, args=[14], kwargs={}, call_count=1, repeat_count=1, info=None), result=None)\n",
      "Status(ready=False, work=Work(work_id=\"08f87d428351457c93fb3176ba2867b5\", func=<function fact at 0x0000026138E70378>, args=[15], kwargs={}, call_count=1, repeat_count=1, info=None), result=None)\n",
      "Status(ready=False, work=Work(work_id=\"62d82c41a3fd47ebbe184f3b925c7045\", func=<function fact at 0x0000026138E70378>, args=[16], kwargs={}, call_count=1, repeat_count=1, info=None), result=None)\n",
      "Status(ready=False, work=Work(work_id=\"c3b9b025883f4996a3174278b4eb20ed\", func=<function fact at 0x0000026138E70378>, args=[17], kwargs={}, call_count=1, repeat_count=1, info=None), result=None)\n",
      "Status(ready=False, work=Work(work_id=\"11f7a4a694484a1c8074f94d1f2739f5\", func=<function fact at 0x0000026138E70378>, args=[18], kwargs={}, call_count=1, repeat_count=1, info=None), result=None)\n",
      "Status(ready=False, work=Work(work_id=\"d2b910713b9d411eba83b7f5c59dbfe0\", func=<function fact at 0x0000026138E70378>, args=[19], kwargs={}, call_count=1, repeat_count=1, info=None), result=None)\n",
      "Status(ready=False, work=Work(work_id=\"fd5ec34a5b934cea94fa5ebe2c524178\", func=<function fact at 0x0000026138E70378>, args=[20], kwargs={}, call_count=1, repeat_count=1, info=None), result=None)\n",
      "Status(ready=False, work=Work(work_id=\"19a7f79f22524ae28e4ed1c56620dbd7\", func=<function fact at 0x0000026138E70378>, args=[21], kwargs={}, call_count=1, repeat_count=1, info=None), result=None)\n",
      "Status(ready=False, work=Work(work_id=\"dba195b3072440149cc5113a9b1caae8\", func=<function fact at 0x0000026138E70378>, args=[22], kwargs={}, call_count=1, repeat_count=1, info=None), result=None)\n",
      "Status(ready=False, work=Work(work_id=\"152914237bc6445f8f0a7c41b22886c5\", func=<function fact at 0x0000026138E70378>, args=[23], kwargs={}, call_count=1, repeat_count=1, info=None), result=None)\n",
      "Status(ready=False, work=Work(work_id=\"9d223b42d1484d2ea18afcd93bada91b\", func=<function fact at 0x0000026138E70378>, args=[24], kwargs={}, call_count=1, repeat_count=1, info=None), result=None)\n"
     ]
    }
   ],
   "source": [
    "statuses = []\n",
    "for x in range(25):\n",
    "    status = evaluation.evaluate(fact, args=[x], evaluator=ipp_evaluator)\n",
    "    print(status)\n",
    "    statuses.append(status)"
   ]
  },
  {
   "cell_type": "code",
   "execution_count": 14,
   "metadata": {},
   "outputs": [
    {
     "data": {
      "text/plain": [
       "Status(ready=True, work=Work(work_id=\"9d223b42d1484d2ea18afcd93bada91b\", func=<function fact at 0x0000026138E70378>, args=[24], kwargs={}, call_count=1, repeat_count=1, info=None), result=Result(work_id=\"9d223b42d1484d2ea18afcd93bada91b\", func=<function fact at 0x000002613A3ACD90>, args=[24], kwargs={}, call_count=1, repeat_count=1, evaluation_id=\"6910b6eae5cc431dbbd47f2453326e39\", result=620448401733239439360000, exception=None, start_datetime=2018-04-12 13:47:26.250809, seconds_per_call=[10.00060791336], hostname=\"DESKTOP-EFQ7TT8\", pid=1608, thread_id=1608))"
      ]
     },
     "execution_count": 14,
     "metadata": {},
     "output_type": "execute_result"
    }
   ],
   "source": [
    "statuses[24]"
   ]
  }
 ],
 "metadata": {
  "kernelspec": {
   "display_name": "Python 3",
   "language": "python",
   "name": "python3"
  },
  "language_info": {
   "codemirror_mode": {
    "name": "ipython",
    "version": 3
   },
   "file_extension": ".py",
   "mimetype": "text/x-python",
   "name": "python",
   "nbconvert_exporter": "python",
   "pygments_lexer": "ipython3",
   "version": "3.6.1"
  }
 },
 "nbformat": 4,
 "nbformat_minor": 2
}
