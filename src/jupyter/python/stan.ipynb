{
 "cells": [
  {
   "cell_type": "code",
   "execution_count": 1,
   "metadata": {
    "collapsed": true
   },
   "outputs": [],
   "source": [
    "import pystan"
   ]
  },
  {
   "cell_type": "code",
   "execution_count": 2,
   "metadata": {
    "collapsed": true
   },
   "outputs": [],
   "source": [
    "stan_code = \"\"\"\n",
    "## http://openbugs.net/Examples/Surgical.html\n",
    "## random effects model \n",
    "data {\n",
    "  int<lower=0> N;\n",
    "  int r[N];\n",
    "  int n[N];\n",
    "}\n",
    "parameters {\n",
    "   real mu;\n",
    "   real<lower=0> sigmasq;\n",
    "   real b[N];\n",
    "}\n",
    "transformed parameters {\n",
    "  real<lower=0> sigma;\n",
    "  real<lower=0,upper=1> p[N];\n",
    "  sigma <- sqrt(sigmasq); \n",
    "  for (i in 1:N)\n",
    "    p[i] <- inv_logit(b[i]);\n",
    "}\n",
    "model {\n",
    "  mu ~ normal(0.0, 1000.0); \n",
    "  sigmasq ~ inv_gamma(0.001, 0.001);\n",
    "  b ~ normal(mu, sigma);\n",
    "  r ~ binomial_logit(n, b);\n",
    "}\n",
    "generated quantities {\n",
    "  real pop_mean;\n",
    "  pop_mean <- inv_logit(mu); \n",
    "}\n",
    "\"\"\""
   ]
  },
  {
   "cell_type": "code",
   "execution_count": 3,
   "metadata": {},
   "outputs": [
    {
     "name": "stderr",
     "output_type": "stream",
     "text": [
      "INFO:pystan:COMPILING THE C++ CODE FOR MODEL anon_model_b75445567ed4638c70765f73ec25f477 NOW.\n"
     ]
    }
   ],
   "source": [
    "stan_model = pystan.StanModel(model_code=stan_code)"
   ]
  },
  {
   "cell_type": "code",
   "execution_count": 4,
   "metadata": {
    "collapsed": true
   },
   "outputs": [],
   "source": [
    "init = {\n",
    "    'b': [0.1,   0.1,   0.1,   0.1,   0.1,   0.1,   0.1,   0.1,   0.1,   0.1,   0.1,   0.1],\n",
    "    'sigmasq': 1,\n",
    "    'mu': 0\n",
    "}"
   ]
  },
  {
   "cell_type": "code",
   "execution_count": 13,
   "metadata": {
    "collapsed": true
   },
   "outputs": [],
   "source": [
    "data = {\n",
    "    'n': [47, 148, 119, 810, 211, 196, 148, 215, 207, 97, 256, 360],\n",
    "    'r': [0, 18, 8, 46, 8, 13, 9, 31, 14, 8, 29, 24],\n",
    "    'N': 12\n",
    "}"
   ]
  },
  {
   "cell_type": "code",
   "execution_count": 15,
   "metadata": {
    "collapsed": true
   },
   "outputs": [],
   "source": [
    "init = [init, init, init, init] # one for each chain"
   ]
  },
  {
   "cell_type": "code",
   "execution_count": 16,
   "metadata": {
    "collapsed": true
   },
   "outputs": [],
   "source": [
    "fit = stan_model.sampling(init=init, data=data, iter=1000, chains=4)"
   ]
  },
  {
   "cell_type": "code",
   "execution_count": 17,
   "metadata": {},
   "outputs": [
    {
     "data": {
      "text/plain": [
       "Inference for Stan model: anon_model_b75445567ed4638c70765f73ec25f477.\n",
       "4 chains, each with iter=1000; warmup=500; thin=1; \n",
       "post-warmup draws per chain=500, total post-warmup draws=2000.\n",
       "\n",
       "           mean se_mean     sd   2.5%    25%    50%    75%  97.5%  n_eff   Rhat\n",
       "mu        -2.56  3.9e-3   0.15  -2.86  -2.65  -2.55  -2.47  -2.28   1498    1.0\n",
       "sigmasq    0.19  4.9e-3   0.15   0.03   0.09   0.15   0.22   0.61    997    1.0\n",
       "b[0]      -2.95    0.01   0.42  -3.94  -3.19   -2.9  -2.66  -2.27   1131    1.0\n",
       "b[1]      -2.19  5.4e-3   0.24  -2.64  -2.36  -2.19  -2.02  -1.71   2000    1.0\n",
       "b[2]      -2.62  6.2e-3   0.28   -3.2  -2.79  -2.61  -2.44  -2.11   2000    1.0\n",
       "b[3]      -2.77  3.3e-3   0.15  -3.07  -2.87  -2.77  -2.67  -2.49   2000    1.0\n",
       "b[4]      -2.94  6.2e-3   0.28  -3.53  -3.12  -2.93  -2.75  -2.46   2000    1.0\n",
       "b[5]      -2.62  5.2e-3   0.23  -3.13  -2.76  -2.61  -2.47  -2.19   2000    1.0\n",
       "b[6]      -2.67  5.8e-3   0.26  -3.23  -2.84  -2.67   -2.5  -2.19   2000    1.0\n",
       "b[7]      -1.98  6.2e-3   0.21   -2.4  -2.11  -1.97  -1.84  -1.59   1102    1.0\n",
       "b[8]      -2.61  4.8e-3   0.22  -3.05  -2.75   -2.6  -2.46  -2.21   2000    1.0\n",
       "b[9]       -2.5  6.2e-3   0.28   -3.1  -2.67  -2.49  -2.33  -1.95   2000    1.0\n",
       "b[10]     -2.19  4.2e-3   0.19  -2.57  -2.32  -2.19  -2.07  -1.83   2000    1.0\n",
       "b[11]     -2.62  4.1e-3   0.18  -2.96  -2.74  -2.62  -2.51  -2.27   2000    1.0\n",
       "sigma       0.4  5.6e-3   0.15   0.16    0.3   0.38   0.47   0.78    736    1.0\n",
       "p[0]       0.05  4.9e-4   0.02   0.02   0.04   0.05   0.07   0.09   1484    1.0\n",
       "p[1]        0.1  5.0e-4   0.02   0.07   0.09    0.1   0.12   0.15   2000    1.0\n",
       "p[2]       0.07  3.9e-4   0.02   0.04   0.06   0.07   0.08   0.11   2000    1.0\n",
       "p[3]       0.06  1.8e-4 8.2e-3   0.04   0.05   0.06   0.06   0.08   2000    1.0\n",
       "p[4]       0.05  2.9e-4   0.01   0.03   0.04   0.05   0.06   0.08   2000    1.0\n",
       "p[5]       0.07  3.3e-4   0.01   0.04   0.06   0.07   0.08    0.1   2000    1.0\n",
       "p[6]       0.07  3.5e-4   0.02   0.04   0.06   0.07   0.08    0.1   2000    1.0\n",
       "p[7]       0.12  5.0e-4   0.02   0.08   0.11   0.12   0.14   0.17   2000    1.0\n",
       "p[8]       0.07  3.1e-4   0.01   0.05   0.06   0.07   0.08    0.1   2000    1.0\n",
       "p[9]       0.08  4.4e-4   0.02   0.04   0.06   0.08   0.09   0.12   2000    1.0\n",
       "p[10]       0.1  3.8e-4   0.02   0.07   0.09    0.1   0.11   0.14   2000    1.0\n",
       "p[11]      0.07  2.6e-4   0.01   0.05   0.06   0.07   0.08   0.09   2000    1.0\n",
       "pop_mean   0.07  2.5e-410.0e-3   0.05   0.07   0.07   0.08   0.09   1553    1.0\n",
       "lp__     -724.9    0.13   3.17 -732.0 -726.8 -724.6 -722.6 -719.5    584    1.0\n",
       "\n",
       "Samples were drawn using NUTS at Thu Dec  7 18:16:55 2017.\n",
       "For each parameter, n_eff is a crude measure of effective sample size,\n",
       "and Rhat is the potential scale reduction factor on split chains (at \n",
       "convergence, Rhat=1)."
      ]
     },
     "execution_count": 17,
     "metadata": {},
     "output_type": "execute_result"
    }
   ],
   "source": [
    "fit"
   ]
  }
 ],
 "metadata": {
  "kernelspec": {
   "display_name": "Python 3",
   "language": "python",
   "name": "python3"
  },
  "language_info": {
   "codemirror_mode": {
    "name": "ipython",
    "version": 3
   },
   "file_extension": ".py",
   "mimetype": "text/x-python",
   "name": "python",
   "nbconvert_exporter": "python",
   "pygments_lexer": "ipython3",
   "version": "3.6.1"
  }
 },
 "nbformat": 4,
 "nbformat_minor": 2
}
