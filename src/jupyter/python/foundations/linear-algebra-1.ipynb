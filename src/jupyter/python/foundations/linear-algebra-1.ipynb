{
 "cells": [
  {
   "cell_type": "markdown",
   "metadata": {},
   "source": [
    "![image.png](attachment:image.png)"
   ]
  },
  {
   "cell_type": "code",
   "execution_count": 1,
   "metadata": {
    "collapsed": true
   },
   "outputs": [],
   "source": [
    "# Copyright (c) Thalesians Ltd, 2018-2019. All rights reserved\n",
    "# Copyright (c) Paul Alexander Bilokon, 2018-2019. All rights reserved\n",
    "# Author: Paul Alexander Bilokon <paul@thalesians.com>\n",
    "# Version: 2.0 (2019.04.19)\n",
    "# Previous versions: 1.0 (2018.08.03)\n",
    "# Email: education@thalesians.com\n",
    "# Platform: Tested on Windows 10 with Python 3.6"
   ]
  },
  {
   "cell_type": "markdown",
   "metadata": {},
   "source": [
    "# Linear algebra"
   ]
  },
  {
   "cell_type": "markdown",
   "metadata": {},
   "source": [
    "## Motivation"
   ]
  },
  {
   "cell_type": "markdown",
   "metadata": {},
   "source": [
    "In data science, machine learning (ML), and artificial intelligence (AI), we usually deal not with single numbers but with *multivariate* (i.e. containing multiple elements or entries) lists of numbers &mdash; mathematically speaking, **vectors**, &mdash; and *multivariate* tables of numbers &mdash; mathematically speaking, **matrices**. Therefore we solve *multivariate* equations, apply *multivariate* calculus to find optima of *multivariate* functions, etc."
   ]
  },
  {
   "cell_type": "markdown",
   "metadata": {},
   "source": [
    "The branch of mathematics that studies vectors, matrices, and related mathematical objects is called **linear algebra**. It is one of the most practically useful areas of mathematics in applied work and a prerequisite for data science, machine learning (ML), and artificial intelligence (AI)."
   ]
  },
  {
   "cell_type": "markdown",
   "metadata": {},
   "source": [
    "## Objectives"
   ]
  },
  {
   "cell_type": "markdown",
   "metadata": {},
   "source": [
    "* To consider numbers as examples of mathematical objects.\n",
    "* To introduce a different kind of mathematical object &mdash; vector &mdash; first in two dimensions.\n",
    "* To introduce vector arithmetics: vector addition and multiplication by scalars.\n",
    "* To introduce the vector norm and relate it to the length of a vector.\n",
    "* To introduce the inner product and relate it to the angle between two vectors.\n",
    "* To consider vectors in three dimensions.\n",
    "* To show how vectors can be generalised to four- and higher-dimensional spaces.\n",
    "* To consider vector spaces in general.\n",
    "* To show that functions also form a vector space.\n",
    "* To introduce linear combinations and examine the notions of linear (in)dependence, span, and basis.\n",
    "* To introduce subspaces."
   ]
  },
  {
   "cell_type": "code",
   "execution_count": 6,
   "metadata": {
    "collapsed": true
   },
   "outputs": [],
   "source": [
    "%matplotlib inline"
   ]
  },
  {
   "cell_type": "code",
   "execution_count": 7,
   "metadata": {
    "collapsed": true
   },
   "outputs": [],
   "source": [
    "import math\n",
    "import numpy as np\n",
    "import matplotlib.pyplot as plt\n",
    "from mpl_toolkits.mplot3d import Axes3D"
   ]
  },
  {
   "cell_type": "markdown",
   "metadata": {},
   "source": [
    "## Numbers"
   ]
  },
  {
   "cell_type": "markdown",
   "metadata": {},
   "source": [
    "In everyday life, we are used to doing arithmetics with numbers, such as"
   ]
  },
  {
   "cell_type": "code",
   "execution_count": 11,
   "metadata": {
    "collapsed": false
   },
   "outputs": [
    {
     "data": {
      "text/plain": [
       "8"
      ]
     },
     "execution_count": 11,
     "metadata": {},
     "output_type": "execute_result"
    }
   ],
   "source": [
    "5 + 3"
   ]
  },
  {
   "cell_type": "markdown",
   "metadata": {},
   "source": [
    "and"
   ]
  },
  {
   "cell_type": "code",
   "execution_count": 12,
   "metadata": {
    "collapsed": false
   },
   "outputs": [
    {
     "data": {
      "text/plain": [
       "50"
      ]
     },
     "execution_count": 12,
     "metadata": {},
     "output_type": "execute_result"
    }
   ],
   "source": [
    "10 * 5"
   ]
  },
  {
   "cell_type": "markdown",
   "metadata": {},
   "source": [
    "The numbers 5 and 3 are *mathematical objects*."
   ]
  },
  {
   "cell_type": "markdown",
   "metadata": {},
   "source": [
    "Indeed, when we think about mathematics, we probably think of **numbers** as the fundamental objects of study. Numbers used for counting, namely $1, 2, 3, 4, 5, \\ldots$ (and so on) are called **natural numbers**. We say that they belong to the **set** (i.e. a collection of objects) of natural numbers, $\\mathbb{N}$, and write $3 \\in \\mathbb{N}$ to indicate that, for example, 3 **belongs to** this set."
   ]
  },
  {
   "cell_type": "markdown",
   "metadata": {},
   "source": [
    "Not all numbers are quite as straightforward (quite as natural). For example, the number **zero** wasn't invented (discovered?) until much later than the natural numbers. We sometimes write $\\{0\\} \\cup \\mathbb{N}$ to denote the set containing precisely the natural numbers along with 0. That is, the set that is the **union** (denoted by $\\cup$) of the set of natural numbers $\\mathbb{N}$ and the **singleton** set (i.e. a set containing exactly one element) $\\{0\\}$. (In mathematics we often use curly brackets to define sets by enumerating their elements.)"
   ]
  },
  {
   "cell_type": "markdown",
   "metadata": {},
   "source": [
    "Then, there are the negative numbers, $\\ldots, -5, -4, -3, -2, -1$. These, together with 0 and the natural numbers are collectively referred to as **integers**, or are said to belong to the set of **integers**, denoted $\\mathbb{Z}$."
   ]
  },
  {
   "cell_type": "markdown",
   "metadata": {},
   "source": [
    "Since every element of $\\mathbb{N}$ is in $\\mathbb{Z}$, we say that $\\mathbb{N}$ is a **subset** of $\\mathbb{Z}$, and write $\\mathbb{N} \\subseteq \\mathbb{Z}$. Two sets $A$ and $B$ are said to be equal if $A \\subseteq B$ and also $B \\subseteq A$, in other words, if $A$ and $B$ contain exactly the same elements."
   ]
  },
  {
   "cell_type": "markdown",
   "metadata": {},
   "source": [
    "The negative number $-3$ is sometimes referred to as the **additive inverse** of $3$, because adding it to $3$ yields zero:"
   ]
  },
  {
   "cell_type": "code",
   "execution_count": 6,
   "metadata": {
    "collapsed": false
   },
   "outputs": [
    {
     "data": {
      "text/plain": [
       "0"
      ]
     },
     "execution_count": 6,
     "metadata": {},
     "output_type": "execute_result"
    }
   ],
   "source": [
    "3 + (-3)"
   ]
  },
  {
   "cell_type": "markdown",
   "metadata": {},
   "source": [
    "There are other, somewhat unnatural numbers, such as the **multiplicative inverse** of 3, $\\frac{1}{3}$. When multiplied by its multiplicative inverse, a number yields not zero, but **one**, the **identity** or **unit**:"
   ]
  },
  {
   "cell_type": "code",
   "execution_count": 7,
   "metadata": {
    "collapsed": false
   },
   "outputs": [
    {
     "data": {
      "text/plain": [
       "1.0"
      ]
     },
     "execution_count": 7,
     "metadata": {},
     "output_type": "execute_result"
    }
   ],
   "source": [
    "3 * (1 / 3)"
   ]
  },
  {
   "cell_type": "markdown",
   "metadata": {},
   "source": [
    "The fractions, such as $\\frac{1}{3}$, $\\pi$, $e$, along with the integers, form a set of **real** numbers, $\\mathbb{R}$. Clearly, both $\\mathbb{N}$ and $\\mathbb{Z}$ are subsets of $\\mathbb{R}$."
   ]
  },
  {
   "cell_type": "markdown",
   "metadata": {},
   "source": [
    "Real numbers obey certain rules (in mathematics we say **axioms**) of arithmetics, e.g. multiplication is **distributive** over addition:"
   ]
  },
  {
   "cell_type": "code",
   "execution_count": 8,
   "metadata": {
    "collapsed": false
   },
   "outputs": [
    {
     "data": {
      "text/plain": [
       "True"
      ]
     },
     "execution_count": 8,
     "metadata": {},
     "output_type": "execute_result"
    }
   ],
   "source": [
    "3 * (0.5 + 100) == 3 * 0.5 + 3 * 100"
   ]
  },
  {
   "cell_type": "markdown",
   "metadata": {},
   "source": [
    "To find out more about these rules, read Harold Davenport's book *The Higher Arithmetic*: https://www.amazon.co.uk/Higher-Arithmetic-Introduction-Theory-Numbers/dp/0521722365"
   ]
  },
  {
   "cell_type": "markdown",
   "metadata": {},
   "source": [
    "## Vectors in two dimensions"
   ]
  },
  {
   "cell_type": "markdown",
   "metadata": {},
   "source": [
    "One can think of other kinds of mathematical objects. They may or may not be composed of numbers. In order to specify the location of a point on a two-dimensional plane you need a mathematical object composed of *two* different numbers: the $x$- and $y$-coordinates. Such a **point** may be given by a single mathematical object, $\\mathbf{v} = \\begin{pmatrix} 3 \\\\ 5 \\end{pmatrix}$, where we understand that the first number specifies the $x$-coordinate, while the second the $y$-coordinate &mdash; the order of numbers in this pair matters."
   ]
  },
  {
   "cell_type": "markdown",
   "metadata": {},
   "source": [
    "We can visualise this mathematical object by means of a plot:"
   ]
  },
  {
   "cell_type": "code",
   "execution_count": 9,
   "metadata": {
    "collapsed": false
   },
   "outputs": [
    {
     "data": {
      "image/png": "[encoded data removed]",
      "text/plain": [
       "<Figure size 432x288 with 1 Axes>"
      ]
     },
     "metadata": {},
     "output_type": "display_data"
    }
   ],
   "source": [
    "plt.plot(0, 0, 'o', markerfacecolor='none', label='origin')\n",
    "plt.plot(3, 5, 'o', label='$\\mathbf{v}$')\n",
    "plt.axis([-5.5, 5.5, -5.5, 5.5])\n",
    "plt.gca().set_aspect('equal', adjustable='box')\n",
    "plt.grid()\n",
    "plt.legend(loc='lower right');"
   ]
  },
  {
   "cell_type": "markdown",
   "metadata": {},
   "source": [
    "It may be useful to think of this object, $\\begin{pmatrix} 3 \\\\ 5 \\end{pmatrix}$, which we shall call a **vector**, as *displacement* from the **origin**, $\\begin{pmatrix} 0 \\\\ 0 \\end{pmatrix}$. We can then read $\\begin{pmatrix} 3 \\\\ 5 \\end{pmatrix}$ as \"go to the right (of the origin) by three units, and then go up (from the origin) by five units\". Therefore vectors may be visualised as *arrows*, specifying a *direction*, as well as as *points*:"
   ]
  },
  {
   "cell_type": "code",
   "execution_count": 10,
   "metadata": {
    "collapsed": false
   },
   "outputs": [
    {
     "data": {
      "image/png": "[encoded data removed]",
      "text/plain": [
       "<Figure size 432x288 with 1 Axes>"
      ]
     },
     "metadata": {},
     "output_type": "display_data"
    }
   ],
   "source": [
    "plt.plot(0, 0, 'o', markerfacecolor='none', label='origin')\n",
    "plt.arrow(0, 0, 3, 5, shape='full', head_width=1, length_includes_head=True)\n",
    "plt.axis([-5.5, 5.5, -5.5, 5.5])\n",
    "plt.gca().set_aspect('equal', adjustable='box')\n",
    "plt.grid()\n",
    "plt.legend(loc='lower right');"
   ]
  },
  {
   "cell_type": "markdown",
   "metadata": {},
   "source": [
    "Two-dimensional vectors are said to belong to a set called the **Euclidean 2-plane**, denoted $\\mathbb{R}^2$. The set of real numbers, $\\mathbb{R}$, is sometimes referred to as the **Euclidean real line**, and may also be written as $\\mathbb{R}^1$ (although this is rarely done in practice)."
   ]
  },
  {
   "cell_type": "markdown",
   "metadata": {},
   "source": [
    "## Two-dimensional vectors in data science"
   ]
  },
  {
   "cell_type": "markdown",
   "metadata": {},
   "source": [
    "In data science, we often think of the $x$-coordinate as the **input** variable and the $y$-coordinate as the **output** variable. Consider, for example the \"diabetes dataset\" from Bradley Efron, Trevor Hastie, Iain Johnstone and Robert Tibshirani (2004) \"Least Angle Regression\", Annals of Statistics (with discussion), 407-499: https://www4.stat.ncsu.edu/~boos/var.select/diabetes.html"
   ]
  },
  {
   "cell_type": "markdown",
   "metadata": {},
   "source": [
    "In this dataset, \"Ten baseline variables, age, sex, body mass index, average blood pressure, and six blood serum measurements were obtained for each of n = 442 diabetes patients, as well as the response of interest, a quantitative measure of disease progression one year after baseline.\""
   ]
  },
  {
   "cell_type": "markdown",
   "metadata": {},
   "source": [
    "Let us consider points (vectors) where the $x$-coordinate represents the body mass index (input) and the $y$-coordinate the aforementioned \"quantitative measure of disease progression\" (output) corresponding to the input."
   ]
  },
  {
   "cell_type": "markdown",
   "metadata": {},
   "source": [
    "In data science our goal is to find the relatinship between the output and the input. If such a relationship exists, we may be able to explain or predict the output by means of the input."
   ]
  },
  {
   "cell_type": "code",
   "execution_count": 19,
   "metadata": {
    "collapsed": false
   },
   "outputs": [],
   "source": [
    "from sklearn import datasets\n",
    "diabetes = datasets.load_diabetes()\n",
    "diabetes_x = diabetes.data[:, 2]\n",
    "diabetes_y = diabetes.target"
   ]
  },
  {
   "cell_type": "markdown",
   "metadata": {},
   "source": [
    "One such input-output point is"
   ]
  },
  {
   "cell_type": "code",
   "execution_count": 20,
   "metadata": {
    "collapsed": false
   },
   "outputs": [
    {
     "data": {
      "text/plain": [
       "(0.0616962065186885, 151.0)"
      ]
     },
     "execution_count": 20,
     "metadata": {},
     "output_type": "execute_result"
    }
   ],
   "source": [
    "(diabetes_x[0], diabetes_y[0])"
   ]
  },
  {
   "cell_type": "markdown",
   "metadata": {},
   "source": [
    "another"
   ]
  },
  {
   "cell_type": "code",
   "execution_count": 22,
   "metadata": {
    "collapsed": false
   },
   "outputs": [
    {
     "data": {
      "text/plain": [
       "(-0.0514740612388061, 75.0)"
      ]
     },
     "execution_count": 22,
     "metadata": {},
     "output_type": "execute_result"
    }
   ],
   "source": [
    "(diabetes_x[1], diabetes_y[1])"
   ]
  },
  {
   "cell_type": "markdown",
   "metadata": {},
   "source": [
    "and so on. There are"
   ]
  },
  {
   "cell_type": "code",
   "execution_count": 23,
   "metadata": {
    "collapsed": false
   },
   "outputs": [
    {
     "data": {
      "text/plain": [
       "442"
      ]
     },
     "execution_count": 23,
     "metadata": {},
     "output_type": "execute_result"
    }
   ],
   "source": [
    "len(diabetes_x)"
   ]
  },
  {
   "cell_type": "markdown",
   "metadata": {},
   "source": [
    "such points in total, the last one being"
   ]
  },
  {
   "cell_type": "code",
   "execution_count": 24,
   "metadata": {
    "collapsed": false
   },
   "outputs": [
    {
     "data": {
      "text/plain": [
       "(-0.0730303027164241, 57.0)"
      ]
     },
     "execution_count": 24,
     "metadata": {},
     "output_type": "execute_result"
    }
   ],
   "source": [
    "(diabetes_x[len(diabetes_x)-1], diabetes_y[len(diabetes_x)-1])"
   ]
  },
  {
   "cell_type": "markdown",
   "metadata": {},
   "source": [
    "We can visualise these points by plotting them on an $xy$-plane, just as we visualised vectors as points before:"
   ]
  },
  {
   "cell_type": "code",
   "execution_count": 34,
   "metadata": {
    "collapsed": false
   },
   "outputs": [
    {
     "data": {
      "image/png": "[encoded data removed]",
      "text/plain": [
       "<matplotlib.figure.Figure at 0x1b0945d8978>"
      ]
     },
     "metadata": {},
     "output_type": "display_data"
    }
   ],
   "source": [
    "plt.plot(diabetes_x[0], diabetes_y[0], 'o')\n",
    "plt.plot(diabetes_x[1], diabetes_y[1], 'o')\n",
    "plt.plot(diabetes_x[len(diabetes_x)-1], diabetes_y[len(diabetes_x)-1], 'o');"
   ]
  },
  {
   "cell_type": "markdown",
   "metadata": {},
   "source": [
    "To get a better idea of the relationship between the input and output, let us plot all available points, just as we plotted the three points above. The result is a **scatter plot**:"
   ]
  },
  {
   "cell_type": "code",
   "execution_count": 29,
   "metadata": {
    "collapsed": false
   },
   "outputs": [
    {
     "data": {
      "image/png": "[encoded data removed]",
      "text/plain": [
       "<matplotlib.figure.Figure at 0x1b0943d0ef0>"
      ]
     },
     "metadata": {},
     "output_type": "display_data"
    }
   ],
   "source": [
    "plt.plot(diabetes_x, diabetes_y, 'o')\n",
    "plt.xlabel('body mass index')\n",
    "plt.ylabel('disease progression');"
   ]
  },
  {
   "cell_type": "markdown",
   "metadata": {},
   "source": [
    "The scatter plot shows that the points follow a certain pattern. In particular, the disease progression ($y$-coordinate, output) increases with the patient's body mass index ($x$-coordinate, input). Visualisation by means of the scatter plot has helped us spot this relationship."
   ]
  },
  {
   "cell_type": "markdown",
   "metadata": {},
   "source": [
    "## Vector arithmietics"
   ]
  },
  {
   "cell_type": "markdown",
   "metadata": {},
   "source": [
    "Would it make sense to define **addition** for vectors? And if it would, how would we define it? Thinking of vectors as displacements gives us a clue: the sum of two vectors, $\\mathbf{u}$ and $\\mathbf{v}$, could be defined by \"go in the direction specified by $\\mathbf{u}$, then in the direction specified by $\\mathbf{v}$\".\n",
    "\n",
    "If, for example, $\\mathbf{u} = \\begin{pmatrix} 5 \\\\ 3 \\end{pmatrix}$ and $\\mathbf{v} = \\begin{pmatrix} 4 \\\\ 6 \\end{pmatrix}$, then their sum would be obtained as follows:\n",
    "* Start at the origin.\n",
    "* Move in the direction specified by $\\mathbf{u}$: \"go to the right by five units, and then go up by three units\".\n",
    "* Then move in the direction specified by $\\mathbf{v}$: \"go to the right by four units, and then go up by six units\".\n",
    "\n",
    "The end result?"
   ]
  },
  {
   "cell_type": "code",
   "execution_count": 11,
   "metadata": {
    "collapsed": false
   },
   "outputs": [
    {
     "data": {
      "image/png": "[encoded data removed]",
      "text/plain": [
       "<Figure size 360x360 with 1 Axes>"
      ]
     },
     "metadata": {},
     "output_type": "display_data"
    }
   ],
   "source": [
    "u = np.array([5, 3])\n",
    "v = np.array([4, 6])\n",
    "plt.figure(figsize=(5, 5))\n",
    "plt.plot(0, 0, 'o', markerfacecolor='none')\n",
    "plt.arrow(0, 0, u[0], u[1], head_width=.75, length_includes_head=True)\n",
    "plt.annotate('$\\mathbf{u}$', u + (-.5, -1.5))\n",
    "plt.arrow(u[0], u[1], v[0], v[1], head_width=.75, length_includes_head=True)\n",
    "plt.annotate('$\\mathbf{v}$', u + v + (-.5, -2.))\n",
    "plt.xlim(-10, 10)\n",
    "plt.ylim(-10, 10);"
   ]
  },
  {
   "cell_type": "markdown",
   "metadata": {},
   "source": [
    "Geometrically, we have appended the arrow representing the vector $\\mathbf{v}$ to the end of the arrow representing the vector $\\mathbf{u}$ drawn starting at the origin.\n",
    "\n",
    "What if we started at the origin, went in the direction specified by $\\mathbf{v}$ and then went in the direction specified by $\\mathbf{u}$? Where would we end up?"
   ]
  },
  {
   "cell_type": "code",
   "execution_count": 12,
   "metadata": {
    "collapsed": false
   },
   "outputs": [
    {
     "data": {
      "image/png": "[encoded data removed]",
      "text/plain": [
       "<Figure size 360x360 with 1 Axes>"
      ]
     },
     "metadata": {},
     "output_type": "display_data"
    }
   ],
   "source": [
    "plt.figure(figsize=(5, 5))\n",
    "plt.plot(0, 0, 'o', markerfacecolor='none')\n",
    "plt.arrow(0, 0, v[0], v[1], head_width=.75, length_includes_head=True)\n",
    "plt.annotate('$\\mathbf{v}$', v + (-.5, .5))\n",
    "plt.arrow(v[0], v[1], u[0], u[1], head_width=.75, length_includes_head=True)\n",
    "plt.annotate('$\\mathbf{u}$', v + u + (-2., -.5))\n",
    "plt.xlim(-10, 10)\n",
    "plt.ylim(-10, 10);"
   ]
  },
  {
   "cell_type": "markdown",
   "metadata": {},
   "source": [
    "We would end up in the same place. More generally, for any vectors $\\mathbf{u}$ and $\\mathbf{v}$, vector addition is **commutative**, in other words, $\\mathbf{u} + \\mathbf{v} = \\mathbf{v} + \\mathbf{u}$. Let us visualise this on a plot:"
   ]
  },
  {
   "cell_type": "code",
   "execution_count": 13,
   "metadata": {
    "collapsed": false
   },
   "outputs": [
    {
     "data": {
      "image/png": "[encoded data removed]",
      "text/plain": [
       "<Figure size 360x360 with 1 Axes>"
      ]
     },
     "metadata": {},
     "output_type": "display_data"
    }
   ],
   "source": [
    "plt.figure(figsize=(5, 5))\n",
    "plt.plot(0, 0, 'o', markerfacecolor='none')\n",
    "plt.arrow(0, 0, u[0], u[1], head_width=.75, length_includes_head=True)\n",
    "plt.annotate('$\\mathbf{u}$', u + (-.5, -1.5))\n",
    "plt.arrow(u[0], u[1], v[0], v[1], head_width=.75, length_includes_head=True)\n",
    "plt.annotate('$\\mathbf{v}$', u + v + (-.5, -2.))\n",
    "plt.arrow(0, 0, v[0], v[1], head_width=.75, length_includes_head=True)\n",
    "plt.annotate('$\\mathbf{v}$', v + (-.5, .5))\n",
    "plt.arrow(v[0], v[1], u[0], u[1], head_width=.75, length_includes_head=True)\n",
    "plt.annotate('$\\mathbf{u}$', v + u + (-2., -.5))\n",
    "plt.xlim(-10, 10)\n",
    "plt.ylim(-10, 10);"
   ]
  },
  {
   "cell_type": "markdown",
   "metadata": {},
   "source": [
    "The sum $\\mathbf{u} + \\mathbf{v}$ (which, of course, is equal to $\\mathbf{v} + \\mathbf{u}$ since vector addition is commutative) is itself a vector, which is represented by the diagonal of the parallelogram formed by the arrows above:"
   ]
  },
  {
   "cell_type": "code",
   "execution_count": 14,
   "metadata": {
    "collapsed": false
   },
   "outputs": [
    {
     "data": {
      "image/png": "[encoded data removed]",
      "text/plain": [
       "<Figure size 360x360 with 1 Axes>"
      ]
     },
     "metadata": {},
     "output_type": "display_data"
    }
   ],
   "source": [
    "plt.figure(figsize=(5, 5))\n",
    "plt.plot(0, 0, 'o', markerfacecolor='none')\n",
    "plt.arrow(0, 0, u[0], u[1], head_width=.75, length_includes_head=True)\n",
    "plt.annotate('$\\mathbf{u}$', u + (-.5, -1.5))\n",
    "plt.arrow(u[0], u[1], v[0], v[1], head_width=.75, length_includes_head=True)\n",
    "plt.annotate('$\\mathbf{v}$', u + v + (-.5, -2.))\n",
    "plt.arrow(0, 0, v[0], v[1], head_width=.75, length_includes_head=True)\n",
    "plt.annotate('$\\mathbf{v}$', v + (-.5, .5))\n",
    "plt.arrow(v[0], v[1], u[0], u[1], head_width=.75, length_includes_head=True)\n",
    "plt.annotate('$\\mathbf{u}$', v + u + (-2., -.5))\n",
    "plt.arrow(0, 0, u[0] + v[0], u[1] + v[1], head_width=.75, length_includes_head=True)\n",
    "plt.xlim(-10, 10)\n",
    "plt.ylim(-10, 10);"
   ]
  },
  {
   "cell_type": "markdown",
   "metadata": {},
   "source": [
    "We observe that the sum of $\\mathbf{u} = \\begin{pmatrix} 5 \\\\ 3 \\end{pmatrix}$ and $\\mathbf{v} = \\begin{pmatrix} 4 \\\\ 6 \\end{pmatrix}$ is given by adding them **elementwise** or **coordinate-wise**: $\\mathbf{u} + \\mathbf{v} = \\begin{pmatrix} 5 + 4 \\\\ 3 + 6 \\end{pmatrix} = \\begin{pmatrix} 9 \\\\ 9 \\end{pmatrix}$."
   ]
  },
  {
   "cell_type": "markdown",
   "metadata": {},
   "source": [
    "It is indeed unsurprising that vector addition is commutative, since the addition of ordinary numbers is commutative: $$\\mathbf{u} + \\mathbf{v} = \\begin{pmatrix} 5 + 4 \\\\ 3 + 6 \\end{pmatrix} = \\begin{pmatrix} 4 + 5 \\\\ 6 + 3 \\end{pmatrix} = \\mathbf{v} + \\mathbf{u}.$$"
   ]
  },
  {
   "cell_type": "markdown",
   "metadata": {},
   "source": [
    "## Multiplication by scalars"
   ]
  },
  {
   "cell_type": "markdown",
   "metadata": {},
   "source": [
    "Would it make sense to multiply a vector, such as $\\mathbf{u} = \\begin{pmatrix} 5 \\\\ 3 \\end{pmatrix}$ by a number, say $\\alpha = 1.5$ (we'll start referring to ordinary numbers as **scalars**)? A natural way to define **scalar multiplication** of vectors would also be elementwise:\n",
    "$$\\alpha \\mathbf{u} = 1.5 \\begin{pmatrix} 5 \\\\ 3 \\end{pmatrix} = \\begin{pmatrix} 1.5 \\cdot 5 \\\\ 1.5 \\cdot 3 \\end{pmatrix} = \\begin{pmatrix} 7.5 \\\\ 4.5 \\end{pmatrix}.$$"
   ]
  },
  {
   "cell_type": "markdown",
   "metadata": {},
   "source": [
    "How can we interpret this geometrically? It turns out that we obtain a vector whose length is $1.5$ times that of $\\mathbf{u}$, and whose direction is the same as that of $\\mathbf{u}$:"
   ]
  },
  {
   "cell_type": "code",
   "execution_count": 15,
   "metadata": {
    "collapsed": false
   },
   "outputs": [
    {
     "data": {
      "image/png": "[encoded data removed]",
      "text/plain": [
       "<Figure size 360x360 with 1 Axes>"
      ]
     },
     "metadata": {},
     "output_type": "display_data"
    }
   ],
   "source": [
    "alpha = 1.5\n",
    "plt.figure(figsize=(5, 5))\n",
    "plt.plot(0, 0, 'o', markerfacecolor='none')\n",
    "plt.arrow(0, 0, u[0], u[1], head_width=.75, length_includes_head=True)\n",
    "plt.annotate(r'$\\mathbf{u}$', u + (.5, -1.))\n",
    "plt.arrow(0, 0, alpha * u[0], alpha * u[1], head_width=.75, length_includes_head=True)\n",
    "plt.annotate(r'$\\alpha \\mathbf{u}$', alpha * u + (.5, -1.))\n",
    "plt.xlim(-10, 10)\n",
    "plt.ylim(-10, 10);"
   ]
  },
  {
   "cell_type": "markdown",
   "metadata": {},
   "source": [
    "What if, instead, we multiplied $\\mathbf{u}$ by $\\beta = -1.5$? Well,\n",
    "$$\\beta \\mathbf{u} = -1.5 \\begin{pmatrix} 5 \\\\ 3 \\end{pmatrix} = \\begin{pmatrix} -7.5 \\\\ -4.5 \\end{pmatrix}.$$"
   ]
  },
  {
   "cell_type": "code",
   "execution_count": 16,
   "metadata": {
    "collapsed": false
   },
   "outputs": [
    {
     "data": {
      "image/png": "[encoded data removed]",
      "text/plain": [
       "<Figure size 360x360 with 1 Axes>"
      ]
     },
     "metadata": {},
     "output_type": "display_data"
    }
   ],
   "source": [
    "beta = -1.5\n",
    "plt.figure(figsize=(5, 5))\n",
    "plt.plot(0, 0, 'o', markerfacecolor='none')\n",
    "plt.arrow(0, 0, u[0], u[1], head_width=.75, length_includes_head=True)\n",
    "plt.annotate(r'$\\mathbf{u}$', u + (-.5, 1.))\n",
    "plt.arrow(0, 0, beta * u[0], beta * u[1], head_width=.75, length_includes_head=True)\n",
    "plt.annotate(r'$\\beta \\mathbf{u}$', beta * u + (-.5, 1.))\n",
    "plt.xlim(-10, 10)\n",
    "plt.ylim(-10, 10);"
   ]
  },
  {
   "cell_type": "markdown",
   "metadata": {},
   "source": [
    "Geometrically, we have obtained a vector whose length is $1.5$ times that of $\\mathbf{u}$, and whose direction is the *opposite* (because $\\beta$ is negative) to that of $\\mathbf{u}$."
   ]
  },
  {
   "cell_type": "markdown",
   "metadata": {},
   "source": [
    "## Vectors in Python"
   ]
  },
  {
   "cell_type": "markdown",
   "metadata": {},
   "source": [
    "In Python we use the NumPy library, which we usually import with"
   ]
  },
  {
   "cell_type": "code",
   "execution_count": 17,
   "metadata": {
    "collapsed": true
   },
   "outputs": [],
   "source": [
    "import numpy as np"
   ]
  },
  {
   "cell_type": "markdown",
   "metadata": {},
   "source": [
    "to represent vectors as NumPy arrays:"
   ]
  },
  {
   "cell_type": "code",
   "execution_count": 18,
   "metadata": {
    "collapsed": true
   },
   "outputs": [],
   "source": [
    "u = np.array([3., 5.])\n",
    "v = np.array([4., 6.])"
   ]
  },
  {
   "cell_type": "markdown",
   "metadata": {},
   "source": [
    "We can then add vectors:"
   ]
  },
  {
   "cell_type": "code",
   "execution_count": 19,
   "metadata": {
    "collapsed": false
   },
   "outputs": [
    {
     "data": {
      "text/plain": [
       "array([  7.,  11.])"
      ]
     },
     "execution_count": 19,
     "metadata": {},
     "output_type": "execute_result"
    }
   ],
   "source": [
    "u + v"
   ]
  },
  {
   "cell_type": "markdown",
   "metadata": {},
   "source": [
    "And multiply them by scalars:"
   ]
  },
  {
   "cell_type": "code",
   "execution_count": 20,
   "metadata": {
    "collapsed": false
   },
   "outputs": [
    {
     "data": {
      "text/plain": [
       "array([ 4.5,  7.5])"
      ]
     },
     "execution_count": 20,
     "metadata": {},
     "output_type": "execute_result"
    }
   ],
   "source": [
    "1.5 * u"
   ]
  },
  {
   "cell_type": "code",
   "execution_count": 21,
   "metadata": {
    "collapsed": false
   },
   "outputs": [
    {
     "data": {
      "text/plain": [
       "array([-4.5, -7.5])"
      ]
     },
     "execution_count": 21,
     "metadata": {},
     "output_type": "execute_result"
    }
   ],
   "source": [
    "-1.5 * u"
   ]
  },
  {
   "cell_type": "markdown",
   "metadata": {},
   "source": [
    "## The length of a vector: vector norm"
   ]
  },
  {
   "cell_type": "markdown",
   "metadata": {},
   "source": [
    "How do we obtain the length of a vector? By Pythagoras's theorem, we add up the coordinates and take the square root:"
   ]
  },
  {
   "cell_type": "code",
   "execution_count": 22,
   "metadata": {
    "collapsed": false
   },
   "outputs": [
    {
     "data": {
      "image/png": "[encoded data removed]",
      "text/plain": [
       "<Figure size 360x360 with 1 Axes>"
      ]
     },
     "metadata": {},
     "output_type": "display_data"
    }
   ],
   "source": [
    "beta = -1.5\n",
    "plt.figure(figsize=(5, 5))\n",
    "plt.plot(0, 0, 'o', markerfacecolor='none')\n",
    "plt.arrow(0, 0, u[0], u[1], head_width=.75, length_includes_head=True)\n",
    "plt.annotate(r'$\\mathbf{u} = (5, 3)$', u + (-.5, 1.))\n",
    "plt.arrow(0, 0, u[0], 0, head_width=.75, length_includes_head=True)\n",
    "plt.annotate(r'$(5, 0)$', np.array([u[0], 0]) + (-.5, -1.))\n",
    "plt.arrow(u[0], 0, 0, u[1], head_width=.75, length_includes_head=True)\n",
    "plt.annotate(r'$(0, 3)$', u + (.5, -1.))\n",
    "plt.xlim(-10, 10)\n",
    "plt.ylim(-10, 10);"
   ]
  },
  {
   "cell_type": "markdown",
   "metadata": {},
   "source": [
    "The resulting quantity, which is equal to the length of the vector, is called the **norm** of the vector and is denoted by\n",
    "$$\\|\\mathbf{u}\\| = \\sqrt{u_1^2 + u_2^2} = \\sqrt{5^2 + 3^2} = \\sqrt{34} = 5.8309518... .$$"
   ]
  },
  {
   "cell_type": "markdown",
   "metadata": {},
   "source": [
    "In NumPy, we can manually compute the length of a vector..."
   ]
  },
  {
   "cell_type": "code",
   "execution_count": 23,
   "metadata": {
    "collapsed": false
   },
   "outputs": [
    {
     "data": {
      "text/plain": [
       "array([5, 3])"
      ]
     },
     "execution_count": 23,
     "metadata": {},
     "output_type": "execute_result"
    }
   ],
   "source": [
    "u = np.array([5, 3])\n",
    "u"
   ]
  },
  {
   "cell_type": "code",
   "execution_count": 24,
   "metadata": {
    "collapsed": false
   },
   "outputs": [
    {
     "data": {
      "text/plain": [
       "5.8309518948453007"
      ]
     },
     "execution_count": 24,
     "metadata": {},
     "output_type": "execute_result"
    }
   ],
   "source": [
    "np.sqrt(np.sum(u * u))"
   ]
  },
  {
   "cell_type": "markdown",
   "metadata": {},
   "source": [
    "...or use the library function `np.linalg.norm`:"
   ]
  },
  {
   "cell_type": "code",
   "execution_count": 25,
   "metadata": {
    "collapsed": false
   },
   "outputs": [
    {
     "data": {
      "text/plain": [
       "5.8309518948453007"
      ]
     },
     "execution_count": 25,
     "metadata": {},
     "output_type": "execute_result"
    }
   ],
   "source": [
    "np.linalg.norm(u)"
   ]
  },
  {
   "cell_type": "markdown",
   "metadata": {},
   "source": [
    "## The inner product, the angle between two vectors"
   ]
  },
  {
   "cell_type": "markdown",
   "metadata": {},
   "source": [
    "The **inner product** or **dot product** of two vectors is the sum of products of their respective coordinates:\n",
    "$$\\langle \\mathbf{u}, \\mathbf{v} \\rangle = u_1 \\cdot v_1 + u_2 \\cdot v_2.$$\n",
    "\n",
    "In particular, for $\\mathbf{u} = (5, 3)$ and $\\mathbf{v} = (4, 6)$, it is given by\n",
    "$$\\langle \\mathbf{u}, \\mathbf{v} \\rangle = 5 \\cdot 4 + 3 \\cdot 6 = 38.$$\n",
    "\n",
    "We can check our calculations using Python:"
   ]
  },
  {
   "cell_type": "code",
   "execution_count": 26,
   "metadata": {
    "collapsed": false
   },
   "outputs": [
    {
     "data": {
      "text/plain": [
       "38.0"
      ]
     },
     "execution_count": 26,
     "metadata": {},
     "output_type": "execute_result"
    }
   ],
   "source": [
    "np.dot(u, v)"
   ]
  },
  {
   "cell_type": "markdown",
   "metadata": {},
   "source": [
    "Geometrically speaking, the inner product, when appropriately normalised, gives the cosine of the angle in radians between two vectors, $\\theta$."
   ]
  },
  {
   "cell_type": "markdown",
   "metadata": {},
   "source": [
    "To be more precise,\n",
    "$$\\cos \\theta = \\frac{\\langle \\mathbf{u}, \\mathbf{v} \\rangle}{\\| \\mathbf{u} \\| \\| \\mathbf{v} \\|}.$$"
   ]
  },
  {
   "cell_type": "markdown",
   "metadata": {},
   "source": [
    "Thus the angle between $\\mathbf{u} = (5, 3)$ and $\\mathbf{v} = (4, 6)$ is given by"
   ]
  },
  {
   "cell_type": "code",
   "execution_count": 27,
   "metadata": {
    "collapsed": false
   },
   "outputs": [
    {
     "data": {
      "text/plain": [
       "0.44237422297674489"
      ]
     },
     "execution_count": 27,
     "metadata": {},
     "output_type": "execute_result"
    }
   ],
   "source": [
    "angle = np.arccos(np.dot(u, v) / (np.linalg.norm(u) * np.linalg.norm(v)))\n",
    "angle"
   ]
  },
  {
   "cell_type": "markdown",
   "metadata": {},
   "source": [
    "in radians, or"
   ]
  },
  {
   "cell_type": "code",
   "execution_count": 28,
   "metadata": {
    "collapsed": false
   },
   "outputs": [
    {
     "data": {
      "text/plain": [
       "25.34617594194669"
      ]
     },
     "execution_count": 28,
     "metadata": {},
     "output_type": "execute_result"
    }
   ],
   "source": [
    "angle / np.pi * 180."
   ]
  },
  {
   "cell_type": "markdown",
   "metadata": {},
   "source": [
    "in degrees."
   ]
  },
  {
   "cell_type": "markdown",
   "metadata": {},
   "source": [
    "We can visually verify that this is indeed true:"
   ]
  },
  {
   "cell_type": "code",
   "execution_count": 29,
   "metadata": {
    "collapsed": false
   },
   "outputs": [
    {
     "data": {
      "image/png": "[encoded data removed]",
      "text/plain": [
       "<Figure size 360x360 with 1 Axes>"
      ]
     },
     "metadata": {},
     "output_type": "display_data"
    }
   ],
   "source": [
    "u = np.array([5, 3])\n",
    "v = np.array([4, 6])\n",
    "plt.figure(figsize=(5, 5))\n",
    "plt.plot(0, 0, 'o', markerfacecolor='none')\n",
    "plt.arrow(0, 0, u[0], u[1], head_width=.75, length_includes_head=True)\n",
    "plt.annotate('$\\mathbf{u}$', u + (-.5, -1.5))\n",
    "plt.arrow(0, 0, v[0], v[1], head_width=.75, length_includes_head=True)\n",
    "plt.annotate('$\\mathbf{v}$', v + (-.5, .75))\n",
    "plt.xlim(-10, 10)\n",
    "plt.ylim(-10, 10);"
   ]
  },
  {
   "cell_type": "markdown",
   "metadata": {},
   "source": [
    "Note also that\n",
    "$$\\| \\mathbf{u} \\| = \\sqrt{\\langle \\mathbf{u}, \\mathbf{u} \\rangle}.$$"
   ]
  },
  {
   "cell_type": "markdown",
   "metadata": {},
   "source": [
    "Two vectors $\\mathbf{u}$ and $\\mathbf{v}$ are said to be **orthogonal** or perpendicular if the angle between them is 90 degrees ($\\frac{\\pi}{2}$ radians). Since $\\cos \\frac{\\pi}{2} = 0$, this is equivalent to saying\n",
    "$$\\langle \\mathbf{u}, \\mathbf{v} \\rangle = 0.$$"
   ]
  },
  {
   "cell_type": "markdown",
   "metadata": {},
   "source": [
    "Consider, for example, $\\mathbf{u}$ and $\\mathbf{w} = \\begin{pmatrix} 1 \\\\ -\\frac{5}{3} \\end{pmatrix}$,"
   ]
  },
  {
   "cell_type": "code",
   "execution_count": 30,
   "metadata": {
    "collapsed": true
   },
   "outputs": [],
   "source": [
    "u = np.array([5, 3])\n",
    "w = np.array([1, -5./3.])"
   ]
  },
  {
   "cell_type": "code",
   "execution_count": 31,
   "metadata": {
    "collapsed": false
   },
   "outputs": [
    {
     "data": {
      "text/plain": [
       "0.0"
      ]
     },
     "execution_count": 31,
     "metadata": {},
     "output_type": "execute_result"
    }
   ],
   "source": [
    "np.dot(u, w)"
   ]
  },
  {
   "cell_type": "code",
   "execution_count": 32,
   "metadata": {
    "collapsed": false
   },
   "outputs": [
    {
     "data": {
      "image/png": "[encoded data removed]",
      "text/plain": [
       "<Figure size 360x360 with 1 Axes>"
      ]
     },
     "metadata": {},
     "output_type": "display_data"
    }
   ],
   "source": [
    "plt.figure(figsize=(5, 5))\n",
    "plt.plot(0, 0, 'o', markerfacecolor='none')\n",
    "plt.arrow(0, 0, u[0], u[1], head_width=.75, length_includes_head=True)\n",
    "plt.annotate('$\\mathbf{u}$', u + (-.5, -1.5))\n",
    "plt.arrow(0, 0, w[0], w[1], head_width=.75, length_includes_head=True)\n",
    "plt.annotate('$\\mathbf{w}$', w + (-.5, -.75))\n",
    "plt.xlim(-10, 10)\n",
    "plt.ylim(-10, 10);"
   ]
  },
  {
   "cell_type": "markdown",
   "metadata": {},
   "source": [
    "Notice that the inner product is **commutative**,\n",
    "$$\\langle \\mathbf{u}, \\mathbf{v} \\rangle = \\langle \\mathbf{v}, \\mathbf{u} \\rangle.$$"
   ]
  },
  {
   "cell_type": "markdown",
   "metadata": {},
   "source": [
    "Furthermore, if $\\alpha$ is a scalar, then\n",
    "$$\\langle \\alpha \\mathbf{u}, \\mathbf{v} \\rangle = \\alpha \\langle \\mathbf{u}, \\mathbf{v} \\rangle,$$\n",
    "and\n",
    "$$\\langle \\mathbf{u} + \\mathbf{v}, \\mathbf{w} \\rangle = \\langle \\mathbf{u}, \\mathbf{w} \\rangle + \\langle \\mathbf{v}, \\mathbf{w} \\rangle;$$\n",
    "these two properties together are referred to as **linearity in the first argument**."
   ]
  },
  {
   "cell_type": "markdown",
   "metadata": {},
   "source": [
    "The inner product is **positive-definite**. In other words, for all vectors $\\mathbf{u}$,\n",
    "$$\\langle \\mathbf{u}, \\mathbf{u} \\rangle \\geq 0,$$\n",
    "and\n",
    "$$\\langle \\mathbf{u}, \\mathbf{u} \\rangle = 0$$\n",
    "if and only if $\\mathbf{u}$ is the **zero vector**, $\\mathbf{0}$, i.e. the vector whose elements are all zero."
   ]
  },
  {
   "cell_type": "markdown",
   "metadata": {},
   "source": [
    "## Vectors in three dimensions"
   ]
  },
  {
   "cell_type": "markdown",
   "metadata": {},
   "source": [
    "So far, we have considered vectors that have two coordinates each, corresponding to coordinates on the two-dimensional plane, $\\mathbb{R}^2$. Instead, we could consider three-dimensional vectors, such as $\\mathbf{a} = \\begin{pmatrix} 3 \\\\ 5 \\\\ 7 \\end{pmatrix}$ and $\\mathbf{b} = \\begin{pmatrix} 4 \\\\ 6 \\\\ 4 \\end{pmatrix}$:"
   ]
  },
  {
   "cell_type": "code",
   "execution_count": 33,
   "metadata": {
    "collapsed": false
   },
   "outputs": [
    {
     "data": {
      "image/png": "[encoded data removed]",
      "text/plain": [
       "<Figure size 432x288 with 1 Axes>"
      ]
     },
     "metadata": {},
     "output_type": "display_data"
    }
   ],
   "source": [
    "fig = plt.figure()\n",
    "ax = fig.add_subplot(111, projection='3d')\n",
    "ax.set_xlim((-10, 10))\n",
    "ax.set_ylim((-10, 10))\n",
    "ax.set_zlim((-10, 10))\n",
    "ax.quiver(0, 0, 0, 3, 5, 7, color='blue', label='$\\mathbf{a}$')\n",
    "ax.quiver(0, 0, 0, 4, 6, 4, color='green', label='$\\mathbf{b}$')\n",
    "ax.plot([0], [0], [0], 'o', markerfacecolor='none', label='origin')\n",
    "ax.legend();"
   ]
  },
  {
   "cell_type": "markdown",
   "metadata": {},
   "source": [
    "In the three-dimensional case, vector addition and multiplication by scalars are defined elementwise, as before:"
   ]
  },
  {
   "cell_type": "code",
   "execution_count": 34,
   "metadata": {
    "collapsed": false
   },
   "outputs": [
    {
     "data": {
      "text/plain": [
       "array([  7.,  11.,  11.])"
      ]
     },
     "execution_count": 34,
     "metadata": {},
     "output_type": "execute_result"
    }
   ],
   "source": [
    "a = np.array((3., 5., 7.))\n",
    "b = np.array((4., 6., 4.))\n",
    "a + b"
   ]
  },
  {
   "cell_type": "code",
   "execution_count": 35,
   "metadata": {
    "collapsed": false
   },
   "outputs": [
    {
     "data": {
      "text/plain": [
       "1.5"
      ]
     },
     "execution_count": 35,
     "metadata": {},
     "output_type": "execute_result"
    }
   ],
   "source": [
    "alpha"
   ]
  },
  {
   "cell_type": "code",
   "execution_count": 36,
   "metadata": {
    "collapsed": false
   },
   "outputs": [
    {
     "data": {
      "text/plain": [
       "array([  4.5,   7.5,  10.5])"
      ]
     },
     "execution_count": 36,
     "metadata": {},
     "output_type": "execute_result"
    }
   ],
   "source": [
    "alpha * a"
   ]
  },
  {
   "cell_type": "code",
   "execution_count": 37,
   "metadata": {
    "collapsed": false
   },
   "outputs": [
    {
     "data": {
      "text/plain": [
       "array([ -4.5,  -7.5, -10.5])"
      ]
     },
     "execution_count": 37,
     "metadata": {},
     "output_type": "execute_result"
    }
   ],
   "source": [
    "beta = -alpha\n",
    "beta * a"
   ]
  },
  {
   "cell_type": "code",
   "execution_count": 38,
   "metadata": {
    "collapsed": false
   },
   "outputs": [
    {
     "data": {
      "image/png": "[encoded data removed]",
      "text/plain": [
       "<Figure size 432x288 with 1 Axes>"
      ]
     },
     "metadata": {},
     "output_type": "display_data"
    }
   ],
   "source": [
    "from mpl_toolkits.mplot3d import Axes3D\n",
    "fig = plt.figure()\n",
    "ax = fig.add_subplot(111, projection='3d')\n",
    "ax.set_xlim((-10, 10))\n",
    "ax.set_ylim((-10, 10))\n",
    "ax.set_zlim((-10, 10))\n",
    "ax.quiver(0, 0, 0, a[0], a[1], a[2], color='blue', label='$\\mathbf{a}$')\n",
    "ax.quiver(0, 0, 0, -alpha * a[0], -alpha * a[1], -alpha * a[2], color='green', label='$-1.5 \\mathbf{a}$')\n",
    "ax.plot([0], [0], [0], 'o', markerfacecolor='none', label='origin')\n",
    "ax.legend();"
   ]
  },
  {
   "cell_type": "markdown",
   "metadata": {},
   "source": [
    "## Vectors in higher dimensions"
   ]
  },
  {
   "cell_type": "markdown",
   "metadata": {},
   "source": [
    "We needn't restrict ourselves to three-dimensional vectors. We could easily define $\\mathbf{c} = \\begin{pmatrix} 4 \\\\ 7 \\\\ 8 \\\\ 2 \\end{pmatrix}$ and $\\mathbf{d} = \\begin{pmatrix} -12 \\\\ 3 \\\\ 7 \\\\ 3 \\end{pmatrix}$, and do arithmetics elementwise, as before:"
   ]
  },
  {
   "cell_type": "code",
   "execution_count": 39,
   "metadata": {
    "collapsed": false
   },
   "outputs": [
    {
     "data": {
      "text/plain": [
       "array([-8, 10, 15,  5])"
      ]
     },
     "execution_count": 39,
     "metadata": {},
     "output_type": "execute_result"
    }
   ],
   "source": [
    "c = np.array((4, 7, 8, 2))\n",
    "d = np.array((-12, 3, 7, 3))\n",
    "c + d"
   ]
  },
  {
   "cell_type": "code",
   "execution_count": 40,
   "metadata": {
    "collapsed": false
   },
   "outputs": [
    {
     "data": {
      "text/plain": [
       "array([  6. ,  10.5,  12. ,   3. ])"
      ]
     },
     "execution_count": 40,
     "metadata": {},
     "output_type": "execute_result"
    }
   ],
   "source": [
    "alpha * c"
   ]
  },
  {
   "cell_type": "markdown",
   "metadata": {},
   "source": [
    "In data science, we usually deal with tables of observations. Such as this table:"
   ]
  },
  {
   "cell_type": "code",
   "execution_count": 41,
   "metadata": {
    "collapsed": false
   },
   "outputs": [
    {
     "data": {
      "text/html": [
       "<div>\n",
       "<style>\n",
       "    .dataframe thead tr:only-child th {\n",
       "        text-align: right;\n",
       "    }\n",
       "\n",
       "    .dataframe thead th {\n",
       "        text-align: left;\n",
       "    }\n",
       "\n",
       "    .dataframe tbody tr th {\n",
       "        vertical-align: top;\n",
       "    }\n",
       "</style>\n",
       "<table border=\"1\" class=\"dataframe\">\n",
       "  <thead>\n",
       "    <tr style=\"text-align: right;\">\n",
       "      <th></th>\n",
       "      <th>transaction date</th>\n",
       "      <th>house age</th>\n",
       "      <th>distance to the nearest MRT station</th>\n",
       "      <th>number of convenience stores</th>\n",
       "      <th>latitude</th>\n",
       "      <th>longitude</th>\n",
       "      <th>house price per unit area</th>\n",
       "    </tr>\n",
       "  </thead>\n",
       "  <tbody>\n",
       "    <tr>\n",
       "      <th>0</th>\n",
       "      <td>2012.917</td>\n",
       "      <td>32.0</td>\n",
       "      <td>84.87882</td>\n",
       "      <td>10</td>\n",
       "      <td>24.98298</td>\n",
       "      <td>121.54024</td>\n",
       "      <td>37.9</td>\n",
       "    </tr>\n",
       "    <tr>\n",
       "      <th>1</th>\n",
       "      <td>2012.917</td>\n",
       "      <td>19.5</td>\n",
       "      <td>306.59470</td>\n",
       "      <td>9</td>\n",
       "      <td>24.98034</td>\n",
       "      <td>121.53951</td>\n",
       "      <td>42.2</td>\n",
       "    </tr>\n",
       "    <tr>\n",
       "      <th>2</th>\n",
       "      <td>2013.583</td>\n",
       "      <td>13.3</td>\n",
       "      <td>561.98450</td>\n",
       "      <td>5</td>\n",
       "      <td>24.98746</td>\n",
       "      <td>121.54391</td>\n",
       "      <td>47.3</td>\n",
       "    </tr>\n",
       "    <tr>\n",
       "      <th>3</th>\n",
       "      <td>2013.500</td>\n",
       "      <td>13.3</td>\n",
       "      <td>561.98450</td>\n",
       "      <td>5</td>\n",
       "      <td>24.98746</td>\n",
       "      <td>121.54391</td>\n",
       "      <td>54.8</td>\n",
       "    </tr>\n",
       "    <tr>\n",
       "      <th>4</th>\n",
       "      <td>2012.833</td>\n",
       "      <td>5.0</td>\n",
       "      <td>390.56840</td>\n",
       "      <td>5</td>\n",
       "      <td>24.97937</td>\n",
       "      <td>121.54245</td>\n",
       "      <td>43.1</td>\n",
       "    </tr>\n",
       "  </tbody>\n",
       "</table>\n",
       "</div>"
      ],
      "text/plain": [
       "   transaction date  house age  distance to the nearest MRT station  \\\n",
       "0          2012.917       32.0                             84.87882   \n",
       "1          2012.917       19.5                            306.59470   \n",
       "2          2013.583       13.3                            561.98450   \n",
       "3          2013.500       13.3                            561.98450   \n",
       "4          2012.833        5.0                            390.56840   \n",
       "\n",
       "   number of convenience stores  latitude  longitude  \\\n",
       "0                            10  24.98298  121.54024   \n",
       "1                             9  24.98034  121.53951   \n",
       "2                             5  24.98746  121.54391   \n",
       "3                             5  24.98746  121.54391   \n",
       "4                             5  24.97937  121.54245   \n",
       "\n",
       "   house price per unit area  \n",
       "0                       37.9  \n",
       "1                       42.2  \n",
       "2                       47.3  \n",
       "3                       54.8  \n",
       "4                       43.1  "
      ]
     },
     "execution_count": 41,
     "metadata": {},
     "output_type": "execute_result"
    }
   ],
   "source": [
    "import pandas as pd\n",
    "df = pd.DataFrame({\n",
    "    'transaction date': [2012.917, 2012.917, 2013.583, 2013.500, 2012.833],\n",
    "    'house age': [32.0, 19.5, 13.3, 13.3, 5.0],\n",
    "    'distance to the nearest MRT station': [84.87882, 306.59470, 561.98450, 561.98450, 390.56840],\n",
    "    'number of convenience stores': [10, 9, 5, 5, 5],\n",
    "    'latitude': [24.98298, 24.98034, 24.98746, 24.98746, 24.97937],\n",
    "    'longitude': [121.54024, 121.53951, 121.54391, 121.54391, 121.54245],\n",
    "    'house price per unit area': [37.9, 42.2, 47.3, 54.8, 43.1]\n",
    "}, columns=[\n",
    "    'transaction date',\n",
    "    'house age',\n",
    "    'distance to the nearest MRT station',\n",
    "    'number of convenience stores',\n",
    "    'latitude',\n",
    "    'longitude',\n",
    "    'house price per unit area'\n",
    "])\n",
    "df"
   ]
  },
  {
   "cell_type": "markdown",
   "metadata": {},
   "source": [
    "Vectors are a natural way to represent table columns. In particular, if our goal is to predict (well, explain) house price per unit area using the other columns, we define the required outputs as a vector\n",
    "$$\\begin{pmatrix} 37.9 \\\\ 42.2 \\\\ 47.3 \\\\ 54.8 \\\\ 43.1 \\end{pmatrix}.$$"
   ]
  },
  {
   "cell_type": "markdown",
   "metadata": {},
   "source": [
    "Or, in NumPy,"
   ]
  },
  {
   "cell_type": "code",
   "execution_count": 42,
   "metadata": {
    "collapsed": false
   },
   "outputs": [
    {
     "data": {
      "text/plain": [
       "array([ 37.9,  42.2,  47.3,  54.8,  43.1])"
      ]
     },
     "execution_count": 42,
     "metadata": {},
     "output_type": "execute_result"
    }
   ],
   "source": [
    "house_price = np.array([37.9, 42.2, 47.3, 54.8, 43.1])\n",
    "house_price"
   ]
  },
  {
   "cell_type": "markdown",
   "metadata": {},
   "source": [
    "Thus NumPy is one of the most commonly useful Python libraries, a workhorse underlying the work of many other libraries, such as Pandas.\n",
    "\n",
    "Machine learning algorithms, such as linear regression, can then operate on this object to give us the desired results."
   ]
  },
  {
   "cell_type": "markdown",
   "metadata": {},
   "source": [
    "We wouldn't be able to visualise four-dimensional vectors. We can nonetheless gain some geometric intuition by \"pretending\" that we deal with familiar two- and three-dimensional spaces."
   ]
  },
  {
   "cell_type": "markdown",
   "metadata": {},
   "source": [
    "Notice that it would only make sense to talk about adding the vectors $\\mathbf{u}$ and $\\mathbf{v}$ if they have the same number of elements."
   ]
  },
  {
   "cell_type": "markdown",
   "metadata": {},
   "source": [
    "In general, we talk about the **vector space** of two-dimensional vectors, $\\mathbb{R}^2$, the vector space of three-dimensional vectors, $\\mathbb{R}^3$, the vector space of four-dimensional vectors, $\\mathbb{R}^4$, etc. and write $$\\begin{pmatrix} 3 \\\\ 5 \\\\ 7 \\end{pmatrix} \\in \\mathbb{R}^3$$ meaning that the vector $\\begin{pmatrix} 3 \\\\ 5 \\\\ 7 \\end{pmatrix}$ is an element of $\\mathbb{R}^3$. It makes sense to talk about the addition of two vectors if they belong to the same vector space."
   ]
  },
  {
   "cell_type": "markdown",
   "metadata": {},
   "source": [
    "## Vectors in general: vector spaces"
   ]
  },
  {
   "cell_type": "markdown",
   "metadata": {},
   "source": [
    "Mathematicians like abstraction. Indeed, much of the power of mathematics is in abstraction. The notions of a vector and vector space can be further generalised as follows."
   ]
  },
  {
   "cell_type": "markdown",
   "metadata": {},
   "source": [
    "Formally, a **vector space** (or **linear space**) over a [field](https://en.wikipedia.org/wiki/Field_(mathematics)) $F$ (such as real numbers, $\\mathbb{R}$) is a set $V$ together with two operations that satisfy the following eight axioms, the first four axioms stipulate the properties of vector addition alone, whereas the last four involve scalar multiplication:\n",
    "\n",
    "* **A1**: Associativity of addition: $(\\mathbf{u} + \\mathbf{v}) + \\mathbf{w} = \\mathbf{u} + (\\mathbf{v} + \\mathbf{w})$ for all $\\mathbf{u}, \\mathbf{v}, \\mathbf{w} \\in V$.\n",
    "* **A2**: Commutativity of addition: $\\mathbf{u} + \\mathbf{v} = \\mathbf{v} + \\mathbf{u}$ for all $\\mathbf{u}, \\mathbf{v} \\in V$.\n",
    "* **A3**: **Identity** element of addition: there exists an element $\\mathbf{0} \\in V$, called the **zero vector**, such that $\\mathbf{0} + \\mathbf{v} = \\mathbf{v}$ for all $\\mathbf{v} \\in V$.\n",
    "* **A4**: **Inverse** elements of addition: for each $\\mathbf{v} \\in V$, there exists its **additive inverse** $-\\mathbf{v} \\in V$, such that $\\mathbf{v} + (-\\mathbf{v}) = \\mathbf{0}$.\n",
    "* **S1**: Distributivity of scalar multiplication over vector addition: $\\alpha(\\mathbf{u} + \\mathbf{v}) = \\alpha \\mathbf{u} + \\alpha \\mathbf{v}$ for all $\\mathbf{u}, \\mathbf{v} \\in V$, $\\alpha \\in F$.\n",
    "* **S2**: Distributivity of scalar multiplication over field addition: $(\\alpha + \\beta)\\mathbf{v} = \\alpha \\mathbf{v} + \\beta \\mathbf{v}$ for all $\\alpha, \\beta \\in F$, $\\mathbf{v} \\in V$.\n",
    "* **S3**: Compatibility of scalar multiplication with field multiplication: $\\alpha (\\beta \\mathbf{v}) = (\\alpha \\beta) \\mathbf{v}$ for all $\\alpha, \\beta \\in F$, $\\mathbf{v} \\in V$.\n",
    "* **S4**: **Identity** element of scalar multiplication, preservation of scale: $1 \\mathbf{v} = \\mathbf{v}$ for the multiplicative identity $1 \\in F$, and all $\\mathbf{v} \\in V$.\n"
   ]
  },
  {
   "cell_type": "markdown",
   "metadata": {},
   "source": [
    "The sets $\\mathbb{R}^2$, $\\mathbb{R}^3$, $\\mathbb{R}^4$, are all vector spaces and the special vectors, whose elements are all zeros,\n",
    "$$\\begin{pmatrix} 0 \\\\ 0 \\end{pmatrix} \\in \\mathbb{R}^2, \\begin{pmatrix} 0 \\\\ 0 \\\\ 0 \\end{pmatrix} \\in \\mathbb{R}^3, \\ldots$$\n",
    "are their corresponding **zero vectors**."
   ]
  },
  {
   "cell_type": "markdown",
   "metadata": {},
   "source": [
    "Let us use NumPy to verify that, for example, $\\mathbb{R}^3$ adheres to the above axioms:"
   ]
  },
  {
   "cell_type": "code",
   "execution_count": 43,
   "metadata": {
    "collapsed": true
   },
   "outputs": [],
   "source": [
    "u = np.array((3., 5., 7.))\n",
    "v = np.array((4., 6., 4.))\n",
    "w = np.array((-3., -3., 10.))"
   ]
  },
  {
   "cell_type": "markdown",
   "metadata": {},
   "source": [
    "Let us check **A1** (associativity of addition):"
   ]
  },
  {
   "cell_type": "code",
   "execution_count": 44,
   "metadata": {
    "collapsed": false
   },
   "outputs": [
    {
     "data": {
      "text/plain": [
       "array([  4.,   8.,  21.])"
      ]
     },
     "execution_count": 44,
     "metadata": {},
     "output_type": "execute_result"
    }
   ],
   "source": [
    "(u + v) + w"
   ]
  },
  {
   "cell_type": "code",
   "execution_count": 45,
   "metadata": {
    "collapsed": false
   },
   "outputs": [
    {
     "data": {
      "text/plain": [
       "array([  4.,   8.,  21.])"
      ]
     },
     "execution_count": 45,
     "metadata": {},
     "output_type": "execute_result"
    }
   ],
   "source": [
    "u + (v + w)"
   ]
  },
  {
   "cell_type": "code",
   "execution_count": 46,
   "metadata": {
    "collapsed": false
   },
   "outputs": [
    {
     "data": {
      "text/plain": [
       "array([ True,  True,  True], dtype=bool)"
      ]
     },
     "execution_count": 46,
     "metadata": {},
     "output_type": "execute_result"
    }
   ],
   "source": [
    "(u + v) + w == u + (v + w)"
   ]
  },
  {
   "cell_type": "code",
   "execution_count": 47,
   "metadata": {
    "collapsed": false
   },
   "outputs": [
    {
     "data": {
      "text/plain": [
       "True"
      ]
     },
     "execution_count": 47,
     "metadata": {},
     "output_type": "execute_result"
    }
   ],
   "source": [
    "np.all((u + v) + w == u + (v + w))"
   ]
  },
  {
   "cell_type": "markdown",
   "metadata": {},
   "source": [
    "Let's verify **A2** (commutativity of addition):"
   ]
  },
  {
   "cell_type": "code",
   "execution_count": 48,
   "metadata": {
    "collapsed": false
   },
   "outputs": [
    {
     "data": {
      "text/plain": [
       "True"
      ]
     },
     "execution_count": 48,
     "metadata": {},
     "output_type": "execute_result"
    }
   ],
   "source": [
    "np.all(u + v == v + u)"
   ]
  },
  {
   "cell_type": "markdown",
   "metadata": {},
   "source": [
    "Now let's **A3** (identity element of addition):"
   ]
  },
  {
   "cell_type": "code",
   "execution_count": 49,
   "metadata": {
    "collapsed": false
   },
   "outputs": [
    {
     "data": {
      "text/plain": [
       "array([ 0.,  0.,  0.])"
      ]
     },
     "execution_count": 49,
     "metadata": {},
     "output_type": "execute_result"
    }
   ],
   "source": [
    "zero = np.zeros(3)\n",
    "zero"
   ]
  },
  {
   "cell_type": "code",
   "execution_count": 50,
   "metadata": {
    "collapsed": false
   },
   "outputs": [
    {
     "data": {
      "text/plain": [
       "True"
      ]
     },
     "execution_count": 50,
     "metadata": {},
     "output_type": "execute_result"
    }
   ],
   "source": [
    "np.all(zero + v == v)"
   ]
  },
  {
   "cell_type": "markdown",
   "metadata": {},
   "source": [
    "And **A4** (inverse elements of addition):"
   ]
  },
  {
   "cell_type": "code",
   "execution_count": 51,
   "metadata": {
    "collapsed": false
   },
   "outputs": [
    {
     "data": {
      "text/plain": [
       "True"
      ]
     },
     "execution_count": 51,
     "metadata": {},
     "output_type": "execute_result"
    }
   ],
   "source": [
    "np.all(np.array(v + (-v) == zero))"
   ]
  },
  {
   "cell_type": "markdown",
   "metadata": {},
   "source": [
    "Let's confirm **S1** (distributivity of scalar multiplication over vector addition):"
   ]
  },
  {
   "cell_type": "code",
   "execution_count": 52,
   "metadata": {
    "collapsed": true
   },
   "outputs": [],
   "source": [
    "alpha = -5.\n",
    "beta = 7."
   ]
  },
  {
   "cell_type": "code",
   "execution_count": 53,
   "metadata": {
    "collapsed": false
   },
   "outputs": [
    {
     "data": {
      "text/plain": [
       "True"
      ]
     },
     "execution_count": 53,
     "metadata": {},
     "output_type": "execute_result"
    }
   ],
   "source": [
    "np.all(alpha * (u + v) == alpha * u + alpha * v)"
   ]
  },
  {
   "cell_type": "markdown",
   "metadata": {},
   "source": [
    "**S2** (distributivity of scalar multiplication over field addition):"
   ]
  },
  {
   "cell_type": "code",
   "execution_count": 54,
   "metadata": {
    "collapsed": false
   },
   "outputs": [
    {
     "data": {
      "text/plain": [
       "True"
      ]
     },
     "execution_count": 54,
     "metadata": {},
     "output_type": "execute_result"
    }
   ],
   "source": [
    "np.all((alpha + beta) * v == alpha * v + beta * v)"
   ]
  },
  {
   "cell_type": "markdown",
   "metadata": {},
   "source": [
    "**S3** (compatibility of scalar multiplication with field multiplication):"
   ]
  },
  {
   "cell_type": "code",
   "execution_count": 55,
   "metadata": {
    "collapsed": false
   },
   "outputs": [
    {
     "data": {
      "text/plain": [
       "True"
      ]
     },
     "execution_count": 55,
     "metadata": {},
     "output_type": "execute_result"
    }
   ],
   "source": [
    "np.all(alpha * (beta * v) == (alpha * beta) * v)"
   ]
  },
  {
   "cell_type": "markdown",
   "metadata": {},
   "source": [
    "Finally, let's confirm **S4** (identity element of scalar multiplication):"
   ]
  },
  {
   "cell_type": "code",
   "execution_count": 56,
   "metadata": {
    "collapsed": false
   },
   "outputs": [
    {
     "data": {
      "text/plain": [
       "True"
      ]
     },
     "execution_count": 56,
     "metadata": {},
     "output_type": "execute_result"
    }
   ],
   "source": [
    "np.all(1 * v == v)"
   ]
  },
  {
   "cell_type": "markdown",
   "metadata": {},
   "source": [
    "## The vector space of functions"
   ]
  },
  {
   "cell_type": "markdown",
   "metadata": {},
   "source": [
    "There are some more unexpected vector spaces, such as the **vector space of functions**. Consider functions from real numbers to real numbers, $f: \\mathbb{R} \\rightarrow \\mathbb{R}$, $g: \\mathbb{R} \\rightarrow \\mathbb{R}$. We can define the sum of these functions as another function,\n",
    "$$(f + g): \\mathbb{R} \\rightarrow \\mathbb{R},$$\n",
    "such that it maps its argument $x$ to the sum of $f(x)$ and $g(x)$:\n",
    "$$f + g: x \\mapsto f(x) + g(x).$$\n",
    "We can similarly define the product of a function $f$ with a scalar $\\alpha \\in \\mathbb{R}$:\n",
    "$$\\alpha f: \\mathbb{R} \\rightarrow \\mathbb{R}, \\quad \\alpha f: x \\mapsto \\alpha f(x).$$\n",
    "It is then easy to see that, functions, with addition and scalar multiplication defined in this manner, satisfy the axioms of a vector space:"
   ]
  },
  {
   "cell_type": "code",
   "execution_count": 57,
   "metadata": {
    "collapsed": true
   },
   "outputs": [],
   "source": [
    "u = lambda x: 2. * x"
   ]
  },
  {
   "cell_type": "code",
   "execution_count": 58,
   "metadata": {
    "collapsed": true
   },
   "outputs": [],
   "source": [
    "v = lambda x: x * x"
   ]
  },
  {
   "cell_type": "code",
   "execution_count": 59,
   "metadata": {
    "collapsed": true
   },
   "outputs": [],
   "source": [
    "w = lambda x: 3. * x + 1."
   ]
  },
  {
   "cell_type": "code",
   "execution_count": 60,
   "metadata": {
    "collapsed": true
   },
   "outputs": [],
   "source": [
    "def plus(f1, f2):\n",
    "    return lambda x: f1(x) + f2(x)"
   ]
  },
  {
   "cell_type": "markdown",
   "metadata": {},
   "source": [
    "**A1** (associativity of addition):"
   ]
  },
  {
   "cell_type": "code",
   "execution_count": 61,
   "metadata": {
    "collapsed": true
   },
   "outputs": [],
   "source": [
    "lhs = plus(plus(u, v), w)"
   ]
  },
  {
   "cell_type": "code",
   "execution_count": 62,
   "metadata": {
    "collapsed": true
   },
   "outputs": [],
   "source": [
    "rhs = plus(u, plus(v, w))"
   ]
  },
  {
   "cell_type": "code",
   "execution_count": 63,
   "metadata": {
    "collapsed": false
   },
   "outputs": [
    {
     "data": {
      "text/plain": [
       "True"
      ]
     },
     "execution_count": 63,
     "metadata": {},
     "output_type": "execute_result"
    }
   ],
   "source": [
    "lhs(5.) == rhs(5.)"
   ]
  },
  {
   "cell_type": "code",
   "execution_count": 64,
   "metadata": {
    "collapsed": false
   },
   "outputs": [
    {
     "data": {
      "text/plain": [
       "True"
      ]
     },
     "execution_count": 64,
     "metadata": {},
     "output_type": "execute_result"
    }
   ],
   "source": [
    "lhs(10.) == rhs(10.)"
   ]
  },
  {
   "cell_type": "markdown",
   "metadata": {},
   "source": [
    "**A2** (commutativity of addition):"
   ]
  },
  {
   "cell_type": "code",
   "execution_count": 65,
   "metadata": {
    "collapsed": false
   },
   "outputs": [
    {
     "data": {
      "text/plain": [
       "True"
      ]
     },
     "execution_count": 65,
     "metadata": {},
     "output_type": "execute_result"
    }
   ],
   "source": [
    "plus(u, v)(5.) == plus(v, u)(5.)"
   ]
  },
  {
   "cell_type": "markdown",
   "metadata": {},
   "source": [
    "**S1** (distributivity of scalar multiplication over vector addition):"
   ]
  },
  {
   "cell_type": "code",
   "execution_count": 66,
   "metadata": {
    "collapsed": true
   },
   "outputs": [],
   "source": [
    "def scalar_product(s, f):\n",
    "    return lambda x: s * f(x)"
   ]
  },
  {
   "cell_type": "code",
   "execution_count": 67,
   "metadata": {
    "collapsed": false
   },
   "outputs": [
    {
     "data": {
      "text/plain": [
       "True"
      ]
     },
     "execution_count": 67,
     "metadata": {},
     "output_type": "execute_result"
    }
   ],
   "source": [
    "lhs = scalar_product(alpha, plus(u, v))\n",
    "rhs = plus(scalar_product(alpha, u), scalar_product(alpha, v))\n",
    "lhs(5.) == rhs(5.)"
   ]
  },
  {
   "cell_type": "markdown",
   "metadata": {},
   "source": [
    "We can verify the other axioms in a similar manner."
   ]
  },
  {
   "cell_type": "markdown",
   "metadata": {},
   "source": [
    "## Linear combinations, linear independence, span, and basis"
   ]
  },
  {
   "cell_type": "markdown",
   "metadata": {},
   "source": [
    "A weighted (by scalars) sum of vectors is called a **linear combination**:\n",
    "$$\\alpha_1 \\mathbf{v}_1 + \\alpha_2 \\mathbf{v}_2 + \\alpha_3 \\mathbf{v}_3 + \\ldots + \\alpha_k \\mathbf{v}_k,$$\n",
    "for example,\n",
    "$$3.5 \\begin{pmatrix} -3 \\\\ 3 \\\\ 5 \\end{pmatrix} + 2.7 \\begin{pmatrix} 25 \\\\ 7 \\\\ 13 \\end{pmatrix} + 2.35 \\begin{pmatrix} 1 \\\\ 1 \\\\ 1.5 \\end{pmatrix}.$$"
   ]
  },
  {
   "cell_type": "code",
   "execution_count": 68,
   "metadata": {
    "collapsed": false
   },
   "outputs": [
    {
     "data": {
      "text/plain": [
       "array([ 59.35 ,  31.75 ,  56.125])"
      ]
     },
     "execution_count": 68,
     "metadata": {},
     "output_type": "execute_result"
    }
   ],
   "source": [
    "3.5 * np.array([-3., 3., 5.]) + 2.7 * np.array([25., 7., 13.]) + 2.35 * np.array([1., 1., 1.5])"
   ]
  },
  {
   "cell_type": "markdown",
   "metadata": {},
   "source": [
    "Vectors $\\mathbf{v}_1, \\mathbf{v}_2, \\ldots, \\mathbf{v}_k$ are said to be **linearly independent** if none of them can be written as a linear combination of the remaining vectors. Thus\n",
    "$$\\begin{pmatrix} -3 \\\\ 3 \\\\ 5 \\end{pmatrix}, \\begin{pmatrix} 25 \\\\ 7 \\\\ 13 \\end{pmatrix}, \\begin{pmatrix} 1 \\\\ 1 \\\\ 1.5 \\end{pmatrix}$$\n",
    "are linearly independent, whereas\n",
    "$$\\begin{pmatrix} -3 \\\\ 3 \\\\ 5 \\end{pmatrix}, \\begin{pmatrix} 25 \\\\ 7 \\\\ 13 \\end{pmatrix}, \\begin{pmatrix} 34 \\\\ -2 \\\\ -2 \\end{pmatrix}$$\n",
    "aren't, because\n",
    "$$\\begin{pmatrix} 34 \\\\ -2 \\\\ -3 \\end{pmatrix} = -3 \\begin{pmatrix} -3 \\\\ 3 \\\\ 5 \\end{pmatrix} + \\begin{pmatrix} 25 \\\\ 7 \\\\ 13 \\end{pmatrix}.$$"
   ]
  },
  {
   "cell_type": "markdown",
   "metadata": {},
   "source": [
    "Vectors are set to **span** a particular vector space if any vector in that vector space can be written as a linear combination of those vectors."
   ]
  },
  {
   "cell_type": "markdown",
   "metadata": {},
   "source": [
    "Consider the vectors $\\mathbf{u} = \\begin{pmatrix} 4 \\\\ 6 \\end{pmatrix}$ and $\\mathbf{v} = \\begin{pmatrix} 5 \\\\ 3 \\end{pmatrix}$."
   ]
  },
  {
   "cell_type": "markdown",
   "metadata": {},
   "source": [
    "Can we obtain another vector, say $\\mathbf{w} = \\begin{pmatrix} -7 \\\\ 3 \\end{pmatrix}$ as a linear combination of $\\mathbf{u}$ and $\\mathbf{v}$? In other words, can we find the scalars $x_1$ and $x_2$ such that $$x_1 \\mathbf{u} + x_2 \\mathbf{v} = \\mathbf{w}?$$"
   ]
  },
  {
   "cell_type": "markdown",
   "metadata": {},
   "source": [
    "This seems easy enough: what we really need is\n",
    "$$x_1 \\begin{pmatrix} 4 \\\\ 6 \\end{pmatrix} + x_2 \\begin{pmatrix} 5 \\\\ 3 \\end{pmatrix} = \\begin{pmatrix} -7 \\\\ 3 \\end{pmatrix},$$\n",
    "i.e.\n",
    "$$\\begin{pmatrix} 4 x_1 \\\\ 6 x_1 \\end{pmatrix} + \\begin{pmatrix} 5 x_2 \\\\ 3 x_2 \\end{pmatrix} = \\begin{pmatrix} -7 \\\\ 3 \\end{pmatrix},$$\n",
    "or\n",
    "$$\\begin{pmatrix} 4 x_1 + 5 x_2 \\\\ 6 x_1 + 3 x_2 \\end{pmatrix} = \\begin{pmatrix} -7 \\\\ 3 \\end{pmatrix}.$$"
   ]
  },
  {
   "cell_type": "markdown",
   "metadata": {},
   "source": [
    "The left-hand side and the right-hand side must be equal coordinatewise. Thus we obtain a system of linear equations\n",
    "$$4 x_1 + 5 x_2 = -7,$$\n",
    "$$6 x_1 + 3 x_2 = 3.$$\n",
    "\n",
    "From the second linear equation, we obtain\n",
    "$$x_1 = \\frac{3 - 3 x_2}{6} = \\frac{1 - x_2}{2}.$$\n",
    "We substitute this into the first linear equation, obtaining\n",
    "$$4 \\cdot \\frac{1 - x_2}{2} + 5 x_2 = -7,$$\n",
    "whence $x_2 = -3$, and so $x_1 = \\frac{1 - (-3)}{2} = 2$."
   ]
  },
  {
   "cell_type": "markdown",
   "metadata": {},
   "source": [
    "Let's check:"
   ]
  },
  {
   "cell_type": "code",
   "execution_count": 69,
   "metadata": {
    "collapsed": false
   },
   "outputs": [
    {
     "data": {
      "text/plain": [
       "array([-7.,  3.])"
      ]
     },
     "execution_count": 69,
     "metadata": {},
     "output_type": "execute_result"
    }
   ],
   "source": [
    "u = np.array([4, 6])\n",
    "v = np.array([5, 3])\n",
    "x1 = 2.; x2 = -3.\n",
    "x1 * u + x2 * v"
   ]
  },
  {
   "cell_type": "markdown",
   "metadata": {},
   "source": [
    "We notice that there is nothing special about $\\mathbf{w} = \\begin{pmatrix} -7 \\\\ 3 \\end{pmatrix}$ in the above example. We could take a general $\\mathbf{b} = \\begin{pmatrix} b_1 \\\\ b_2 \\end{pmatrix}$ and find such $x_1, x_2$ that\n",
    "$$x_1 \\mathbf{u} + x_2 \\mathbf{v} = \\mathbf{b}.$$"
   ]
  },
  {
   "cell_type": "markdown",
   "metadata": {},
   "source": [
    "Our linear system then becomes\n",
    "$$4 x_1 + 5 x_2 = b_1,$$\n",
    "$$6 x_1 + 3 x_2 = b_2.$$\n",
    "\n",
    "From the second linear equation, we obtain $$x_1 = \\frac{b_2 - 3 x_2}{6}.$$\n",
    "We substitute this into the first linear equation, obtaining\n",
    "$$x_2 = \\frac{1}{3} b_1 - \\frac{2}{9} b_2,$$\n",
    "hence\n",
    "$$x_1 = -\\frac{1}{6} b_1 + \\frac{5}{18} b_2.$$"
   ]
  },
  {
   "cell_type": "markdown",
   "metadata": {},
   "source": [
    "We can check that these results are consistent with the above when $b_1 = -7$, $b_2 = 3$:"
   ]
  },
  {
   "cell_type": "code",
   "execution_count": 70,
   "metadata": {
    "collapsed": false
   },
   "outputs": [
    {
     "data": {
      "text/plain": [
       "array([ 2., -3.])"
      ]
     },
     "execution_count": 70,
     "metadata": {},
     "output_type": "execute_result"
    }
   ],
   "source": [
    "b = np.array([-7, 3])\n",
    "x = np.array([-1./6. * b[0] + 5./18. * b[1], 1./3. * b[0] - 2./9. * b[1]])\n",
    "x"
   ]
  },
  {
   "cell_type": "markdown",
   "metadata": {},
   "source": [
    "Indeed they are."
   ]
  },
  {
   "cell_type": "markdown",
   "metadata": {},
   "source": [
    "A set of vectors that span their vector space and are linearly independent are called a **basis** for that space."
   ]
  },
  {
   "cell_type": "markdown",
   "metadata": {},
   "source": [
    "For example, the vectors\n",
    "$$\\mathbf{e}_1 = \\begin{pmatrix} 1 \\\\ 0 \\end{pmatrix}, \\quad \\mathbf{e}_2 = \\begin{pmatrix} 0 \\\\ 1 \\end{pmatrix}$$\n",
    "span the vector space $\\mathbb{R}^2$. Any vector $\\mathbf{b} = \\begin{pmatrix} b_1 \\\\ b_2 \\end{pmatrix}$ in $\\mathbb{R}^2$ can be written as a linear combination of these vectors, namely as\n",
    "$$\\mathbf{b} = b_1 \\mathbf{e}_1 + b_2 \\mathbf{e}_2.$$"
   ]
  },
  {
   "cell_type": "markdown",
   "metadata": {},
   "source": [
    "$\\{\\mathbf{e}_1, \\mathbf{e}_2\\}$ is what is known as the **standard basis** for $\\mathbb{R}^2$, but there are others. We have already seen that the vectors in $\\left\\{\\mathbf{u} = \\begin{pmatrix} 4 \\\\ 6 \\end{pmatrix}, \\mathbf{v} = \\begin{pmatrix} 5 \\\\ 3 \\end{pmatrix}\\right\\}$ span $\\mathbb{R}^2$. In fact, they are linearly independent and also form a basis of $\\mathbb{R}^2$."
   ]
  },
  {
   "cell_type": "markdown",
   "metadata": {},
   "source": [
    "We have already seen that the **change of basis** from $\\{\\mathbf{e}_1, \\mathbf{e}_2\\}$ to $\\{\\mathbf{u}, \\mathbf{v}\\}$ is given by the above solution to the linear system, namely\n",
    "$$\\mathbf{x} = \\begin{pmatrix} x_1 \\\\ x_2 \\end{pmatrix} = \\begin{pmatrix} -\\frac{1}{6} b_1 + \\frac{5}{18} b_2 \\\\ \\frac{1}{3} b_1 - \\frac{2}{9} b_2 \\end{pmatrix}.$$\n",
    "Thus we can rewrite\n",
    "$$\\mathbf{b} = b_1 \\mathbf{e}_1 + b_2 \\mathbf{e}_2 = x_1 \\mathbf{u} + x_2 \\mathbf{v}.$$"
   ]
  },
  {
   "cell_type": "markdown",
   "metadata": {},
   "source": [
    "Change of basis forms the basis (no pun intended) of many statistical and machine learning techniques, such as the principal components analysis (PCA)."
   ]
  },
  {
   "cell_type": "markdown",
   "metadata": {},
   "source": [
    "It can be shown that all bases (that's the plural of the word basis) for a particular vector space have the same number of elements called the **dimension** of that vector space. Thus $\\mathbb{R}^2$ is two-dimensional, $\\mathbb{R}^3$ is three-dimensional, etc. Whereas it can be shown that the vector space of functions, which we introduced above, is infinite-dimensional. The study of infinite-dimensional vector spaces gives rise to a separate discipline called infinite-dimensional analysis."
   ]
  },
  {
   "cell_type": "markdown",
   "metadata": {},
   "source": [
    "If you are interested in infinite-dimensional analysis, have a look at Charalambos D. Aliprantis's book *Infinite Dimensional Analysis: A Hitchhiker's Guide*: https://www.amazon.co.uk/Infinite-Dimensional-Analysis-Hitchhikers-Guide/dp/3540326960/"
   ]
  },
  {
   "cell_type": "markdown",
   "metadata": {},
   "source": [
    "## Subspaces"
   ]
  },
  {
   "cell_type": "markdown",
   "metadata": {},
   "source": [
    "A subset of a vector space is itself a vector space if it contains the zero vector and is closed under addition and scalar multiplication. It is then called a **subspace** of the original space."
   ]
  },
  {
   "cell_type": "markdown",
   "metadata": {},
   "source": [
    "For example, all multiples of $\\mathbf{u} = \\begin{pmatrix} 4 \\\\ 6 \\end{pmatrix}$,\n",
    "$$\\alpha \\mathbf{u}, \\quad \\alpha \\in \\mathbb{R},$$\n",
    "form a one-dimensional subspace of the two dimensional vector space $\\mathbb{R}^2$. (Note that the zero vector, which must be present in any vector space, is present in this subspace, since $0 \\cdot \\mathbf{u}$ is in it.)"
   ]
  },
  {
   "cell_type": "code",
   "execution_count": 10,
   "metadata": {
    "collapsed": false
   },
   "outputs": [
    {
     "name": "stderr",
     "output_type": "stream",
     "text": [
      "C:\\Programs\\Win64\\Anaconda\\V3.6_4.3.0\\lib\\site-packages\\ipykernel\\__main__.py:24: MatplotlibDeprecationWarning: axes.hold is deprecated.\n",
      "    See the API Changes document (http://matplotlib.org/api/api_changes.html)\n",
      "    for more details.\n"
     ]
    },
    {
     "ename": "NameError",
     "evalue": "name 'points2' is not defined",
     "output_type": "error",
     "traceback": [
      "\u001b[0;31m---------------------------------------------------------------------------\u001b[0m",
      "\u001b[0;31mNameError\u001b[0m                                 Traceback (most recent call last)",
      "\u001b[0;32m<ipython-input-10-ae653aa7ffe7>\u001b[0m in \u001b[0;36m<module>\u001b[0;34m()\u001b[0m\n\u001b[1;32m     24\u001b[0m \u001b[0max\u001b[0m\u001b[1;33m.\u001b[0m\u001b[0mhold\u001b[0m\u001b[1;33m(\u001b[0m\u001b[1;32mTrue\u001b[0m\u001b[1;33m)\u001b[0m\u001b[1;33m\u001b[0m\u001b[0m\n\u001b[1;32m     25\u001b[0m \u001b[1;33m\u001b[0m\u001b[0m\n\u001b[0;32m---> 26\u001b[0;31m \u001b[0max\u001b[0m\u001b[1;33m.\u001b[0m\u001b[0mscatter\u001b[0m\u001b[1;33m(\u001b[0m\u001b[0mpoints2\u001b[0m\u001b[1;33m[\u001b[0m\u001b[1;36m0\u001b[0m\u001b[1;33m]\u001b[0m\u001b[1;33m,\u001b[0m \u001b[0mpoint2\u001b[0m\u001b[1;33m[\u001b[0m\u001b[1;36m1\u001b[0m\u001b[1;33m]\u001b[0m\u001b[1;33m,\u001b[0m \u001b[0mpoint2\u001b[0m\u001b[1;33m[\u001b[0m\u001b[1;36m2\u001b[0m\u001b[1;33m]\u001b[0m\u001b[1;33m,\u001b[0m \u001b[0mcolor\u001b[0m\u001b[1;33m=\u001b[0m\u001b[1;34m'green'\u001b[0m\u001b[1;33m)\u001b[0m\u001b[1;33m\u001b[0m\u001b[0m\n\u001b[0m",
      "\u001b[0;31mNameError\u001b[0m: name 'points2' is not defined"
     ]
    },
    {
     "data": {
      "image/png": "[encoded data removed]",
      "text/plain": [
       "<matplotlib.figure.Figure at 0x1b0921438d0>"
      ]
     },
     "metadata": {},
     "output_type": "display_data"
    }
   ],
   "source": [
    "# plot the surface\n",
    "\n",
    "point  = np.array([1, 2, 3])\n",
    "normal = np.array([1, 1, 2])\n",
    "\n",
    "point2 = np.array([10, 50, 50])\n",
    "\n",
    "# a plane is a*x+b*y+c*z+d=0\n",
    "# [a,b,c] is the normal. Thus, we have to calculate\n",
    "# d and we're set\n",
    "d = -point.dot(normal)\n",
    "\n",
    "# create x,y\n",
    "xx, yy = np.meshgrid(range(10), range(10))\n",
    "\n",
    "# calculate corresponding z\n",
    "z = (-normal[0] * xx - normal[1] * yy - d) * 1. /normal[2]\n",
    "\n",
    "plt3d = plt.figure().gca(projection='3d')\n",
    "plt3d.plot_surface(xx, yy, z, alpha=0.2)\n",
    "\n",
    "# Ensure that the next plot doesn't overwrite the first plot\n",
    "ax = plt.gca()\n",
    "ax.hold(True)\n",
    "\n",
    "ax.scatter(points2[0], point2[1], point2[2], color='green')"
   ]
  },
  {
   "cell_type": "markdown",
   "metadata": {},
   "source": [
    "## Bibliography"
   ]
  },
  {
   "cell_type": "markdown",
   "metadata": {},
   "source": [
    "1. An excellent, deeper introduction to linear algebra can be found in Professor Gilbert Strang's video lectures for the *18.06 Linear Algebra* course at MIT: https://ocw.mit.edu/courses/mathematics/18-06-linear-algebra-spring-2010/video-lectures/\n",
    "1. The supporting textbook for that course is *Introduction to Linear Algebra*, 5th edition, by Gilbert Strang: https://www.amazon.co.uk/Introduction-Linear-Algebra-Gilbert-Strang/dp/0980232775/\n",
    "1. A more recent version of this book updated for data science and deep learning is *Linear Algebra and Learning from Data*, by Gilbert Strang, published in 2019: https://www.amazon.co.uk/Linear-Algebra-Learning-Gilbert-Strang/dp/0692196382/\n",
    "1. Another good text on linear algebra is *Linear Algebra*, 3rd edition, by John B. Fraleigh and Raymond A. Beauregard: https://www.amazon.co.uk/Linear-Algebra-Third-Fraleigh-1995-01-10/dp/B01MXJ76GM/\n",
    "1. One may also be recommended to read *Schaum's Outline of Linear Algebra*, 6th edition, by Seymour Lipschutz and Marc Lipson: https://www.amazon.co.uk/Schaums-Outline-Linear-Algebra-Outlines/dp/1260011445/\n",
    "1. Finally, we recommend getting hold of *M2N1 &mdash; Numerical Analysis* lecture notes by Brad Baxter, which, in addition to theory, contain some useful exercises: http://www.cato.tzo.com/brad/M2N1/m2n1_notes.pdf"
   ]
  }
 ],
 "metadata": {
  "kernelspec": {
   "display_name": "Python 3",
   "language": "python",
   "name": "python3"
  },
  "language_info": {
   "codemirror_mode": {
    "name": "ipython",
    "version": 3
   },
   "file_extension": ".py",
   "mimetype": "text/x-python",
   "name": "python",
   "nbconvert_exporter": "python",
   "pygments_lexer": "ipython3",
   "version": "3.6.0"
  }
 },
 "nbformat": 4,
 "nbformat_minor": 2
}
