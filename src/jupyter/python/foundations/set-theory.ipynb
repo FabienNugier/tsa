{
 "cells": [
  {
   "cell_type": "code",
   "execution_count": 1,
   "metadata": {
    "collapsed": true,
    "slideshow": {
     "slide_type": "skip"
    }
   },
   "outputs": [],
   "source": [
    "%matplotlib inline"
   ]
  },
  {
   "cell_type": "markdown",
   "metadata": {
    "slideshow": {
     "slide_type": "slide"
    }
   },
   "source": [
    "# Set theory and proofs"
   ]
  },
  {
   "cell_type": "markdown",
   "metadata": {
    "slideshow": {
     "slide_type": "fragment"
    }
   },
   "source": [
    "Mathematics, as it is taught at school, is usually taught by example. Pupils are asked to learn the various mathematical \"laws\" by rote. For example, we all know from school that $$3 + 5 = 8$$ and $$\\frac{d}{dx} x^2 = 2x.$$ We rarely pause and ask, why is this the case, and what are we really doing?"
   ]
  },
  {
   "cell_type": "markdown",
   "metadata": {
    "slideshow": {
     "slide_type": "slide"
    }
   },
   "source": [
    "In fact, a lot is going on in these equations. For example, we would have to spend a lot of time explaining what $dx$ \"really\" is in $$\\frac{d}{dx} x^2 = 2x.$$ We would either have to introduce the notion of an **infinitesimal** or resort to Silvanus Thompson's explanation from *Calculus Made Easy* (1910):\n",
    "<center>\n",
    "<em>$dx$ means a little bit of $x$.</em>\n",
    "</center>\n",
    "\n",
    "This explanation may be sufficient if we want to *do* mathematics rather than *understand* it. Thompson uses the Ancient Simian Proverb as an epigraph to his work:\n",
    "<center>\n",
    "<em>What one fool can do, another can.</em>\n",
    "</center>"
   ]
  },
  {
   "cell_type": "markdown",
   "metadata": {
    "slideshow": {
     "slide_type": "fragment"
    }
   },
   "source": [
    "<p/>\n",
    "<center>\n",
    "<img src=\"images/silvanus-thompson.png\" width=\"150\" alt=\"Silvanus Thompson\">\n",
    "</center>"
   ]
  },
  {
   "cell_type": "markdown",
   "metadata": {
    "slideshow": {
     "slide_type": "slide"
    }
   },
   "source": [
    "What are we doing, what is mathematics anyway? **\"Mathematics\"** is not a \"-logy\", unlike many of the sciences. The word itself comes from the Ancient Greek μαθηματικός (mathēmatikós, \"fond of learning\"). Thus mathematics is... a form of learning? This definition is as abstract as mathematics itself..."
   ]
  },
  {
   "cell_type": "markdown",
   "metadata": {
    "slideshow": {
     "slide_type": "fragment"
    }
   },
   "source": [
    "It was probably G. H. Hardy in *A Mathematician's Apology* (1940) who defined mathematics as the \"study of patterns\":\n",
    "<center>\n",
    "<em>A mathematician, like a painter or a poet, is a maker of patterns. If his patterns are more permanent than theirs, it is because they are made with ideas.</em>\n",
    "</center>\n",
    "\n",
    "<p/>\n",
    "<center>\n",
    "<img src=\"images/g-h-hardy-quote-mathematical-reality.png\" width=\"400\" alt=\"G. H. Hardy\">\n",
    "</center>"
   ]
  },
  {
   "cell_type": "markdown",
   "metadata": {
    "slideshow": {
     "slide_type": "slide"
    }
   },
   "source": [
    "Lynn Arthur Steen seconds him in *The Science of Patterns* (Science, 1988):\n",
    "<center>\n",
    "<em>Mathematics is often defined as the science of space and number, as the discipline rooted in geometry and arithmetic. Although the diversity of modern mathematics has always exceeded this definition, it was not until the recent resonance of computers and mathematics that a more apt definition became fully evident. Mathematics is the science of patterns. The mathematician seeks patterns in number, in space, in science, in computers, and in imagination.</em>\n",
    "</center>\n",
    "\n",
    "<p/>\n",
    "<center>\n",
    "<img src=\"images/lynn-steen-quote-science-of-patterns.png\" width=\"400\" alt=\"Lynn Arthur Steen\">\n",
    "</center>"
   ]
  },
  {
   "cell_type": "markdown",
   "metadata": {
    "slideshow": {
     "slide_type": "slide"
    }
   },
   "source": [
    "According to this definition, mathematics is a *study of patterns*. And patterns are more general than numbers. Therefore, a number cannot be the most basic \"unit\" of study in mathematics. What is this most basic \"unit\"? What abstraction could we introduce to study patterns in all their various forms, including numbers?\n",
    "\n",
    "In 1874, Georg Cantor introduced just such an abstraction in *On a Property of the Collection of All Real Algebraic Numbers*: the *set*. It has proved to be a very fruitful abstraction, allowing us, among other things, to formalise the notion of *infinity*.\n",
    "\n",
    "<p/>\n",
    "<center>\n",
    "<img src=\"images/georg-cantor.png\" alt=\"Georg Cantor\">\n",
    "</center>"
   ]
  },
  {
   "cell_type": "markdown",
   "metadata": {
    "slideshow": {
     "slide_type": "slide"
    }
   },
   "source": [
    "## Sets\n",
    "\n",
    "A **set** is (arguably) the most fundamental object in mathematics. It is a collection of distinct objects. For example, we could talk about the set of numbers from one up to ten, inclusive. We could give this set a name, say, $S$, and write it like so: $$S = \\{1, 2, 3, 4, 5, 6, 7, 8, 9, 10\\}.$$ We refer to objects in a particular set as its **elements**. We have just *defined* a particular set by listing its elements. Thus 3 is an element of $S$, and we write $$3 \\in S.$$ On the other hand, 11 is not an element of $S$, and we write $$11 \\notin S.$$ Neither, in fact, is Joe: $$\\text{Joe} \\notin S.$$"
   ]
  },
  {
   "cell_type": "markdown",
   "metadata": {
    "slideshow": {
     "slide_type": "slide"
    }
   },
   "source": [
    "## Finite and infinite sets\n",
    "\n",
    "This particular set, $$S = \\{1, 2, 3, 4, 5, 6, 7, 8, 9, 10\\},$$ is **finite**. Consider the set of all **natural numbers**: $$\\mathbb{N} = \\{1, 2, 3, 4, 5, 6, 7, 8, 9, 10, 11, 12, ...\\}.$$ There is no way to list all of its elements, of course, but at least, if we had an infinite amount of time, we could enumerate (list) them: \"one\", \"two\", \"three\", and so on. We call such sets **countably infinite** or **denumerable**."
   ]
  },
  {
   "cell_type": "markdown",
   "metadata": {
    "slideshow": {
     "slide_type": "slide"
    }
   },
   "source": [
    "## Equivalence of sets\n",
    "\n",
    "Two sets, $A$ and $B$ are said to be **equivalent** or **equinumerous** (we write $A \\sim B$) if a one-to-one correspondence can be set up between all their elements. For example, the sets $A = \\{1, 2, 3\\}$ and $B = \\{a, b, c\\}$ are equivalent:\n",
    "$$\n",
    "1 \\mapsto a, \\\\\n",
    "2 \\mapsto b, \\\\\n",
    "3 \\mapsto c.$$\n",
    "This is not the only such one-to-one correspondence; for example, we could use this one:\n",
    "$$\n",
    "1 \\mapsto b, \\\\\n",
    "2 \\mapsto a, \\\\\n",
    "3 \\mapsto c.\n",
    "$$"
   ]
  },
  {
   "cell_type": "markdown",
   "metadata": {
    "slideshow": {
     "slide_type": "slide"
    }
   },
   "source": [
    "On the other hand, $A = \\{1, 2\\}$ and $B = \\{a, b, c\\}$ are not equivalent: we need a *one-to-one* correspondence between *all* elements of $A$ and all the elements of $B$, but $A$ has fewer elements than $B$.\n",
    "\n",
    "Finite sets are equivalent if and only if (or, to use Paul Halmos's abbreviation, **iff**) they have the same number of elements. In fact, equivalence is a generalisation of this notion (that the sets have the same number of elements) to sets with infinitely many elements."
   ]
  },
  {
   "cell_type": "markdown",
   "metadata": {
    "slideshow": {
     "slide_type": "slide"
    }
   },
   "source": [
    "Thus every countably infinite (denumerable) set is equivalent to the set of natural numbers, $\\mathbb{N}$: enumerating a set or listing its elements is the same as finding a one-to-one correspondence between the elements of this set and natural numbers."
   ]
  },
  {
   "cell_type": "markdown",
   "metadata": {
    "slideshow": {
     "slide_type": "slide"
    }
   },
   "source": [
    "Are positive rational numbers (i.e. fractions $\\frac{p}{q}$, $p, q \\in \\mathbb{N}$, $q \\neq 0$) denumerable? What do you think?"
   ]
  },
  {
   "cell_type": "markdown",
   "metadata": {
    "slideshow": {
     "slide_type": "slide"
    }
   },
   "source": [
    "First, note that positive rationals can be arranged in a table:\n",
    "<table>\n",
    "<tr><td>$p$:</td>     <td></td> <td>$1$</td>           <td></td> <td>$2$</td>           <td></td> <td>$3$</td>           <td></td> <td>$4$</td>           <td></td> <td>$5$</td>           <td></td> <td>$\\ldots$</td> </tr>\n",
    "<tr><td>$q$</td>      <td></td> <td></td>              <td></td> <td></td>              <td></td> <td></td>              <td></td> <td></td>              <td></td> <td></td>              <td></td> <td></td>         </tr>\n",
    "<tr><td>$1$</td>      <td></td> <td>$\\frac{1}{1}$</td> <td></td> <td>$\\frac{2}{1}$</td> <td></td> <td>$\\frac{3}{1}$</td> <td></td> <td>$\\frac{4}{1}$</td> <td></td> <td>$\\frac{5}{1}$</td> <td></td> <td>$\\ldots$</td> </tr>\n",
    "<tr><td></td>         <td></td> <td></td>              <td></td> <td></td>              <td></td> <td></td>              <td></td> <td></td>              <td></td> <td></td>              <td></td> <td></td>         </tr>\n",
    "<tr><td>$2$</td>      <td></td> <td>$\\frac{1}{2}$</td> <td></td> <td>$\\frac{2}{2}$</td> <td></td> <td>$\\frac{3}{2}$</td> <td></td> <td>$\\frac{4}{2}$</td> <td></td> <td>$\\frac{5}{2}$</td> <td></td> <td>$\\ldots$</td> </tr>\n",
    "<tr><td></td>         <td></td> <td></td>              <td></td> <td></td>              <td></td> <td></td>              <td></td> <td></td>              <td></td> <td></td>              <td></td> <td></td>         </tr>\n",
    "<tr><td>$3$</td>      <td></td> <td>$\\frac{1}{3}$</td> <td></td> <td>$\\frac{2}{3}$</td> <td></td> <td>$\\frac{3}{3}$</td> <td></td> <td>$\\frac{4}{3}$</td> <td></td> <td>$\\frac{5}{3}$</td> <td></td> <td>$\\ldots$</td> </tr>\n",
    "<tr><td></td>         <td></td> <td></td>              <td></td> <td></td>              <td></td> <td></td>              <td></td> <td></td>              <td></td> <td></td>              <td></td> <td></td>         </tr>\n",
    "<tr><td>$4$</td>      <td></td> <td>$\\frac{1}{4}$</td> <td></td> <td>$\\frac{2}{4}$</td> <td></td> <td>$\\frac{3}{4}$</td> <td></td> <td>$\\frac{4}{4}$</td> <td></td> <td>$\\frac{5}{4}$</td> <td></td> <td>$\\ldots$</td> </tr>\n",
    "<tr><td></td>         <td></td> <td></td>              <td></td> <td></td>              <td></td> <td></td>              <td></td> <td></td>              <td></td> <td></td>              <td></td> <td></td>         </tr>\n",
    "<tr><td>$5$</td>      <td></td> <td>$\\frac{1}{5}$</td> <td></td> <td>$\\frac{2}{5}$</td> <td></td> <td>$\\frac{3}{5}$</td> <td></td> <td>$\\frac{4}{5}$</td> <td></td> <td>$\\frac{5}{5}$</td> <td></td> <td>$\\ldots$</td> </tr>\n",
    "<tr><td></td>         <td></td> <td></td>              <td></td> <td></td>              <td></td> <td></td>              <td></td> <td></td>              <td></td> <td></td>              <td></td> <td></td>         </tr>\n",
    "<tr><td>$\\vdots$</td> <td></td> <td>$\\vdots$</td>      <td></td> <td>$\\vdots$</td>      <td></td> <td>$\\vdots$</td>      <td></td> <td>$\\vdots$</td>      <td></td> <td>$\\vdots$</td>      <td></td> <td>$\\ddots$</td> </tr>\n",
    "</table>"
   ]
  },
  {
   "cell_type": "markdown",
   "metadata": {
    "slideshow": {
     "slide_type": "slide"
    }
   },
   "source": [
    "Not all entries in this table are distinct, for example, $\\frac{1}{1} = \\frac{2}{2} = \\frac{3}{3} = \\frac{4}{4} = \\frac{5}{5}$, $\\frac{2}{4} = \\frac{1}{2}$, etc. Let us erase all rational numbers that have non-trivial common factors in the numerator and denominator, while keeping the first occurrence. All rational numbers in our table are now unique; if we continue the table indefinitely, it will include all positive rational numbers:\n",
    "<table>\n",
    "<tr><td>$p$:</td>     <td></td> <td>$1$</td>           <td></td> <td>$2$</td>           <td></td> <td>$3$</td>           <td></td> <td>$4$</td>           <td></td> <td>$5$</td>           <td></td> <td>$\\ldots$</td> </tr>\n",
    "<tr><td>$q$</td>      <td></td> <td></td>              <td></td> <td></td>              <td></td> <td></td>              <td></td> <td></td>              <td></td> <td></td>              <td></td> <td></td>         </tr>\n",
    "<tr><td>$1$</td>      <td></td> <td>$\\frac{1}{1}$</td> <td></td> <td>$\\frac{2}{1}$</td> <td></td> <td>$\\frac{3}{1}$</td> <td></td> <td>$\\frac{4}{1}$</td> <td></td> <td>$\\frac{5}{1}$</td> <td></td> <td>$\\ldots$</td> </tr>\n",
    "<tr><td></td>         <td></td> <td></td>              <td></td> <td></td>              <td></td> <td></td>              <td></td> <td></td>              <td></td> <td></td>              <td></td> <td></td>         </tr>\n",
    "<tr><td>$2$</td>      <td></td> <td>$\\frac{1}{2}$</td> <td></td> <td></td>              <td></td> <td>$\\frac{3}{2}$</td> <td></td> <td></td>              <td></td> <td>$\\frac{5}{2}$</td> <td></td> <td>$\\ldots$</td> </tr>\n",
    "<tr><td></td>         <td></td> <td></td>              <td></td> <td></td>              <td></td> <td></td>              <td></td> <td></td>              <td></td> <td></td>              <td></td> <td></td>         </tr>\n",
    "<tr><td>$3$</td>      <td></td> <td>$\\frac{1}{3}$</td> <td></td> <td>$\\frac{2}{3}$</td> <td></td> <td></td>              <td></td> <td>$\\frac{4}{3}$</td> <td></td> <td>$\\frac{5}{3}$</td> <td></td> <td>$\\ldots$</td> </tr>\n",
    "<tr><td></td>         <td></td> <td></td>              <td></td> <td></td>              <td></td> <td></td>              <td></td> <td></td>              <td></td> <td></td>              <td></td> <td></td>         </tr>\n",
    "<tr><td>$4$</td>      <td></td> <td>$\\frac{1}{4}$</td> <td></td> <td></td>              <td></td> <td>$\\frac{3}{4}$</td> <td></td> <td></td>              <td></td> <td>$\\frac{5}{4}$</td> <td></td> <td>$\\ldots$</td> </tr>\n",
    "<tr><td></td>         <td></td> <td></td>              <td></td> <td></td>              <td></td> <td></td>              <td></td> <td></td>              <td></td> <td></td>              <td></td> <td></td>         </tr>\n",
    "<tr><td>$5$</td>      <td></td> <td>$\\frac{1}{5}$</td> <td></td> <td>$\\frac{2}{5}$</td> <td></td> <td>$\\frac{3}{5}$</td> <td></td> <td>$\\frac{4}{5}$</td> <td></td> <td></td>              <td></td> <td>$\\ldots$</td> </tr>\n",
    "<tr><td></td>         <td></td> <td></td>              <td></td> <td></td>              <td></td> <td></td>              <td></td> <td></td>              <td></td> <td></td>              <td></td> <td></td>         </tr>\n",
    "<tr><td>$\\vdots$</td> <td></td> <td>$\\vdots$</td>      <td></td> <td>$\\vdots$</td>      <td></td> <td>$\\vdots$</td>      <td></td> <td>$\\vdots$</td>      <td></td> <td>$\\vdots$</td>      <td></td> <td>$\\ddots$</td> </tr>\n",
    "</table>"
   ]
  },
  {
   "cell_type": "markdown",
   "metadata": {
    "slideshow": {
     "slide_type": "slide"
    }
   },
   "source": [
    "Finally, we associate these numbers with the natural numbers $1, 2, 3, \\ldots$. We start in the top-left corner of the table and then follow the arrows:\n",
    "<table>\n",
    "<tr><td>$p$:</td>     <td></td> <td>$1$</td>           <td></td>           <td>$2$</td>           <td></td>              <td>$3$</td>           <td></td>           <td>$4$</td>           <td></td>              <td>$5$</td>           <td></td> <td>$\\ldots$</td> </tr>\n",
    "<tr><td>$q$</td>      <td></td> <td></td>              <td></td>           <td></td>              <td></td>              <td></td>              <td></td>           <td></td>              <td></td>              <td></td>              <td></td> <td></td>         </tr>\n",
    "<tr><td>$1$</td>      <td></td> <td>$\\frac{1}{1}$</td> <td></td>           <td>$\\frac{2}{1}$</td> <td>$\\rightarrow$</td> <td>$\\frac{3}{1}$</td> <td></td>           <td>$\\frac{4}{1}$</td> <td>$\\rightarrow$</td> <td>$\\frac{5}{1}$</td> <td></td> <td>$\\ldots$</td> </tr>\n",
    "<tr><td></td>         <td></td> <td>$\\downarrow$</td>  <td>$\\nearrow$</td> <td></td>              <td>$\\swarrow$</td>    <td></td>              <td>$\\nearrow$</td> <td></td>              <td>$\\swarrow$</td>    <td></td>              <td></td> <td></td>         </tr>\n",
    "<tr><td>$2$</td>      <td></td> <td>$\\frac{1}{2}$</td> <td></td>           <td>$\\swarrow$</td>    <td></td>              <td>$\\frac{3}{2}$</td> <td></td>           <td>$\\swarrow$</td>    <td></td>              <td>$\\frac{5}{2}$</td> <td></td> <td>$\\ldots$</td> </tr>\n",
    "<tr><td></td>         <td></td> <td></td>              <td>$\\swarrow$</td> <td></td>              <td>$\\nearrow$</td>    <td></td>              <td>$\\swarrow$</td> <td></td>              <td>$\\nearrow$</td>    <td></td>              <td></td> <td></td>         </tr>\n",
    "<tr><td>$3$</td>      <td></td> <td>$\\frac{1}{3}$</td> <td></td>           <td>$\\frac{2}{3}$</td> <td></td>              <td>$\\swarrow$</td>    <td></td>           <td>$\\frac{4}{3}$</td> <td></td>              <td>$\\frac{5}{3}$</td> <td></td> <td>$\\ldots$</td> </tr>\n",
    "<tr><td></td>         <td></td> <td>$\\downarrow$</td>  <td>$\\nearrow$</td> <td></td>              <td>$\\swarrow$</td>    <td></td>              <td>$\\nearrow$</td> <td></td>              <td>$\\swarrow$</td>    <td></td>              <td></td> <td></td>         </tr>\n",
    "<tr><td>$4$</td>      <td></td> <td>$\\frac{1}{4}$</td> <td></td>           <td>$\\swarrow$</td>    <td></td>              <td>$\\frac{3}{4}$</td> <td></td>           <td>$\\swarrow$</td>    <td></td>              <td>$\\frac{5}{4}$</td> <td></td> <td>$\\ldots$</td> </tr>\n",
    "<tr><td></td>         <td></td> <td></td>              <td>$\\swarrow$</td> <td></td>              <td>$\\nearrow$</td>    <td></td>              <td>$\\swarrow$</td> <td></td>              <td>$\\nearrow$</td>    <td></td>              <td></td> <td></td>         </tr>\n",
    "<tr><td>$5$</td>      <td></td> <td>$\\frac{1}{5}$</td> <td></td>           <td>$\\frac{2}{5}$</td> <td></td>              <td>$\\frac{3}{5}$</td> <td></td>           <td>$\\frac{4}{5}$</td> <td></td>              <td>$\\swarrow$</td>    <td></td> <td>$\\ldots$</td> </tr>\n",
    "<tr><td></td>         <td></td> <td>$\\downarrow$</td>  <td>$\\nearrow$</td> <td></td>              <td>$\\swarrow$</td>    <td></td>              <td>$\\nearrow$</td> <td></td>              <td>$\\swarrow$</td>    <td></td>              <td></td> <td></td>         </tr>\n",
    "<tr><td>$\\vdots$</td> <td></td> <td>$\\vdots$</td>      <td></td>           <td>$\\vdots$</td>      <td></td>              <td>$\\vdots$</td>      <td></td>           <td>$\\vdots$</td>      <td></td>              <td>$\\vdots$</td>      <td></td> <td>$\\ddots$</td> </tr>\n",
    "</table>"
   ]
  },
  {
   "cell_type": "markdown",
   "metadata": {
    "slideshow": {
     "slide_type": "slide"
    }
   },
   "source": [
    "It is easy to see that all *negative* rational numbers are also denumerable: we simply put the minus sign before the fractions in the tables above."
   ]
  },
  {
   "cell_type": "markdown",
   "metadata": {
    "slideshow": {
     "slide_type": "slide"
    }
   },
   "source": [
    "What about all **real numbers**, including positive and negative rationals, such as $\\frac{1}{2}$ and $-\\frac{1}{2}$, zero, and irrationals, such as $\\sqrt{2}$, $\\pi = 3.1415926535\\ldots$ and $e = 2.7182818284\\ldots$? Clearly, this set (denoted $\\mathbb{R}$) is also infinite. Can we enumerate it?"
   ]
  },
  {
   "cell_type": "markdown",
   "metadata": {
    "slideshow": {
     "slide_type": "slide"
    }
   },
   "source": [
    "We know that all real numbers can be written as decimal fractions, e.g. $\\pi = 3.1415926535...$. Suppose we can enumerate all real numbers between 0 and 1, inclusive:\n",
    "$$\n",
    "a_1 = 0.a_{11}a_{12}a_{13}a_{14}a_{15}\\ldots, \\\\\n",
    "a_2 = 0.a_{21}a_{22}a_{23}a_{24}a_{25}\\ldots, \\\\\n",
    "a_3 = 0.a_{31}a_{32}a_{33}a_{34}a_{35}\\ldots, \\\\\n",
    "\\vdots \\\\\n",
    "a_k = 0.a_{k1}a_{k2}a_{k3}a_{k4}a_{k5}\\ldots, \\\\\n",
    "\\vdots \\\\\n",
    "$$\n",
    "Here $a_{11}, a_{12}, a_{13}, a_{14}, a_{15}, \\ldots, a_{21}, a_{22}, a_{23}, \\ldots$ are all decimal digits, $0, 1, 2, 3, \\ldots 9$."
   ]
  },
  {
   "cell_type": "markdown",
   "metadata": {
    "slideshow": {
     "slide_type": "slide"
    }
   },
   "source": [
    "If indeed it is possible to enumerate all real numbers between 0 and 1, then all of them appear on our list. But consider the number $b$ which differs from $a_1$ in the first digit (so that digit is anything but $a_{11}$), from $a_2$ in the second digit (so that digit is anything but $a_{22}$), from $a_3$ in the third digit (so that digit is anything but $a_{33}$), and so on. We have highlighted these digits below:\n",
    "$$\n",
    "a_1 = 0.\\mathbf{a_{11}}a_{12}a_{13}a_{14}a_{15}\\ldots, \\\\\n",
    "a_2 = 0.a_{21}\\mathbf{a_{22}}a_{23}a_{24}a_{25}\\ldots, \\\\\n",
    "a_3 = 0.a_{31}a_{32}\\mathbf{a_{33}}a_{34}a_{35}\\ldots, \\\\\n",
    "\\vdots \\\\\n",
    "a_k = 0.a_{k1}a_{k2}a_{k3}a_{k4}a_{k5}\\ldots \\mathbf{a_{kk}}\\ldots, \\\\\n",
    "\\vdots \\\\\n",
    "$$"
   ]
  },
  {
   "cell_type": "markdown",
   "metadata": {
    "slideshow": {
     "slide_type": "slide"
    }
   },
   "source": [
    "By construction, $b$ differs from *all* numbers on our list, therefore $b$ is *not* on our list. So our attempt to enumerate all numbers between 0 and 1 (let alone *all* real numbers!) has failed.\n",
    "\n",
    "We have just shown that real numbers are not enumerable using the so-called **Cantor's diagonal slash argument**. It is a \"diagonal slash\" for obvious reasons, while it's \"Cantor's\" because the aforementioned Georg Cantor discovered it.\n",
    "\n",
    "Incidentally, Cantor's set theory, which has become the foundation of modern mathematics, was initially rejected by many prominent mathematicians. Leopold Kronecker, for instance, said:\n",
    "<center>\n",
    "<em>I don't know what predominates in Cantor's theory &mdash; philosophy or theology, but I am sure that there is no mathematics there.</em>\n",
    "</center>\n",
    "\n",
    "Thus the set $\\mathbb{R}$, just like the set $\\mathbb{N}$, is infinite, but it is even \"more\" infinite that $\\mathbb{N}$: it is **uncountable** or **uncountably infinite**: we can't even enumerate it! In set theory this idea of *different kinds of infinity* generates further to the notion of **cardinality**."
   ]
  },
  {
   "cell_type": "markdown",
   "metadata": {
    "slideshow": {
     "slide_type": "slide"
    }
   },
   "source": [
    "## Subsets and supersets\n",
    "\n",
    "Notice that all elements of our example set $$S = \\{1, 2, 3, 4, 5, 6, 7, 8, 9, 10\\}$$ are also elements of $\\mathbb{N}$. We say that $S$ is a **subset** of $\\mathbb{N}$ and write $$S \\subseteq \\mathbb{N}.$$ Of course, $$\\mathbb{N} \\nsubseteq S.$$\n",
    "\n",
    "We could, equivalently, say that $\\mathbb{N}$ is a **superset** of $S$ and write $$\\mathbb{N} \\supseteq S.$$"
   ]
  },
  {
   "cell_type": "markdown",
   "metadata": {
    "slideshow": {
     "slide_type": "slide"
    }
   },
   "source": [
    "Similarly, $$\\mathbb{N} \\subseteq \\mathbb{R},$$ which is the same thing as $$\\mathbb{R} \\supseteq \\mathbb{N},$$ and $$\\mathbb{R} \\nsubseteq \\mathbb{N},$$ which is the same thing as $$\\mathbb{N} \\nsupseteq \\mathbb{R}.$$\n",
    "\n",
    "Since $S$ is a subset of $\\mathbb{N}$, we could use the following \"syntactic sugar\" to define $S$:\n",
    "$$S = \\{x \\, | \\, x \\in \\mathbb{N}, x \\leq 10\\}.$$\n",
    "We read \"$|$\" as \"such that\". Thus, instead of listing all elements of a set, we could define it by mentioning a particular **property** of its elements, such as $x \\leq 10$.\n",
    "\n",
    "We can write $$|S| = 10$$ to indicate that $S$ has exactly 10 elements."
   ]
  },
  {
   "cell_type": "markdown",
   "metadata": {
    "slideshow": {
     "slide_type": "slide"
    }
   },
   "source": [
    "## Equality of sets\n",
    "\n",
    "Any two sets $A$ and $B$ are equal, $A = B$, iff (if and only if) $A \\subseteq B$ *and* $B \\subseteq A$.\n",
    "\n",
    "We shall add that we consider only distinct objects when talking about elements of sets. Repeats are not allowed. Thus $\\{2, 2\\}$ is really the same set as $\\{2\\}$ and it is deemed to contain exactly one element.\n",
    "\n",
    "Nor do we care about the order of elements in a set: $\\{1, 2, 3\\}$ and $\\{3, 2, 1\\}$, for instance, are deemed to be equal.\n",
    "\n",
    "A set containing a single element, such as $\\{5\\}$, is called a **singleton** set. We distinguish sets from their elements. Thus $5 \\in A$, whereas $\\{5\\} \\notin A$. This is because $\\{5\\}$ is *not* the *number five*, it is a *set containing* the number five."
   ]
  },
  {
   "cell_type": "markdown",
   "metadata": {
    "slideshow": {
     "slide_type": "slide"
    }
   },
   "source": [
    "In the programming language Python there is a data structure called `set`, which works according to principles that mimic those of a mathematical set."
   ]
  },
  {
   "cell_type": "code",
   "execution_count": 2,
   "metadata": {
    "collapsed": true,
    "slideshow": {
     "slide_type": "fragment"
    }
   },
   "outputs": [],
   "source": [
    "A = set([1, 2, 3, 4, 5, 6, 7, 8, 9, 10])"
   ]
  },
  {
   "cell_type": "code",
   "execution_count": 3,
   "metadata": {
    "slideshow": {
     "slide_type": "fragment"
    }
   },
   "outputs": [
    {
     "data": {
      "text/plain": [
       "{1, 2, 3, 4, 5, 6, 7, 8, 9, 10}"
      ]
     },
     "execution_count": 3,
     "metadata": {},
     "output_type": "execute_result"
    }
   ],
   "source": [
    "A"
   ]
  },
  {
   "cell_type": "code",
   "execution_count": 4,
   "metadata": {
    "slideshow": {
     "slide_type": "slide"
    }
   },
   "outputs": [
    {
     "data": {
      "text/plain": [
       "True"
      ]
     },
     "execution_count": 4,
     "metadata": {},
     "output_type": "execute_result"
    }
   ],
   "source": [
    "set([2, 3, 4]).issubset(A)"
   ]
  },
  {
   "cell_type": "code",
   "execution_count": 5,
   "metadata": {
    "slideshow": {
     "slide_type": "fragment"
    }
   },
   "outputs": [
    {
     "data": {
      "text/plain": [
       "False"
      ]
     },
     "execution_count": 5,
     "metadata": {},
     "output_type": "execute_result"
    }
   ],
   "source": [
    "A.issubset(set([2, 3, 4]))"
   ]
  },
  {
   "cell_type": "code",
   "execution_count": 6,
   "metadata": {
    "slideshow": {
     "slide_type": "fragment"
    }
   },
   "outputs": [
    {
     "data": {
      "text/plain": [
       "False"
      ]
     },
     "execution_count": 6,
     "metadata": {},
     "output_type": "execute_result"
    }
   ],
   "source": [
    "set([2, 3, 4]) == A"
   ]
  },
  {
   "cell_type": "code",
   "execution_count": 7,
   "metadata": {
    "slideshow": {
     "slide_type": "slide"
    }
   },
   "outputs": [
    {
     "data": {
      "text/plain": [
       "True"
      ]
     },
     "execution_count": 7,
     "metadata": {},
     "output_type": "execute_result"
    }
   ],
   "source": [
    "set([1, 2, 3]) == set([3, 2, 1])"
   ]
  },
  {
   "cell_type": "code",
   "execution_count": 8,
   "metadata": {
    "slideshow": {
     "slide_type": "fragment"
    }
   },
   "outputs": [
    {
     "data": {
      "text/plain": [
       "True"
      ]
     },
     "execution_count": 8,
     "metadata": {},
     "output_type": "execute_result"
    }
   ],
   "source": [
    "set([2, 2]) == set([2])"
   ]
  },
  {
   "cell_type": "code",
   "execution_count": 9,
   "metadata": {
    "slideshow": {
     "slide_type": "fragment"
    }
   },
   "outputs": [
    {
     "data": {
      "text/plain": [
       "{2}"
      ]
     },
     "execution_count": 9,
     "metadata": {},
     "output_type": "execute_result"
    }
   ],
   "source": [
    "set([2, 2])"
   ]
  },
  {
   "cell_type": "code",
   "execution_count": 10,
   "metadata": {
    "slideshow": {
     "slide_type": "fragment"
    }
   },
   "outputs": [
    {
     "data": {
      "text/plain": [
       "1"
      ]
     },
     "execution_count": 10,
     "metadata": {},
     "output_type": "execute_result"
    }
   ],
   "source": [
    "len(set([2, 2]))"
   ]
  },
  {
   "cell_type": "code",
   "execution_count": 11,
   "metadata": {
    "collapsed": true,
    "slideshow": {
     "slide_type": "slide"
    }
   },
   "outputs": [],
   "source": [
    "B = set([1, 2, 3, 4, 5, 6, 7, 8, 9, 10, 1, 1, 1])"
   ]
  },
  {
   "cell_type": "code",
   "execution_count": 12,
   "metadata": {
    "slideshow": {
     "slide_type": "fragment"
    }
   },
   "outputs": [
    {
     "data": {
      "text/plain": [
       "True"
      ]
     },
     "execution_count": 12,
     "metadata": {},
     "output_type": "execute_result"
    }
   ],
   "source": [
    "A.issubset(B)"
   ]
  },
  {
   "cell_type": "code",
   "execution_count": 13,
   "metadata": {
    "slideshow": {
     "slide_type": "fragment"
    }
   },
   "outputs": [
    {
     "data": {
      "text/plain": [
       "True"
      ]
     },
     "execution_count": 13,
     "metadata": {},
     "output_type": "execute_result"
    }
   ],
   "source": [
    "B.issubset(A)"
   ]
  },
  {
   "cell_type": "code",
   "execution_count": 14,
   "metadata": {
    "slideshow": {
     "slide_type": "fragment"
    }
   },
   "outputs": [
    {
     "data": {
      "text/plain": [
       "True"
      ]
     },
     "execution_count": 14,
     "metadata": {},
     "output_type": "execute_result"
    }
   ],
   "source": [
    "A == B"
   ]
  },
  {
   "cell_type": "code",
   "execution_count": 15,
   "metadata": {
    "slideshow": {
     "slide_type": "fragment"
    }
   },
   "outputs": [
    {
     "data": {
      "text/plain": [
       "10"
      ]
     },
     "execution_count": 15,
     "metadata": {},
     "output_type": "execute_result"
    }
   ],
   "source": [
    "len(B)"
   ]
  },
  {
   "cell_type": "code",
   "execution_count": 16,
   "metadata": {
    "slideshow": {
     "slide_type": "slide"
    }
   },
   "outputs": [
    {
     "data": {
      "text/plain": [
       "{0.14285714285714285, 1, 2, 3, 4, 5, 'baz', 'foo', 'bar'}"
      ]
     },
     "execution_count": 16,
     "metadata": {},
     "output_type": "execute_result"
    }
   ],
   "source": [
    "set(['foo', 'bar', 'baz', 1, 2, 3, 4, 5, 1./7.])"
   ]
  },
  {
   "cell_type": "markdown",
   "metadata": {
    "slideshow": {
     "slide_type": "slide"
    }
   },
   "source": [
    "## Proof by contradiction\n",
    "\n",
    "When we were asked whether the set of positive rational numbers was denumerable, we simply enumerated its elements. We **proved** the statement \"the set of rational numbers is denumerable\" by actually finding &mdash; constructing &mdash; the requisite enumeration. Such a proof is known as a **constructive proof**: the existence of a mathematical object (in this case, the one-to-one correspondence between the natural numbers and the positive rational numbers) is  demonstrated by creating or providing a method for creating the object.\n",
    "\n",
    "**Cantor's diagonal slash argument** is an example of a different kind of proof &mdash; **proof by contradiction** or, in Latin, ***reductio ad absurdum***.\n",
    "\n",
    "In *A Mathematician's Apology*, G. H. Hardy described proof by contradiction as \"one of a mathematician's finest weapons\", saying\n",
    "<center>\n",
    "<em>It is a far finer gambit than any chess gambit: a chess player may offer the sacrifice of a pawn or even a piece, but a mathematician offers the game.</em>\n",
    "</center>"
   ]
  },
  {
   "cell_type": "markdown",
   "metadata": {
    "slideshow": {
     "slide_type": "slide"
    }
   },
   "source": [
    "Here is another example. This one is due to Euclid (c. 300 BC).\n",
    "\n",
    "<p/>\n",
    "<center>\n",
    "<img src=\"images/euclid.png\" alt=\"Euclid\">\n",
    "</center>\n",
    "\n",
    "Recall that a prime is a natural number greater than 1 that cannot be formed by multiplying two smaller natural numbers. The first few primes are 2, 3, 5, 7, 11, 13, 17, 19, 23. Indeed, we can quickly come up with a list of primes using Python list comprehensions (in practice there are *far* more efficient algorithms for finding primes):"
   ]
  },
  {
   "cell_type": "code",
   "execution_count": 17,
   "metadata": {
    "slideshow": {
     "slide_type": "slide"
    }
   },
   "outputs": [
    {
     "data": {
      "text/plain": [
       "[2,\n",
       " 3,\n",
       " 5,\n",
       " 7,\n",
       " 11,\n",
       " 13,\n",
       " 17,\n",
       " 19,\n",
       " 23,\n",
       " 29,\n",
       " 31,\n",
       " 37,\n",
       " 41,\n",
       " 43,\n",
       " 47,\n",
       " 53,\n",
       " 59,\n",
       " 61,\n",
       " 67,\n",
       " 71,\n",
       " 73,\n",
       " 79,\n",
       " 83,\n",
       " 89,\n",
       " 97]"
      ]
     },
     "execution_count": 17,
     "metadata": {},
     "output_type": "execute_result"
    }
   ],
   "source": [
    "[x for x in range(2, 100) if all(x % y != 0 for y in range(2, x))]"
   ]
  },
  {
   "cell_type": "markdown",
   "metadata": {
    "slideshow": {
     "slide_type": "slide"
    }
   },
   "source": [
    "How do you prove that there are infinitely many primes, i.e. the set of all primes is infinite (obviously, countably infinite, since it is a subset of natural numbers, a countably infinite set)?"
   ]
  },
  {
   "cell_type": "markdown",
   "metadata": {
    "slideshow": {
     "slide_type": "slide"
    }
   },
   "source": [
    "Since we are talking about proofs by contradiction, it may be sensible to assume that that's how we shall proceed. Assume *for a contradiction* that $P$, the set of *all* primes, is finite. Say, there exist exactly $n$ primes, $n \\in \\mathbb{N}$:\n",
    "$$P = \\{p_1, p_2, p_3, \\ldots, p_n\\}.$$"
   ]
  },
  {
   "cell_type": "markdown",
   "metadata": {
    "slideshow": {
     "slide_type": "slide"
    }
   },
   "source": [
    "Multiplying the elements of $P$ together, we obtain another number. Let us add 1 to that number to obtain\n",
    "$$a = p_1 p_2 p_3 \\ldots p_n + 1.$$\n",
    "Clearly this number is greater than any of the elements of $P$, so it is not in $P$. Since, by our assumption, $P$ contains all primes, $a$ is not a prime. Then there exists some prime in $P$, say, $p_k$, $1 \\leq k \\leq n$, that divides a. Then,\n",
    "$$a = p_k \\cdot b, \\quad b \\in \\mathbb{N}.$$\n",
    "But then\n",
    "$$\n",
    "\\begin{align}\n",
    "1 &= a - p_1 p_2 p_3 \\ldots p_n \\\\\n",
    "  &= p_k \\cdot b - p_1 \\ldots p_{k-1} p_k p_{k+1} \\ldots p_n \\\\\n",
    "  &= p_k (b - p_1 \\ldots p_{k-1} p_{k+1} \\ldots p_n).\n",
    "\\end{align}\n",
    "$$\n",
    "In other words, $p_k$ divides 1. Since no natural number other than 1 divides 1, we have a contradiction. Our assumption that $P$ is finite must have been wrong. There are therefore infinitely many primes. **Q.E.D.** (which signifies the end of the proof and is an initialism of the Latin phrase *quod erat demonstrandum*, \"what was to be demonstrated\").\n",
    "\n",
    "Instead of Q.E.D., people sometimes put the **Halmos symbol**, &#9633;, at the end of the proof."
   ]
  },
  {
   "cell_type": "markdown",
   "metadata": {
    "slideshow": {
     "slide_type": "slide"
    }
   },
   "source": [
    "Here is yet another example: prove that $\\sqrt{2}$ is not a rational number, i.e. that $\\sqrt{2}$ is irrational."
   ]
  },
  {
   "cell_type": "markdown",
   "metadata": {
    "slideshow": {
     "slide_type": "slide"
    }
   },
   "source": [
    "*Assume for a contradiction* that $\\sqrt{2}$ is rational. Then we can write it as $\\sqrt{2} = \\frac{p}{q}$, where $p$ and $q$ are natural numbers, $q \\neq 0$. Further, we can assume that $\\frac{p}{q}$ is a fraction in lowest terms, i.e. there is no prime that divides both $p$ and $q$. (Thus $\\frac{3}{9}$ is not in lowest terms, since $3$ divides both $3$ and $9$, whereas $\\frac{1}{3}$ is.) \n",
    "\n",
    "Since $\\sqrt{2} = \\frac{p}{q}$, on squaring both sides, we obtain $2 = \\frac{p^2}{q^2}$, hence $p^2 = 2q^2$. Since the right-hand side is even, the left-hand side must be even. Therefore $p$ is even, say $p = 2a$ for some $a \\in \\mathbb{N}$. But then $p^2 = 4a^2$, so $4a^2 = 2q^2$, whence $q^2 = 2a^2$, thus $q$ is even.\n",
    "\n",
    "This contradicts our assumption that $\\frac{p}{q}$ is a fraction in lowest terms. We have reached the contradiction. Therefore $\\sqrt{2}$ cannot be written as a fraction in the form $\\frac{p}{q}$. In other words, $\\sqrt{2}$ is irrational. &#9633;"
   ]
  },
  {
   "cell_type": "markdown",
   "metadata": {
    "slideshow": {
     "slide_type": "slide"
    }
   },
   "source": [
    "That $\\sqrt{2}$ is irrational was discovered by Pythagoras and his followers, i.e. the Pythagoreans, in the 6th century BC. Prior to this discovery, people believed that all numbers were rational, i.e. could be expressed as simple fractions.\n",
    "\n",
    "<p/>\n",
    "<center>\n",
    "<img src=\"images/pythagoras.png\" width=\"300\" alt=\"Pythagoras\">\n",
    "</center>"
   ]
  },
  {
   "cell_type": "markdown",
   "metadata": {
    "slideshow": {
     "slide_type": "slide"
    }
   },
   "source": [
    "The discovery of irrational numbers is said to have been shocking to the Pythagoreans (as it violated their mystical worldview). They kept this discovery secret. Hippasus of Metapontum divulged this secret and is supposed to have drowned at sea, apparently as a punishment from the gods for divulging it.\n",
    "\n",
    "<p/>\n",
    "<center>\n",
    "<img src=\"images/hippasus-of-metapontum.png\" width=\"300\" alt=\"Hippasus of Metapontum\">\n",
    "</center>"
   ]
  },
  {
   "cell_type": "markdown",
   "metadata": {
    "slideshow": {
     "slide_type": "slide"
    }
   },
   "source": [
    "## Russell's paradox and Zermelo-Fraenkel set theory\n",
    "\n",
    "Our treatment of set theory is very informal. In practice it was built out of axioms. Refer to *Na&iuml;ve set theory* by Paul Halmos for a more detailed overview.\n",
    "\n",
    "<p/>\n",
    "<center>\n",
    "<img src=\"images/paul-halmos.png\" width=\"150\" alt=\"Paul Halmos\">\n",
    "</center>\n",
    "\n",
    "Now, suppose that we have a set containing all sets that are not elements of themselves. Symbolically, let $$R = \\{x \\, | \\, x \\notin x\\}.$$ Is $R$ an element of itself?\n",
    "\n",
    "If it were, $R \\in R$, then we could substitute it for $x$ in \"$x \\, | \\, x \\notin x$\", and so $R \\notin R$.\n",
    "\n",
    "If it weren't, then $R \\notin R$, and, by definition, since $R$ is not an element of itself, it is in $R$, $R \\in R$.\n",
    "\n",
    "Thus we have a paradox: $R \\in R \\Leftrightarrow R \\notin R$."
   ]
  },
  {
   "cell_type": "markdown",
   "metadata": {
    "slideshow": {
     "slide_type": "slide"
    }
   },
   "source": [
    "This particular paradox was discovered by Bertrand Russell in 1901 and bears his name, so it is called **Russell's paradox**.\n",
    "\n",
    "<p/>\n",
    "<center>\n",
    "<img src=\"images/bertrand-russell.png\" width=\"300\" alt=\"Bertrand Russell\">\n",
    "</center>\n",
    "\n",
    "This paradox confounded the so-called **na&iuml;ve set theorists**, who did not know how to deal with it. Eventually, in 1908, Ernst Zermelo proposed an axiomatisation of set theory that avoided the paradoxes of na&iuml;ve set theory, which was eventually elaborated by Abraham Fraenkel, Thoralf Skolem, and Zermelo himself. The result became known as the **Zermelo-Fraenkel set theory** or **ZFC**. It is ZFC that remains the canonical axiomatic set theory to this day.\n",
    "\n",
    "We won't go into the details of how Russell's paradox is resolved in ZFC, but we shall prefer to talk about **collections** or **families** of sets, rather than sets of sets."
   ]
  },
  {
   "cell_type": "markdown",
   "metadata": {
    "slideshow": {
     "slide_type": "slide"
    }
   },
   "source": [
    "## Union and intersection\n",
    "\n",
    "The **union** of two sets $A$ and $B$ is the set of elements which are in $A$, in $B$, or in both $A$ and $B$: $$A \\cup B = \\{x \\, | \\, x \\in A \\text{ or } x \\in B\\}.$$\n",
    "\n",
    "We can check that, in Python,"
   ]
  },
  {
   "cell_type": "code",
   "execution_count": 18,
   "metadata": {
    "slideshow": {
     "slide_type": "fragment"
    }
   },
   "outputs": [
    {
     "data": {
      "text/plain": [
       "{1, 2, 3, 5, 7, 9}"
      ]
     },
     "execution_count": 18,
     "metadata": {},
     "output_type": "execute_result"
    }
   ],
   "source": [
    "A = set([3, 5, 7, 9])\n",
    "B = set([1, 2, 3])\n",
    "A.union(B)"
   ]
  },
  {
   "cell_type": "markdown",
   "metadata": {
    "slideshow": {
     "slide_type": "slide"
    }
   },
   "source": [
    "The **intersection** of two sets $A$ and $B$ is the set of elements which are in $A$ *and* in $B$: $$A \\cap B = \\{x \\, | \\, x \\in A \\text{ and } x \\in B\\}.$$\n",
    "\n",
    "In Python,"
   ]
  },
  {
   "cell_type": "code",
   "execution_count": 19,
   "metadata": {
    "slideshow": {
     "slide_type": "fragment"
    }
   },
   "outputs": [
    {
     "data": {
      "text/plain": [
       "{3}"
      ]
     },
     "execution_count": 19,
     "metadata": {},
     "output_type": "execute_result"
    }
   ],
   "source": [
    "A = set([3, 5, 7, 9])\n",
    "B = set([1, 2, 3])\n",
    "A.intersection(B)"
   ]
  },
  {
   "cell_type": "markdown",
   "metadata": {
    "slideshow": {
     "slide_type": "slide"
    }
   },
   "source": [
    "**Venn diagrams** are helpful in visualising sets, including set unions and intersections (which are, of course, themselves sets).\n",
    "\n",
    "The Python package `matplotlib_venn` is helpful in constructing them. It can be installed using `easy_install matplotlib-venn`."
   ]
  },
  {
   "cell_type": "code",
   "execution_count": 20,
   "metadata": {
    "slideshow": {
     "slide_type": "slide"
    }
   },
   "outputs": [
    {
     "data": {
      "image/png": "[encoded data removed]",
      "text/plain": [
       "<matplotlib.figure.Figure at 0x1fcbff93e80>"
      ]
     },
     "metadata": {},
     "output_type": "display_data"
    }
   ],
   "source": [
    "from matplotlib_venn import venn2\n",
    "v = venn2(subsets = (2, 2, 1));\n",
    "v.get_label_by_id('01').set_text('')\n",
    "v.get_patch_by_id('01').set_linewidth(2)\n",
    "v.get_patch_by_id('01').set_edgecolor('black')\n",
    "v.get_patch_by_id('01').set_facecolor('white')\n",
    "\n",
    "v.get_label_by_id('10').set_text('')\n",
    "v.get_patch_by_id('10').set_linewidth(2)\n",
    "v.get_patch_by_id('10').set_edgecolor('black')\n",
    "v.get_patch_by_id('10').set_facecolor('white')\n",
    "\n",
    "v.get_label_by_id('11').set_text('$A \\cap B$')\n",
    "v.get_patch_by_id('11').set_linewidth(2)\n",
    "v.get_patch_by_id('11').set_edgecolor('black')\n",
    "v.get_patch_by_id('11').set_facecolor('#ff0000')"
   ]
  },
  {
   "cell_type": "code",
   "execution_count": 21,
   "metadata": {
    "slideshow": {
     "slide_type": "slide"
    }
   },
   "outputs": [
    {
     "data": {
      "image/png": "[encoded data removed]",
      "text/plain": [
       "<matplotlib.figure.Figure at 0x1fcc08206d8>"
      ]
     },
     "metadata": {},
     "output_type": "display_data"
    }
   ],
   "source": [
    "from matplotlib_venn import venn2\n",
    "v = venn2(subsets = (2, 2, 1));\n",
    "v.get_label_by_id('01').set_text('')\n",
    "v.get_patch_by_id('01').set_linewidth(2)\n",
    "v.get_patch_by_id('01').set_edgecolor('black')\n",
    "v.get_patch_by_id('01').set_facecolor('#ff0000')\n",
    "\n",
    "v.get_label_by_id('10').set_text('')\n",
    "v.get_patch_by_id('10').set_linewidth(2)\n",
    "v.get_patch_by_id('10').set_edgecolor('black')\n",
    "v.get_patch_by_id('10').set_facecolor('#ff0000')\n",
    "\n",
    "v.get_label_by_id('11').set_text('$A \\cup B$')\n",
    "v.get_patch_by_id('11').set_linewidth(2)\n",
    "v.get_patch_by_id('11').set_edgecolor('black')\n",
    "v.get_patch_by_id('11').set_facecolor('#ff0000')"
   ]
  },
  {
   "cell_type": "markdown",
   "metadata": {
    "slideshow": {
     "slide_type": "slide"
    }
   },
   "source": [
    "John Venn (1834 - 1923) was an English logician and philosopher. He introduced the diagrams that would later bear his name in an 1880 paper entitled *On the Diagrammatic and Mechanical Representation of Propositions and Reasonings*.\n",
    "\n",
    "<p/>\n",
    "<center>\n",
    "<img src=\"images/john-venn.png\" width=\"200\" alt=\"John Venn\">\n",
    "</center>"
   ]
  },
  {
   "cell_type": "markdown",
   "metadata": {
    "slideshow": {
     "slide_type": "slide"
    }
   },
   "source": [
    "There is a stained glass window at Gonville and Caius College, Cambridge, where Venn studied and worked, commemorating Venn and the Venn diagram.\n",
    "\n",
    "<p/>\n",
    "<center>\n",
    "<img src=\"images/john-venn-stained-glass.png\" width=\"200\" alt=\"A stained glass window honouring John Venn\">\n",
    "</center>"
   ]
  },
  {
   "cell_type": "markdown",
   "metadata": {
    "slideshow": {
     "slide_type": "slide"
    }
   },
   "source": [
    "The union and intersection may be extended to more than two sets. For example, let $G$ be the set of Greek uppercase letter glyphs,\n",
    "<font size=\"1\">\n",
    "$$G = \\{A, B, \\Gamma, \\Delta, E, Z, H, \\Theta, I, K, \\Lambda, M, N, \\Xi, O, \\Pi, P, \\Sigma, T, Y, \\Phi, X, \\Psi, \\Omega\\},$$\n",
    "</font>\n",
    "$E$ be the set of English uppercase letter glyphs,\n",
    "<font size=\"1\">\n",
    "$$E = \\{A, B, C, D, E, F, G, H, I, J, K, L, M, N, O, P, Q, R, S, T, U, V, W, X, Y, Z\\},$$\n",
    "</font>\n",
    "and $R$ be the set of Russian uppercase letter glyphs,\n",
    "<font size=\"1\">\n",
    "$$R = \\{\\text{А, Б, В, Г, Д, Е, Ё, Ж, З, И, Й, К, Л, М, Н, О, П, Р, С, Т, У, Ф, Х, Ц, Ч, Ш, Щ, Ъ, Ы, Ь, Э, Ю, Я}\\}$$.\n",
    "</font>\n",
    "Then their intersection is given by\n",
    "<font size=\"1\">\n",
    "$$G \\cap E \\cap R = \\{A, B, E, H, K, M, O, P, T, X, Y\\}.$$\n",
    "</font>\n",
    "\n",
    "<p/>\n",
    "<center>\n",
    "<img src=\"images/sets-of-uppercase-letter-glyphs.png\" width=\"300\" alt=\"Sets of uppercase letter glyphs\">\n",
    "</center>"
   ]
  },
  {
   "cell_type": "markdown",
   "metadata": {
    "slideshow": {
     "slide_type": "slide"
    }
   },
   "source": [
    "We can also take unions and intersections of infinitely many sets. Let $N_2$ denote the set of positive multiples of 2,\n",
    "$$N_2 = \\{2, 4, 6, 8, 10, 12, \\ldots\\},$$\n",
    "$N_3$ denote the set of positive multiples of 3,\n",
    "$$N_3 = \\{3, 6, 9, 12, 15, 18, \\ldots\\},$$\n",
    "and so on. Then we can write\n",
    "$$\\mathbb{N} = \\{1\\} \\cup \\bigcup_{i=2}^{\\infty} N_i.$$\n",
    "Since here we have taken a union of countably many sets (we can enumerate $N_2, N_3, N_4, \\ldots$), we refer to $\\bigcup_{i=2}^{\\infty} N_i$ as a **countable union**.\n",
    "\n",
    "It is also possible to define uncountable, or **arbitrary**, unions and intersections."
   ]
  },
  {
   "cell_type": "markdown",
   "metadata": {
    "slideshow": {
     "slide_type": "slide"
    }
   },
   "source": [
    "Unions and intersections are connected by the following relations:\n",
    "$$\n",
    "(A \\cup B) \\cap C = (A \\cap C) \\cup (B \\cap C), \\\\\n",
    "(A \\cap B) \\cup C = (A \\cup C) \\cap (B \\cup C).\n",
    "$$"
   ]
  },
  {
   "cell_type": "markdown",
   "metadata": {
    "slideshow": {
     "slide_type": "slide"
    }
   },
   "source": [
    "## Set difference, De Morgan's laws\n",
    "\n",
    "Another important operation on sets is the **set difference**,\n",
    "$$A \\setminus B = \\{x \\, | \\, x \\in A \\text{ and } x \\notin B\\}.$$\n",
    "\n",
    "If we assume that all the sets that we are considering are subsets of some large  set $\\Omega$, we may write $A^{\\complement}$, $A'$, or $\\overline{A}$ instead of $\\Omega \\setminus A$ and refer to $\\Omega \\setminus A$ as the **complement** of $A$ (in $\\Omega$).\n",
    "\n",
    "The following relations, known as **De Morgan's laws**, so named after the 19-th century British mathematician Augustus De Morgan, play an important part in **set theory**:\n",
    "$$\\overline{A \\cup B} = \\overline{A} \\cap \\overline{B},$$\n",
    "and\n",
    "$$\\overline{A \\cap B} = \\overline{A} \\cup \\overline{B}.$$\n",
    "\n",
    "They can be generalised to arbitrary unions and intersections of infinitely many sets."
   ]
  },
  {
   "cell_type": "markdown",
   "metadata": {
    "slideshow": {
     "slide_type": "slide"
    }
   },
   "source": [
    "Here is an exercise for you: *prove De Morgan's laws*.\n",
    "\n",
    "Assume that an element belongs to the set on the left-hand side and show that it also belongs to the set on the right-hand side (so the set on the left-hand side is a subset of the set on the right-hand side). Then assume that an element belongs to the set on the right-hand side and show that it also belongs to the set on the left-hand side (so the set on the right-hand side is a subset of the set on the left-hand side). If two sets are subsets of each other, then they are equal."
   ]
  },
  {
   "cell_type": "markdown",
   "metadata": {
    "slideshow": {
     "slide_type": "slide"
    }
   },
   "source": [
    "## Cartesian products\n",
    "\n",
    "The Cartesian product of two sets $A$ and $B$, written $A \\times B$, is the set of all ordered pairs $(a, b)$ where $a \\in A$ and $b \\in B$.\n",
    "\n",
    "For example, the Cartesian product of the sets $A = \\{\\text{foo}, \\text{bar}, \\text{baz}\\}$ and $B = \\{3, 12\\}$ is the set\n",
    "$$A \\times B = \\{(\\text{foo}, 3), (\\text{bar}, 3), (\\text{baz}, 3), (\\text{foo}, 12), (\\text{bar}, 12), (\\text{baz}, 12)\\}.$$\n",
    "\n",
    "As another example, consider the 2-dimensional plane, the set of pairs $(x, y)$ with $x \\in \\mathbb{R}$, $y \\in \\mathbb{R}$.\n",
    "\n",
    "More generally, Cartesian products can be defined for $n \\in \\mathbb{N}$ sets. For example, the 3-dimensional space, the set of triples $(x, y, z)$, $x \\in \\mathbb{R}$, $y \\in \\mathbb{R}$, $z \\in \\mathbb{R}$, is a 3-fold Cartesian product $\\mathbb{R}^3 = \\mathbb{R} \\times \\mathbb{R} \\times \\mathbb{R}$.\n",
    "\n",
    "<p/>\n",
    "<center>\n",
    "<img src=\"images/rene-descartes.png\" width=\"200\" alt=\"Rene Descartes\">\n",
    "</center>"
   ]
  },
  {
   "cell_type": "markdown",
   "metadata": {
    "collapsed": true,
    "slideshow": {
     "slide_type": "slide"
    }
   },
   "source": [
    "## Functions\n",
    "\n",
    "A **binary relation** *R* between a set $X$ (the **set of departure**) and a set $Y$ (the **set of destination** or **codomain**) is specified by its **graph**, $G$, which is a set of ordered pairs $(x, y)$, a subset of the cartesian product $X \\times Y$. The binary relation is also known as a **mapping** or **correspondence**.\n",
    "\n",
    "The statement $(x, y) \\in G$ is read as **\"$x$ is $R$-related to $y$\"** and is denoted $xRy$ or $R(x, y)$. The order is important: $xRy$ does not necessarily imply $yRx$ for a particular binary relation $R$.\n",
    "\n",
    "If $R$ is a binary relation between $X$ and $Y$, then the set $\\{y \\in Y \\,|\\, xRy \\text{ for some } x \\in X\\}$ is called the **image** or **range**, of $R$. The set $\\{x \\in X \\,|\\, xRy \\text{ for some } y \\in Y\\}$ is called the **domain** of $R$.\n",
    "\n",
    "A **function** $f$ from a set $X$ to a set $Y$ (we sometimes write $f: X \\rightarrow Y$) is a special case of a binary relation: it is defined by a set $G \\subseteq X \\times Y$ of ordered pairs $(x, y)$ such that, for *each* element $x \\in X$ there corresponds *one, and only one,* pair $(x, y) \\in G$, and we write $f(x) = y$ or $f: x \\mapsto y$."
   ]
  },
  {
   "cell_type": "markdown",
   "metadata": {
    "slideshow": {
     "slide_type": "slide"
    }
   },
   "source": [
    "Suppose that $A = \\{1, 2\\}$, $B = \\{a, b, c\\}$.\n",
    "\n",
    "Is the binary relation $f: A \\rightarrow B$ defined by $G_f = \\{(1, b), (2, a)\\}$ a function?\n",
    "\n",
    "<table>\n",
    "<tr><td>*x*</td><td>*f(x)*</td></tr>\n",
    "<tr><td>$1$</td><td>$b$</td></tr>\n",
    "<tr><td>$2$</td><td>$a$</td></tr>\n",
    "</table>"
   ]
  },
  {
   "cell_type": "markdown",
   "metadata": {
    "slideshow": {
     "slide_type": "fragment"
    }
   },
   "source": [
    "Indeed, it is a function: to *each* element of $x$, $f$ maps *exactly one* element of $B$."
   ]
  },
  {
   "cell_type": "markdown",
   "metadata": {
    "slideshow": {
     "slide_type": "slide"
    }
   },
   "source": [
    "Suppose that $A = \\{1, 2\\}$, $B = \\{a, b, c\\}$, as before.\n",
    "\n",
    "Is the binary relation $g: A \\rightarrow B$ defined by $G_g = \\{(1, b), (1, a), (2, a)\\}$ a function?\n",
    "\n",
    "<table>\n",
    "<tr><td>*x*</td><td>*g(x)*</td></tr>\n",
    "<tr><td>$1$</td><td>$b$</td></tr>\n",
    "<tr><td>$1$</td><td>$a$</td></tr>\n",
    "<tr><td>$2$</td><td>$a$</td></tr>\n",
    "</table>"
   ]
  },
  {
   "cell_type": "markdown",
   "metadata": {
    "slideshow": {
     "slide_type": "fragment"
    }
   },
   "source": [
    "No, it isn't: two distinct elements of $B$, $a, b \\in B$, are mapped to $1 \\in A$, so $g$ is not a function by definition."
   ]
  },
  {
   "cell_type": "markdown",
   "metadata": {
    "slideshow": {
     "slide_type": "slide"
    }
   },
   "source": [
    "Suppose that $A = \\{1, 2\\}$, $B = \\{a, b, c\\}$, as before.\n",
    "\n",
    "Is the binary relation $h: A \\rightarrow B$ defined by $G_h = \\{(2, a)\\}$ a function?\n",
    "\n",
    "<table>\n",
    "<tr><td>*x*</td><td>*h(x)*</td></tr>\n",
    "<tr><td>$2$</td><td>$a$</td></tr>\n",
    "</table>"
   ]
  },
  {
   "cell_type": "markdown",
   "metadata": {
    "slideshow": {
     "slide_type": "fragment"
    }
   },
   "source": [
    "No, it isn't: $h$ doesn't map any element of $B$ to $1 \\in A$."
   ]
  },
  {
   "cell_type": "markdown",
   "metadata": {
    "slideshow": {
     "slide_type": "slide"
    }
   },
   "source": [
    "Suppose that $A = \\{1, 2\\}$, $B = \\{a, b, c\\}$, as before.\n",
    "\n",
    "Is the binary relation $\\alpha: A \\rightarrow B$ defined by $G_{\\alpha} = \\{(1, a), (2, a)\\}$ a function?\n",
    "\n",
    "<table>\n",
    "<tr><td>*x*</td><td>*$\\alpha$(x)*</td></tr>\n",
    "<tr><td>$1$</td><td>$a$</td></tr>\n",
    "<tr><td>$2$</td><td>$a$</td></tr>\n",
    "</table>"
   ]
  },
  {
   "cell_type": "markdown",
   "metadata": {
    "slideshow": {
     "slide_type": "fragment"
    }
   },
   "source": [
    "Indeed it is: to *each* element of $A$ there corresponds *exactly one* element of $B$."
   ]
  },
  {
   "cell_type": "markdown",
   "metadata": {
    "slideshow": {
     "slide_type": "slide"
    }
   },
   "source": [
    "Now, consider the binary relation $s: \\mathbb{R} \\rightarrow \\mathbb{R}$ defined, for all $x \\in \\mathbb{R}$, by $s(x) = x^2$ or, in another notation, $s: x \\mapsto x^2$:"
   ]
  },
  {
   "cell_type": "code",
   "execution_count": 22,
   "metadata": {
    "slideshow": {
     "slide_type": "fragment"
    }
   },
   "outputs": [
    {
     "data": {
      "image/png": "[encoded data removed]",
      "text/plain": [
       "<matplotlib.figure.Figure at 0x1fcc093cb38>"
      ]
     },
     "metadata": {},
     "output_type": "display_data"
    }
   ],
   "source": [
    "import numpy as np\n",
    "import matplotlib.pyplot as plt\n",
    "xs = np.linspace(-10., 10., 50)\n",
    "plt.plot(xs, [x*x for x in xs]);\n",
    "plt.xlabel('x')\n",
    "plt.ylabel('s(x)');"
   ]
  },
  {
   "cell_type": "markdown",
   "metadata": {
    "slideshow": {
     "slide_type": "fragment"
    }
   },
   "source": [
    "Is this a function?"
   ]
  },
  {
   "cell_type": "markdown",
   "metadata": {
    "slideshow": {
     "slide_type": "slide"
    }
   },
   "source": [
    "Indeed, $s$ is a function: to *each* $x \\in \\mathbb{R}$ there corresponds one, and only one (thus exactly one) $s(x) \\in \\mathbb{R}$."
   ]
  },
  {
   "cell_type": "markdown",
   "metadata": {
    "slideshow": {
     "slide_type": "slide"
    }
   },
   "source": [
    "What about the binary relation $r: \\mathbb{R} \\rightarrow \\mathbb{R}$ defined, for all $x \\in \\mathbb{R}$, by $r(x) = \\sqrt{x}$?"
   ]
  },
  {
   "cell_type": "markdown",
   "metadata": {
    "slideshow": {
     "slide_type": "fragment"
    }
   },
   "source": [
    "First of all, this definition doesn't quite make sense. $\\sqrt{\\cdot}$ is defined only for nonnegative real numbers.\n",
    "\n",
    "Suppose we redefine $r: \\mathbb{R} \\rightarrow \\mathbb{R}$: for all $x \\geq 0$, $r(x) = \\sqrt{x}$.\n",
    "\n",
    "Is this now a function?"
   ]
  },
  {
   "cell_type": "markdown",
   "metadata": {
    "slideshow": {
     "slide_type": "fragment"
    }
   },
   "source": [
    "It's not a function $r: \\mathbb{R} \\rightarrow \\mathbb{R}$, since it does not define a value $f(x)$ for *all* $x \\in \\mathbb{R}$, only for those $x$ that are nonnegative.\n",
    "\n",
    "How could we fix the definition of $r$ so that it is a function?"
   ]
  },
  {
   "cell_type": "markdown",
   "metadata": {
    "slideshow": {
     "slide_type": "fragment"
    }
   },
   "source": [
    "One way to do it is to define it as $r: \\mathbb{R}_{\\geq 0} \\rightarrow \\mathbb{R}$, where $\\mathbb{R}_{\\geq 0}$ is the set of *nonnegative* real numbers."
   ]
  },
  {
   "cell_type": "code",
   "execution_count": 23,
   "metadata": {
    "slideshow": {
     "slide_type": "slide"
    }
   },
   "outputs": [
    {
     "data": {
      "image/png": "[encoded data removed]",
      "text/plain": [
       "<matplotlib.figure.Figure at 0x1fcc098e2b0>"
      ]
     },
     "metadata": {},
     "output_type": "display_data"
    }
   ],
   "source": [
    "xs = np.linspace(-10., 10., 50)\n",
    "xs = [x for x in xs if x >= 0]\n",
    "plt.plot(xs, [np.sqrt(x) for x in xs]);\n",
    "plt.xlabel('x')\n",
    "plt.ylabel('s(x)');"
   ]
  },
  {
   "cell_type": "markdown",
   "metadata": {
    "slideshow": {
     "slide_type": "slide"
    }
   },
   "source": [
    "## Image and inverse image\n",
    "\n",
    "Let $f: X \\rightarrow Y$ be a function and $A \\subseteq X$. Then the **image** $f[A]$ of $A$ under $f$ is the set $$f[A] = \\{y \\in Y \\,|\\, y = f(x) \\text{ for some } x \\in A\\}.$$\n",
    "\n",
    "This is consistent with the definition of the **image** of a function given above: the image of the function $f$ is the image $f[X]$ of the entire set $X$.\n",
    "\n",
    "Let $f: X \\rightarrow Y$ be a function and $B \\subseteq Y$. Then the **preimage** or **inverse image** of $B$ under $f$ is the set $$f^{-1}[B] = \\{x \\in X \\,|\\, f(x) \\in B\\}.$$\n",
    "\n",
    "For example, for $f: \\mathbb{R} \\rightarrow \\mathbb{R}$, $f: x \\mapsto x^2$, the inverse image of the singleton set $\\{4\\}$ is the set $\\{-2, 2\\}$. The inverse image of the set $\\{4, 9\\}$ is the set $\\{-3, -2, 2, 3\\}$."
   ]
  },
  {
   "cell_type": "markdown",
   "metadata": {
    "slideshow": {
     "slide_type": "slide"
    }
   },
   "source": [
    "The inverse image of the union of two sets is equal to the union of their inverse images:\n",
    "$$f^{-1}[A \\cup B] = f^{-1}[A] \\cup f^{-1}[B].$$\n",
    "\n",
    "Exercise: How would you prove this?"
   ]
  },
  {
   "cell_type": "markdown",
   "metadata": {
    "slideshow": {
     "slide_type": "slide"
    }
   },
   "source": [
    "The inverse image of the intersection of two sets is equal to the intersection of their inverse images:\n",
    "$$f^{-1}[A \\cap B] = f^{-1}[A] \\cap f^{-1}[B].$$"
   ]
  },
  {
   "cell_type": "markdown",
   "metadata": {
    "slideshow": {
     "slide_type": "slide"
    }
   },
   "source": [
    "The image of the union of two sets is equal to the union of their images:\n",
    "$$f[A \\cup B] = f[A] \\cup f[B].$$"
   ]
  },
  {
   "cell_type": "markdown",
   "metadata": {
    "slideshow": {
     "slide_type": "slide"
    }
   },
   "source": [
    "Is the image of the intersection of two sets equal to the intersection of their images:\n",
    "$$f[A \\cap B] \\overset{?}{=} f[A] \\cap f[B].$$"
   ]
  },
  {
   "cell_type": "markdown",
   "metadata": {
    "slideshow": {
     "slide_type": "fragment"
    }
   },
   "source": [
    "The image of the intersection of two sets is, in general, *not* equal to the intersection of their images:\n",
    "$$f[A \\cap B] \\neq f[A] \\cap f[B].$$"
   ]
  },
  {
   "cell_type": "markdown",
   "metadata": {
    "slideshow": {
     "slide_type": "slide"
    }
   },
   "source": [
    "To see this, consider $f: \\mathbb{R} \\times \\mathbb{R} \\rightarrow \\mathbb{R}$, defined by $f: (x, y) \\mapsto x$, a **projection** on the $x$-plane.\n",
    "\n",
    "Define $A = \\{(x, 0) \\,|\\, 0 \\leq x \\leq 1\\}$ and $A = \\{(x, 1) \\,|\\, 0 \\leq x \\leq 1\\}$.\n",
    "\n",
    "The two sets do not intersect, or, in other words, their intersection is the so-called **empty set**: $A \\cap B = \\{\\} = \\emptyset$.\n",
    "\n",
    "However, the images of the two sets coincide: $f(A) = f(B) = \\{x \\,|\\, 0 \\leq x \\leq 1\\}$.\n",
    "\n",
    "We have just disproven\n",
    "$$f[A \\cap B] = f[A] \\cap f[B],$$\n",
    "equivalently, we have just proven\n",
    "$$f[A \\cap B] \\neq f[A] \\cap f[B].$$\n",
    "by producing a particular **counterexample** &mdash; this is yet another proof method, very common in mathematics. &#9633;"
   ]
  },
  {
   "cell_type": "markdown",
   "metadata": {
    "slideshow": {
     "slide_type": "slide"
    }
   },
   "source": [
    "## One-to-one, onto, bijections, and inverse functions\n",
    "\n",
    "A function $f: X \\rightarrow Y$ is **injective** or **one-to-one** if each possible element $y \\in Y$ of its codomain $y$ is mapped to by at most one argument $x \\in X$. We call **injective** functions **injections**.\n",
    "\n",
    "It is **surjective** or **onto** if each possible element $y \\in Y$ is mapped to by at least one argument $x \\in X$. We call **surjective** functions **surjections**.\n",
    "\n",
    "It is **bijective** if it is both injective and surjective (one-to-one and onto). We call such functions **bijections** or **one-to-one correspondences**.\n",
    "\n",
    "A function $f: X \\rightarrow Y$ is **invertible** if there exists a function $g: Y \\rightarrow X$ such that, for all $y \\in Y$, $g(f(x)) = x$. We call $g$ an inverse of $f$ and sometimes denote it by $f^{-1}$.\n",
    "\n",
    "One can check that a function is invertible iff it is a bijection."
   ]
  },
  {
   "cell_type": "markdown",
   "metadata": {
    "slideshow": {
     "slide_type": "slide"
    }
   },
   "source": [
    "Suppose that $A = \\{1, 2\\}$, $B = \\{a, b, c\\}$.\n",
    "\n",
    "Is the function $f: A \\rightarrow B$ defined by $G_f = \\{(1, b), (2, a)\\}$ one-to-one, onto, a bijection, invertible?\n",
    "\n",
    "<table>\n",
    "<tr><td>*x*</td><td>*f(x)*</td></tr>\n",
    "<tr><td>$1$</td><td>$b$</td></tr>\n",
    "<tr><td>$2$</td><td>$a$</td></tr>\n",
    "</table>"
   ]
  },
  {
   "cell_type": "markdown",
   "metadata": {
    "slideshow": {
     "slide_type": "slide"
    }
   },
   "source": [
    "* It is one-to-one, since for each element it its image, $f[A]$, there corresponds a single element of $A$: to $a$, there corresponds 2, and to $b$, there corresponds 1.\n",
    "\n",
    "* It is *not* onto, since no element of $A$ is mapped to $c \\in B$.\n",
    "\n",
    "* Since the function is *not* one-to-one *and* onto, but only one-to-one, it is not a bijection.\n",
    "\n",
    "* Therefore it is not invertible. Indeed we could not define the inverse function $f^{-1}: B \\rightarrow A$ since we wouldn't be able to map $c \\in B$ to anything &mdash; it wouldn't be a function."
   ]
  },
  {
   "cell_type": "markdown",
   "metadata": {
    "slideshow": {
     "slide_type": "slide"
    }
   },
   "source": [
    "As before, $A = \\{1, 2\\}$, $B = \\{a, b, c\\}$.\n",
    "\n",
    "Is the function $\\alpha: A \\rightarrow B$ defined by $G_{\\alpha} = \\{(1, a), (2, a)\\}$ one-to-one, onto, a bijection, invertible?\n",
    "\n",
    "<table>\n",
    "<tr><td>*x*</td><td>*$\\alpha$(x)*</td></tr>\n",
    "<tr><td>$1$</td><td>$a$</td></tr>\n",
    "<tr><td>$2$</td><td>$a$</td></tr>\n",
    "</table>"
   ]
  },
  {
   "cell_type": "markdown",
   "metadata": {
    "slideshow": {
     "slide_type": "slide"
    }
   },
   "source": [
    "* It is *not* one-to-one, since for $a \\in f[A]$, there correspond two elements of $A$: 1 and 2: $f(1) = f(2) = a$.\n",
    "* It is *not* onto, since no element of $A$ is mapped to $b \\in B$, nor is there an element of $A$ mapped to $c \\in B$.\n",
    "* Since the function is *not* one-to-one *and* onto, in fact, it is neither, it is not a bijection.\n",
    "* Therefore it is not invertible."
   ]
  },
  {
   "cell_type": "markdown",
   "metadata": {
    "slideshow": {
     "slide_type": "slide"
    }
   },
   "source": [
    "In fact, is there *any* bijection (and therefore *any* invertible function) between $A = \\{1, 2\\}$ and $B = \\{a, b, c\\}$?"
   ]
  },
  {
   "cell_type": "markdown",
   "metadata": {
    "slideshow": {
     "slide_type": "slide"
    }
   },
   "source": [
    "Since $|A| \\neq |B|$ there isn't!"
   ]
  },
  {
   "cell_type": "markdown",
   "metadata": {
    "slideshow": {
     "slide_type": "slide"
    }
   },
   "source": [
    "But between $C = \\{1, 2\\}$ and $D = \\{a, b\\}$ there are two bijections. One is\n",
    "$\\beta: C \\rightarrow D$ defined by $G_{\\beta} = \\{(1, a), (2, b)\\}$:\n",
    "\n",
    "<table>\n",
    "<tr><td>*x*</td><td>*$\\beta$(x)*</td></tr>\n",
    "<tr><td>$1$</td><td>$a$</td></tr>\n",
    "<tr><td>$2$</td><td>$b$</td></tr>\n",
    "</table>"
   ]
  },
  {
   "cell_type": "markdown",
   "metadata": {
    "slideshow": {
     "slide_type": "slide"
    }
   },
   "source": [
    "Its inverse is $\\beta^{-1}: D \\rightarrow C$ defined by $G_{\\beta^{-1}} = \\{(a, 1), (b, 2)\\}$:\n",
    "\n",
    "<table>\n",
    "<tr><td>*y*</td><td>*$\\beta^{-1}$(y)*</td></tr>\n",
    "<tr><td>$a$</td><td>$1$</td></tr>\n",
    "<tr><td>$b$</td><td>$2$</td></tr>\n",
    "</table>"
   ]
  },
  {
   "cell_type": "markdown",
   "metadata": {
    "slideshow": {
     "slide_type": "slide"
    }
   },
   "source": [
    "The other bijection between $C = \\{1, 2\\}$ and $D = \\{a, b\\}$ is $\\gamma: C \\rightarrow D$ defined by $G_{\\gamma} = \\{(1, b), (2, a)\\}$:\n",
    "\n",
    "<table>\n",
    "<tr><td>*x*</td><td>*$\\gamma$(x)*</td></tr>\n",
    "<tr><td>$1$</td><td>$b$</td></tr>\n",
    "<tr><td>$2$</td><td>$a$</td></tr>\n",
    "</table>"
   ]
  },
  {
   "cell_type": "markdown",
   "metadata": {
    "slideshow": {
     "slide_type": "slide"
    }
   },
   "source": [
    "Its inverse is $\\gamma^{-1}: D \\rightarrow C$ defined by $G_{\\gamma^{-1}} = \\{(a, 2), (b, 1)\\}$:\n",
    "\n",
    "<table>\n",
    "<tr><td>*y*</td><td>*$\\gamma^{-1}$(y)*</td></tr>\n",
    "<tr><td>$a$</td><td>$2$</td></tr>\n",
    "<tr><td>$b$</td><td>$1$</td></tr>\n",
    "</table>"
   ]
  },
  {
   "cell_type": "markdown",
   "metadata": {
    "slideshow": {
     "slide_type": "slide"
    }
   },
   "source": [
    "Since $\\gamma$ is a bijection, so is $\\gamma^{-1}$, and it is therefore invertible; the inverse of $\\gamma^{-1}$ is $\\gamma$."
   ]
  },
  {
   "cell_type": "markdown",
   "metadata": {
    "slideshow": {
     "slide_type": "slide"
    }
   },
   "source": [
    "## How natural numbers can be constructed from sets"
   ]
  },
  {
   "cell_type": "markdown",
   "metadata": {
    "slideshow": {
     "slide_type": "slide"
    }
   },
   "source": [
    "We have mentioned that sets are the \"most general\" mathematical objects. But then we informally introduced other objects, such as ordered pairs. At first sight, ordered pairs are different from sets. Why do we then say that sets are the \"most general\" mathematical objects?\n",
    "\n",
    "In fact, ordered pairs can be expressed as sets. There are several ways to do this, one of them the so-called **Kuratowski's definition** proposed in 1921 by Kazimierz Kuratowski:\n",
    "$$(a, b) = \\{\\{a\\}, \\{a, b\\}\\}.$$\n",
    "\n",
    "This definition can be used even when the two elements of the pair are identical:\n",
    "$$(a, a) = \\{\\{a\\}, \\{a, a\\}\\} = \\{\\{a\\}, \\{a\\}\\} = \\{\\{a\\}\\}.$$\n",
    "\n",
    "Triples can be defined as nested pairs:\n",
    "$$(a, b, c) = (a, (b, c)),$$\n",
    "and so on."
   ]
  },
  {
   "cell_type": "markdown",
   "metadata": {
    "slideshow": {
     "slide_type": "slide"
    }
   },
   "source": [
    "But what about *numbers*? Surely there is no way to use sets to define numbers?"
   ]
  },
  {
   "cell_type": "markdown",
   "metadata": {
    "slideshow": {
     "slide_type": "slide"
    }
   },
   "source": [
    "In fact, we can define natural numbers and zero as follows:\n",
    "$$\n",
    "0 = \\{\\} = \\emptyset, \\\\\n",
    "1 = \\{0\\} = \\{\\emptyset\\}, \\\\\n",
    "2 = \\{0, 1\\} = \\{\\emptyset, \\{\\emptyset\\}\\}, \\\\\n",
    "3 = \\{0, 1, 2\\} = \\{\\emptyset, \\{\\emptyset\\}, \\{\\emptyset, \\{\\emptyset\\}\\}\\}, \\\\\n",
    "\\vdots\n",
    "$$"
   ]
  },
  {
   "cell_type": "markdown",
   "metadata": {
    "slideshow": {
     "slide_type": "slide"
    }
   },
   "source": [
    "This definition is part of the Zermelo-Fraenkel (ZF) set theory. We can then use the **Dedekind-Peano axioms** to define arithmetic for natural numbers in terms of set theory.\n",
    "\n",
    "Having constructed $\\mathbb{N}$, we can then construct the rationals $\\mathbb{Q}$, the reals $\\mathbb{R}$, building on the foundation of set theory.\n",
    "\n",
    "Proceeding onwards, we obtain... the rest of mathematics!"
   ]
  }
 ],
 "metadata": {
  "celltoolbar": "Slideshow",
  "kernelspec": {
   "display_name": "Python 3",
   "language": "python",
   "name": "python3"
  },
  "language_info": {
   "codemirror_mode": {
    "name": "ipython",
    "version": 3
   },
   "file_extension": ".py",
   "mimetype": "text/x-python",
   "name": "python",
   "nbconvert_exporter": "python",
   "pygments_lexer": "ipython3",
   "version": "3.6.1"
  }
 },
 "nbformat": 4,
 "nbformat_minor": 2
}
