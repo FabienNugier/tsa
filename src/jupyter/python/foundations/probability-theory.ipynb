{
 "cells": [
  {
   "cell_type": "markdown",
   "metadata": {},
   "source": [
    "# Probability theory\n",
    "\n"
   ]
  },
  {
   "cell_type": "markdown",
   "metadata": {},
   "source": [
    "## Random experiment\n",
    "\n",
    "When we toss an unbiased coin, we say that it lands heads up with probability $\\frac{1}{2}$ and tails up with probability $\\frac{1}{2}$.\n",
    "\n",
    "Such a coin toss is an example of a **random experiment** and the set of **outcomes** of this random experiment is the **sample space** $\\Omega = \\{h, t\\}$, where $h$ stands for \"heads\" and $t$ stands for tails.\n",
    "\n",
    "What if we toss a coin twice? We could view the two coin tosses as a single random experiment with the sample space $\\Omega = \\{hh, ht, th, tt\\}$, where $ht$ (for example) denotes \"heads on the first toss\", \"tails on the second toss\".\n",
    "\n",
    "What if, instead of tossing a coin, we roll a die? The sample space for this random experiment is $\\Omega = \\{1, 2, 3, 4, 5, 6\\}$.\n",
    "\n",
    "## Events\n",
    "\n",
    "An **event**, then, is a subset of the sample space. In our example of the two consecutive coin tosses, getting heads on all coin tosses is an event:\n",
    "$$A = \\text{\"getting heads on all coin tosses\"} = \\{hh\\} \\subseteq \\{hh, ht, th, tt\\} = \\Omega.$$\n",
    "\n",
    "Getting distinct results on the two coin tosses is also an event:\n",
    "$$D = \\{ht, th\\} \\subseteq \\{hh, ht, th, tt\\} = \\Omega.$$\n",
    "\n",
    "We can simulate a coin toss in Python as follows:"
   ]
  },
  {
   "cell_type": "code",
   "execution_count": null,
   "metadata": {
    "collapsed": true
   },
   "outputs": [],
   "source": []
  },
  {
   "cell_type": "code",
   "execution_count": 29,
   "metadata": {},
   "outputs": [
    {
     "data": {
      "text/plain": [
       "0"
      ]
     },
     "execution_count": 29,
     "metadata": {},
     "output_type": "execute_result"
    }
   ],
   "source": [
    "import numpy as np\n",
    "np.random.seed(42)\n",
    "np.random.randint(0, 2)"
   ]
  },
  {
   "cell_type": "markdown",
   "metadata": {},
   "source": [
    "(Let's say 0 is heads and 1 is tails.)"
   ]
  },
  {
   "cell_type": "markdown",
   "metadata": {},
   "source": [
    "Similarly, in our roll-of-a-die example, the following are all events:\n",
    "$$S = \\text{\"six shows up\"} = \\{6\\} \\subseteq \\{1, 2, 3, 4, 5, 6\\} = \\Omega,$$\n",
    "$$E = \\text{\"even number shows up\"} = \\{2, 4, 6\\} \\subseteq \\{1, 2, 3, 4, 5, 6\\} = \\Omega,$$\n",
    "$$O = \\text{\"odd number shows up\"} = \\{1, 3, 5\\} \\subseteq \\{1, 2, 3, 4, 5, 6\\} = \\Omega.$$\n",
    "The empty set, $\\emptyset = \\{\\}$, represents the **impossible event**, whereas the sample space $\\Omega$ itself represents the **certain event**: one of the numbers $1, 2, 3, 4, 5, 6$ always occurs when a die is rolled, so $\\Omega$ always occurs.\n",
    "\n",
    "We can simulate the roll of a die in Python as follows:"
   ]
  },
  {
   "cell_type": "code",
   "execution_count": 17,
   "metadata": {},
   "outputs": [
    {
     "data": {
      "text/plain": [
       "4"
      ]
     },
     "execution_count": 17,
     "metadata": {},
     "output_type": "execute_result"
    }
   ],
   "source": [
    "np.random.randint(1, 7)"
   ]
  },
  {
   "cell_type": "markdown",
   "metadata": {},
   "source": [
    "If we get 4, say, $S$ has not occurred, since $4 \\notin S$; $E$ has occurred, since $4 \\in E$; $O$ has not occurred, since $4 \\notin O$.\n",
    "\n",
    "When all outcomes are equally likely, and the sample space is finite, the probability of an event $A$ is given by $$\\mathbb{P}(A) = \\frac{|A|}{|\\Omega|},$$ where $|\\cdot|$ denotes the number of elements in a given set.\n",
    "\n",
    "Thus, the probability of the event $E$, \"even number shows up\" is equal to $$\\mathbb{P}(A) = \\frac{|E|}{|\\Omega|} = \\frac{3}{6} = \\frac{1}{2}.$$\n",
    "\n",
    "If Python's random number generator is decent enough, we should get pretty close to this number by simulating die rolls:"
   ]
  },
  {
   "cell_type": "code",
   "execution_count": 21,
   "metadata": {},
   "outputs": [
    {
     "data": {
      "text/plain": [
       "0.49"
      ]
     },
     "execution_count": 21,
     "metadata": {},
     "output_type": "execute_result"
    }
   ],
   "source": [
    "outcomes = np.random.randint(1, 7, 100)\n",
    "len([x for x in outcomes if x % 2 == 0]) / len(outcomes)"
   ]
  },
  {
   "cell_type": "markdown",
   "metadata": {},
   "source": [
    "Here we have used 100 simulated \"rolls\". If we used, 1000000, say, we would get even closer to $\\frac{1}{2}$:"
   ]
  },
  {
   "cell_type": "code",
   "execution_count": 25,
   "metadata": {},
   "outputs": [
    {
     "data": {
      "text/plain": [
       "0.500907"
      ]
     },
     "execution_count": 25,
     "metadata": {},
     "output_type": "execute_result"
    }
   ],
   "source": [
    "outcomes = np.random.randint(1, 7, 1000000)\n",
    "len([x for x in outcomes if x % 2 == 0]) / len(outcomes)"
   ]
  },
  {
   "cell_type": "code",
   "execution_count": null,
   "metadata": {
    "collapsed": true
   },
   "outputs": [],
   "source": []
  }
 ],
 "metadata": {
  "kernelspec": {
   "display_name": "Python 3",
   "language": "python",
   "name": "python3"
  },
  "language_info": {
   "codemirror_mode": {
    "name": "ipython",
    "version": 3
   },
   "file_extension": ".py",
   "mimetype": "text/x-python",
   "name": "python",
   "nbconvert_exporter": "python",
   "pygments_lexer": "ipython3",
   "version": "3.6.1"
  }
 },
 "nbformat": 4,
 "nbformat_minor": 2
}
