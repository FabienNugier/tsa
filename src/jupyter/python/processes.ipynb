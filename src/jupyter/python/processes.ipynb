{
 "cells": [
  {
   "cell_type": "markdown",
   "metadata": {},
   "source": [
    "# Processes\n",
    "\n",
    "## Introduction\n",
    "\n",
    "In simulation and modelling we encounter a wide range of stochastic processes. But most fall into a few common categories: Ito processes, martingales, Markov processes, Gaussian processes, etc. We attempt to take this into account in our treatment of stochastic processes in thalesians.tsa, where we represent different categories of stochastic processes with distinct abstract data types."
   ]
  },
  {
   "cell_type": "code",
   "execution_count": 108,
   "metadata": {
    "collapsed": true
   },
   "outputs": [],
   "source": [
    "%matplotlib inline\n",
    "import os, sys\n",
    "sys.path.append(os.path.abspath('../../main/python'))\n",
    "import thalesians.tsa.processes as proc"
   ]
  },
  {
   "cell_type": "markdown",
   "metadata": {
    "collapsed": true
   },
   "source": [
    "## Ito processes\n",
    "\n",
    "An **Ito process** is defined to be an adapted stochastic process that can be expressed as the sum of an integral with respect to a Wiener process and an integral with respect to time,\n",
    "$$X_t = X_0 + \\int_0^t \\mu_s \\, ds + \\int_0^t \\sigma_s \\, dW_s,$$\n",
    "or, in differential form,\n",
    "$$dX_s = \\mu_s \\, ds + \\sigma_s \\, dW_s,$$\n",
    "where $W$ is a Wiener process, $\\sigma$ a predictable $W$-integrable process, $\\mu$ predictable and Lebesgue-integrable. The integrability conditions can be expressed as\n",
    "$$\\int_0^t (\\sigma_s^2 + |\\mu_s|) \\, ds < \\infty.$$\n",
    "\n",
    "$\\mu$ and $\\sigma$ are allowed to depend both on the time and current state, so we can write\n",
    "$$X_t = X_0 + \\int_0^t \\mu(s, X_s) \\, ds + \\int_0^t \\sigma(s, X_s) \\, dW_s.$$\n",
    "\n",
    "The function $\\mu$ is referred to as **drift**, the function $\\sigma$ as **diffusion**."
   ]
  },
  {
   "cell_type": "code",
   "execution_count": 110,
   "metadata": {},
   "outputs": [],
   "source": [
    "X = proc.ItoProcess(drift=1., diffusion=.7)"
   ]
  },
  {
   "cell_type": "markdown",
   "metadata": {},
   "source": [
    "## Solved Ito processes\n",
    "In case the SDE above has a solution, it may be possible to compute the integrals above analytically.\n",
    "\n",
    "## Markov processes\n",
    "Informally, a Markov process models the motion of a particle that moves around in a measurable space $(E, \\mathcal{E})$ in a memoryless way."
   ]
  },
  {
   "cell_type": "code",
   "execution_count": 105,
   "metadata": {},
   "outputs": [
    {
     "data": {
      "text/plain": [
       "[<matplotlib.lines.Line2D at 0x175177c1390>]"
      ]
     },
     "execution_count": 105,
     "metadata": {},
     "output_type": "execute_result"
    },
    {
     "data": {
      "image/png": "[encoded data removed]",
      "text/plain": [
       "<matplotlib.figure.Figure at 0x175176ad550>"
      ]
     },
     "metadata": {},
     "output_type": "display_data"
    }
   ],
   "source": [
    "import matplotlib.pyplot as plt\n",
    "\n",
    "from thalesians.tsa.processes import WienerProcess\n",
    "import thalesians.tsa.simulation as sim\n",
    "X = WienerProcess(mean=0., vol=7.)\n",
    "df = sim.run(sim.EulerMaruyama(X), 1000)\n",
    "plt.plot(df)"
   ]
  }
 ],
 "metadata": {
  "kernelspec": {
   "display_name": "Python 3",
   "language": "python",
   "name": "python3"
  },
  "language_info": {
   "codemirror_mode": {
    "name": "ipython",
    "version": 3
   },
   "file_extension": ".py",
   "mimetype": "text/x-python",
   "name": "python",
   "nbconvert_exporter": "python",
   "pygments_lexer": "ipython3",
   "version": "3.6.1"
  }
 },
 "nbformat": 4,
 "nbformat_minor": 2
}
