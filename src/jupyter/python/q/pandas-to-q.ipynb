{
 "cells": [
  {
   "cell_type": "code",
   "execution_count": 1,
   "metadata": {
    "collapsed": false
   },
   "outputs": [],
   "source": [
    "import os, sys\n",
    "sys.path.append(os.path.abspath('../../../main/python'))\n",
    "import thalesians.tsa.q.qutils as qutils"
   ]
  },
  {
   "cell_type": "code",
   "execution_count": 2,
   "metadata": {
    "collapsed": true
   },
   "outputs": [],
   "source": [
    "import datetime as dt\n",
    "import pandas as pd"
   ]
  },
  {
   "cell_type": "code",
   "execution_count": 3,
   "metadata": {
    "collapsed": true
   },
   "outputs": [],
   "source": [
    "from qpython import qconnection"
   ]
  },
  {
   "cell_type": "code",
   "execution_count": 4,
   "metadata": {
    "collapsed": false
   },
   "outputs": [],
   "source": [
    "df = pd.DataFrame({\n",
    "    'sym': ['foo', None, 'baz', 'qux', 'quux', 'quuz', 'corge'],\n",
    "    'tally': [3, 7, 5, 3, 8, 10, 12],\n",
    "    'price': [3.57, 10.87, 10.28, 3.22, 18.15, 29.29, 10.09],\n",
    "    'date': [\n",
    "        dt.date(2019, 5, 17), dt.date(2019, 5, 17), dt.date(2019, 5, 17),\n",
    "        dt.date(2019, 5, 17), dt.date(2019, 5, 17), dt.date(2019, 5, 17),\n",
    "        dt.date(2019, 5, 17)],\n",
    "    'time': [\n",
    "        dt.time(21, 43, 54, 357000), dt.time(21, 43, 54, 357000), dt.time(21, 43, 54, 357000),\n",
    "        dt.time(21, 43, 54, 357000), dt.time(21, 43, 54, 357000), dt.time(21, 43, 54, 357000),\n",
    "        dt.time(21, 43, 54, 357000)],\n",
    "    'datetime': [\n",
    "        dt.datetime(2019, 5, 17, 21, 43, 54, 357000), dt.datetime(2019, 5, 17, 21, 43, 54, 357000),\n",
    "        dt.datetime(2019, 5, 17, 21, 43, 54, 357000), dt.datetime(2019, 5, 17, 21, 43, 54, 357000),\n",
    "        dt.datetime(2019, 5, 17, 21, 43, 54, 357000), dt.datetime(2019, 5, 17, 21, 43, 54, 357000),\n",
    "        dt.datetime(2019, 5, 17, 21, 43, 54, 357000)]\n",
    "    })"
   ]
  },
  {
   "cell_type": "code",
   "execution_count": 5,
   "metadata": {
    "collapsed": false
   },
   "outputs": [
    {
     "data": {
      "text/html": [
       "<div>\n",
       "<style>\n",
       "    .dataframe thead tr:only-child th {\n",
       "        text-align: right;\n",
       "    }\n",
       "\n",
       "    .dataframe thead th {\n",
       "        text-align: left;\n",
       "    }\n",
       "\n",
       "    .dataframe tbody tr th {\n",
       "        vertical-align: top;\n",
       "    }\n",
       "</style>\n",
       "<table border=\"1\" class=\"dataframe\">\n",
       "  <thead>\n",
       "    <tr style=\"text-align: right;\">\n",
       "      <th></th>\n",
       "      <th>date</th>\n",
       "      <th>datetime</th>\n",
       "      <th>price</th>\n",
       "      <th>sym</th>\n",
       "      <th>tally</th>\n",
       "      <th>time</th>\n",
       "    </tr>\n",
       "  </thead>\n",
       "  <tbody>\n",
       "    <tr>\n",
       "      <th>0</th>\n",
       "      <td>2019-05-17</td>\n",
       "      <td>2019-05-17 21:43:54.357</td>\n",
       "      <td>3.57</td>\n",
       "      <td>foo</td>\n",
       "      <td>3</td>\n",
       "      <td>21:43:54.357000</td>\n",
       "    </tr>\n",
       "    <tr>\n",
       "      <th>1</th>\n",
       "      <td>2019-05-17</td>\n",
       "      <td>2019-05-17 21:43:54.357</td>\n",
       "      <td>10.87</td>\n",
       "      <td>None</td>\n",
       "      <td>7</td>\n",
       "      <td>21:43:54.357000</td>\n",
       "    </tr>\n",
       "    <tr>\n",
       "      <th>2</th>\n",
       "      <td>2019-05-17</td>\n",
       "      <td>2019-05-17 21:43:54.357</td>\n",
       "      <td>10.28</td>\n",
       "      <td>baz</td>\n",
       "      <td>5</td>\n",
       "      <td>21:43:54.357000</td>\n",
       "    </tr>\n",
       "    <tr>\n",
       "      <th>3</th>\n",
       "      <td>2019-05-17</td>\n",
       "      <td>2019-05-17 21:43:54.357</td>\n",
       "      <td>3.22</td>\n",
       "      <td>qux</td>\n",
       "      <td>3</td>\n",
       "      <td>21:43:54.357000</td>\n",
       "    </tr>\n",
       "    <tr>\n",
       "      <th>4</th>\n",
       "      <td>2019-05-17</td>\n",
       "      <td>2019-05-17 21:43:54.357</td>\n",
       "      <td>18.15</td>\n",
       "      <td>quux</td>\n",
       "      <td>8</td>\n",
       "      <td>21:43:54.357000</td>\n",
       "    </tr>\n",
       "    <tr>\n",
       "      <th>5</th>\n",
       "      <td>2019-05-17</td>\n",
       "      <td>2019-05-17 21:43:54.357</td>\n",
       "      <td>29.29</td>\n",
       "      <td>quuz</td>\n",
       "      <td>10</td>\n",
       "      <td>21:43:54.357000</td>\n",
       "    </tr>\n",
       "    <tr>\n",
       "      <th>6</th>\n",
       "      <td>2019-05-17</td>\n",
       "      <td>2019-05-17 21:43:54.357</td>\n",
       "      <td>10.09</td>\n",
       "      <td>corge</td>\n",
       "      <td>12</td>\n",
       "      <td>21:43:54.357000</td>\n",
       "    </tr>\n",
       "  </tbody>\n",
       "</table>\n",
       "</div>"
      ],
      "text/plain": [
       "         date                datetime  price    sym  tally             time\n",
       "0  2019-05-17 2019-05-17 21:43:54.357   3.57    foo      3  21:43:54.357000\n",
       "1  2019-05-17 2019-05-17 21:43:54.357  10.87   None      7  21:43:54.357000\n",
       "2  2019-05-17 2019-05-17 21:43:54.357  10.28    baz      5  21:43:54.357000\n",
       "3  2019-05-17 2019-05-17 21:43:54.357   3.22    qux      3  21:43:54.357000\n",
       "4  2019-05-17 2019-05-17 21:43:54.357  18.15   quux      8  21:43:54.357000\n",
       "5  2019-05-17 2019-05-17 21:43:54.357  29.29   quuz     10  21:43:54.357000\n",
       "6  2019-05-17 2019-05-17 21:43:54.357  10.09  corge     12  21:43:54.357000"
      ]
     },
     "execution_count": 5,
     "metadata": {},
     "output_type": "execute_result"
    }
   ],
   "source": [
    "df"
   ]
  },
  {
   "cell_type": "code",
   "execution_count": 6,
   "metadata": {
    "collapsed": false
   },
   "outputs": [
    {
     "data": {
      "text/plain": [
       "date                object\n",
       "datetime    datetime64[ns]\n",
       "price              float64\n",
       "sym                 object\n",
       "tally                int64\n",
       "time                object\n",
       "dtype: object"
      ]
     },
     "execution_count": 6,
     "metadata": {},
     "output_type": "execute_result"
    }
   ],
   "source": [
    "df.dtypes"
   ]
  },
  {
   "cell_type": "code",
   "execution_count": 7,
   "metadata": {
    "collapsed": false
   },
   "outputs": [],
   "source": [
    "dtype_to_qtype = {\n",
    "    'object': None,\n",
    "    'int64': qutils.QTypes.LONG,\n",
    "    'float64': qutils.QTypes.FLOAT,\n",
    "    'bool': qutils.QTypes.BOOLEAN,\n",
    "    'datetime64[ns]': qutils.QTypes.DATETIME,\n",
    "    'timedelta[ns]': qutils.QTypes.TIME,\n",
    "    'category': qutils.QTypes.SYMBOL\n",
    "}"
   ]
  },
  {
   "cell_type": "code",
   "execution_count": 8,
   "metadata": {
    "collapsed": true
   },
   "outputs": [],
   "source": [
    "def infer_q_type(df, column, string_columns=set()):\n",
    "    typ = dtype_to_qtype[df.dtypes[column].name]\n",
    "    if typ is None:\n",
    "        if all([isinstance(x, str) for x in df[column].values if x is not None]):\n",
    "            typ = qutils.QTypes.SYMBOL\n",
    "    if typ == qutils.QTypes.SYMBOL and column in string_columns:\n",
    "        typ = qutils.QTypes.UNTYPED_LIST\n",
    "    return typ"
   ]
  },
  {
   "cell_type": "code",
   "execution_count": 9,
   "metadata": {
    "collapsed": false
   },
   "outputs": [],
   "source": [
    "def df_to_q_table_schema(df, name, string_columns=set()):\n",
    "    builder = qutils.QCreateTableStatementBuilder(overwrite=True)\n",
    "    builder.set_table(name)\n",
    "    for column in df.columns:\n",
    "        typ = infer_q_type(df, column, string_columns)\n",
    "        builder.append_column(column, typ, key=False)\n",
    "    return builder.to_string()"
   ]
  },
  {
   "cell_type": "code",
   "execution_count": 10,
   "metadata": {
    "collapsed": true
   },
   "outputs": [],
   "source": [
    "q_code = []"
   ]
  },
  {
   "cell_type": "code",
   "execution_count": 11,
   "metadata": {
    "collapsed": false
   },
   "outputs": [],
   "source": [
    "q_code.append(df_to_q_table_schema(df, 'sample'))"
   ]
  },
  {
   "cell_type": "code",
   "execution_count": 12,
   "metadata": {
    "collapsed": true
   },
   "outputs": [],
   "source": [
    "def df_to_upsert_statements(df, name, string_columns=set(), q_types=None):\n",
    "    statements = []\n",
    "    if q_types is None:\n",
    "        q_types = {}\n",
    "        for column in df.columns:\n",
    "            q_types[column] = infer_q_type(df, column, string_columns)\n",
    "    for index, row in df.iterrows():\n",
    "        builder = qutils.QUpsertStatementBuilder()\n",
    "        builder.set_table(name)\n",
    "        for column in df.columns:\n",
    "            builder.append(qutils.make_q_value(row[column], q_types[column]))\n",
    "        statements.append(builder.to_string())\n",
    "    return statements"
   ]
  },
  {
   "cell_type": "code",
   "execution_count": 13,
   "metadata": {
    "collapsed": false
   },
   "outputs": [],
   "source": [
    "q_code.extend(df_to_upsert_statements(df, 'sample'))"
   ]
  },
  {
   "cell_type": "code",
   "execution_count": 14,
   "metadata": {
    "collapsed": false
   },
   "outputs": [],
   "source": [
    "q = qconnection.QConnection(host='localhost', port=2507, pandas=True)\n",
    "q.open()"
   ]
  },
  {
   "cell_type": "code",
   "execution_count": 15,
   "metadata": {
    "collapsed": false
   },
   "outputs": [],
   "source": [
    "for q_line in q_code:\n",
    "    q(q_line)"
   ]
  },
  {
   "cell_type": "code",
   "execution_count": 16,
   "metadata": {
    "collapsed": false
   },
   "outputs": [
    {
     "data": {
      "text/html": [
       "<div>\n",
       "<style>\n",
       "    .dataframe thead tr:only-child th {\n",
       "        text-align: right;\n",
       "    }\n",
       "\n",
       "    .dataframe thead th {\n",
       "        text-align: left;\n",
       "    }\n",
       "\n",
       "    .dataframe tbody tr th {\n",
       "        vertical-align: top;\n",
       "    }\n",
       "</style>\n",
       "<table border=\"1\" class=\"dataframe\">\n",
       "  <thead>\n",
       "    <tr style=\"text-align: right;\">\n",
       "      <th></th>\n",
       "      <th>date</th>\n",
       "      <th>datetime</th>\n",
       "      <th>price</th>\n",
       "      <th>sym</th>\n",
       "      <th>tally</th>\n",
       "      <th>time</th>\n",
       "    </tr>\n",
       "  </thead>\n",
       "  <tbody>\n",
       "    <tr>\n",
       "      <th>0</th>\n",
       "      <td>2019-05-17</td>\n",
       "      <td>2019-05-17 21:43:54.357</td>\n",
       "      <td>3.57</td>\n",
       "      <td>b'foo'</td>\n",
       "      <td>3</td>\n",
       "      <td>21:43:54.357000</td>\n",
       "    </tr>\n",
       "    <tr>\n",
       "      <th>1</th>\n",
       "      <td>2019-05-17</td>\n",
       "      <td>2019-05-17 21:43:54.357</td>\n",
       "      <td>10.87</td>\n",
       "      <td>b''</td>\n",
       "      <td>7</td>\n",
       "      <td>21:43:54.357000</td>\n",
       "    </tr>\n",
       "    <tr>\n",
       "      <th>2</th>\n",
       "      <td>2019-05-17</td>\n",
       "      <td>2019-05-17 21:43:54.357</td>\n",
       "      <td>10.28</td>\n",
       "      <td>b'baz'</td>\n",
       "      <td>5</td>\n",
       "      <td>21:43:54.357000</td>\n",
       "    </tr>\n",
       "    <tr>\n",
       "      <th>3</th>\n",
       "      <td>2019-05-17</td>\n",
       "      <td>2019-05-17 21:43:54.357</td>\n",
       "      <td>3.22</td>\n",
       "      <td>b'qux'</td>\n",
       "      <td>3</td>\n",
       "      <td>21:43:54.357000</td>\n",
       "    </tr>\n",
       "    <tr>\n",
       "      <th>4</th>\n",
       "      <td>2019-05-17</td>\n",
       "      <td>2019-05-17 21:43:54.357</td>\n",
       "      <td>18.15</td>\n",
       "      <td>b'quux'</td>\n",
       "      <td>8</td>\n",
       "      <td>21:43:54.357000</td>\n",
       "    </tr>\n",
       "    <tr>\n",
       "      <th>5</th>\n",
       "      <td>2019-05-17</td>\n",
       "      <td>2019-05-17 21:43:54.357</td>\n",
       "      <td>29.29</td>\n",
       "      <td>b'quuz'</td>\n",
       "      <td>10</td>\n",
       "      <td>21:43:54.357000</td>\n",
       "    </tr>\n",
       "    <tr>\n",
       "      <th>6</th>\n",
       "      <td>2019-05-17</td>\n",
       "      <td>2019-05-17 21:43:54.357</td>\n",
       "      <td>10.09</td>\n",
       "      <td>b'corge'</td>\n",
       "      <td>12</td>\n",
       "      <td>21:43:54.357000</td>\n",
       "    </tr>\n",
       "  </tbody>\n",
       "</table>\n",
       "</div>"
      ],
      "text/plain": [
       "        date                datetime  price       sym  tally            time\n",
       "0 2019-05-17 2019-05-17 21:43:54.357   3.57    b'foo'      3 21:43:54.357000\n",
       "1 2019-05-17 2019-05-17 21:43:54.357  10.87       b''      7 21:43:54.357000\n",
       "2 2019-05-17 2019-05-17 21:43:54.357  10.28    b'baz'      5 21:43:54.357000\n",
       "3 2019-05-17 2019-05-17 21:43:54.357   3.22    b'qux'      3 21:43:54.357000\n",
       "4 2019-05-17 2019-05-17 21:43:54.357  18.15   b'quux'      8 21:43:54.357000\n",
       "5 2019-05-17 2019-05-17 21:43:54.357  29.29   b'quuz'     10 21:43:54.357000\n",
       "6 2019-05-17 2019-05-17 21:43:54.357  10.09  b'corge'     12 21:43:54.357000"
      ]
     },
     "execution_count": 16,
     "metadata": {},
     "output_type": "execute_result"
    }
   ],
   "source": [
    "q('select from sample')"
   ]
  },
  {
   "cell_type": "code",
   "execution_count": 17,
   "metadata": {
    "collapsed": false
   },
   "outputs": [],
   "source": [
    "def df_to_batch_append_statements(df, name, string_columns=set(), q_types=None, rows_per_batch=100):\n",
    "    builder = qutils.QBatchAppendStatementBuilder(rows_per_batch=rows_per_batch)\n",
    "    builder.set_table(name)\n",
    "    if q_types is None:\n",
    "        q_types = {}\n",
    "        for column in df.columns:\n",
    "            q_types[column] = infer_q_type(df, column, string_columns)\n",
    "    for index, row in df.iterrows():\n",
    "        builder.start_new_row()\n",
    "        for column in df.columns:\n",
    "            builder.append(qutils.make_q_value(row[column], q_types[column]))\n",
    "    return builder.to_list()"
   ]
  },
  {
   "cell_type": "code",
   "execution_count": 18,
   "metadata": {
    "collapsed": false
   },
   "outputs": [],
   "source": [
    "batches = df_to_batch_append_statements(df, 'sample', rows_per_batch=3)"
   ]
  },
  {
   "cell_type": "code",
   "execution_count": 19,
   "metadata": {
    "collapsed": false
   },
   "outputs": [
    {
     "data": {
      "text/plain": [
       "3"
      ]
     },
     "execution_count": 19,
     "metadata": {},
     "output_type": "execute_result"
    }
   ],
   "source": [
    "len(batches)"
   ]
  },
  {
   "cell_type": "code",
   "execution_count": 20,
   "metadata": {
    "collapsed": false
   },
   "outputs": [
    {
     "data": {
      "text/plain": [
       "'.[(`$\"sample\");();,;((2019.05.17;2019.05.17T21:43:54.357;3.57f;(`$\"foo\");3j;21:43:54.357);(2019.05.17;2019.05.17T21:43:54.357;10.87f;`;7j;21:43:54.357);(2019.05.17;2019.05.17T21:43:54.357;10.28f;(`$\"baz\");5j;21:43:54.357))]'"
      ]
     },
     "execution_count": 20,
     "metadata": {},
     "output_type": "execute_result"
    }
   ],
   "source": [
    "batches[0]"
   ]
  },
  {
   "cell_type": "code",
   "execution_count": 21,
   "metadata": {
    "collapsed": false
   },
   "outputs": [
    {
     "data": {
      "text/plain": [
       "'.[(`$\"sample\");();,;((2019.05.17;2019.05.17T21:43:54.357;3.22f;(`$\"qux\");3j;21:43:54.357);(2019.05.17;2019.05.17T21:43:54.357;18.15f;(`$\"quux\");8j;21:43:54.357);(2019.05.17;2019.05.17T21:43:54.357;29.29f;(`$\"quuz\");10j;21:43:54.357))]'"
      ]
     },
     "execution_count": 21,
     "metadata": {},
     "output_type": "execute_result"
    }
   ],
   "source": [
    "batches[1]"
   ]
  },
  {
   "cell_type": "code",
   "execution_count": 22,
   "metadata": {
    "collapsed": false
   },
   "outputs": [
    {
     "data": {
      "text/plain": [
       "'.[(`$\"sample\");();,;((2019.05.17;2019.05.17T21:43:54.357;10.09f;(`$\"corge\");12j;21:43:54.357))]'"
      ]
     },
     "execution_count": 22,
     "metadata": {},
     "output_type": "execute_result"
    }
   ],
   "source": [
    "batches[2]"
   ]
  },
  {
   "cell_type": "code",
   "execution_count": 23,
   "metadata": {
    "collapsed": true
   },
   "outputs": [],
   "source": [
    "q(df_to_q_table_schema(df, 'sample'))"
   ]
  },
  {
   "cell_type": "code",
   "execution_count": 24,
   "metadata": {
    "collapsed": false
   },
   "outputs": [],
   "source": [
    "for batch in batches:\n",
    "    q(batch)"
   ]
  }
 ],
 "metadata": {
  "kernelspec": {
   "display_name": "Python 3",
   "language": "python",
   "name": "python3"
  },
  "language_info": {
   "codemirror_mode": {
    "name": "ipython",
    "version": 3
   },
   "file_extension": ".py",
   "mimetype": "text/x-python",
   "name": "python",
   "nbconvert_exporter": "python",
   "pygments_lexer": "ipython3",
   "version": "3.6.0"
  }
 },
 "nbformat": 4,
 "nbformat_minor": 2
}
