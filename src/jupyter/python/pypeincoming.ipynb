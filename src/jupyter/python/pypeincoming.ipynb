{
 "cells": [
  {
   "cell_type": "code",
   "execution_count": 1,
   "metadata": {
    "collapsed": true
   },
   "outputs": [],
   "source": [
    "import os, sys\n",
    "sys.path.append(os.path.abspath('../../main/python'))"
   ]
  },
  {
   "cell_type": "code",
   "execution_count": 2,
   "metadata": {
    "collapsed": true
   },
   "outputs": [],
   "source": [
    "import thalesians.tsa.pypes as pypes"
   ]
  },
  {
   "cell_type": "code",
   "execution_count": 3,
   "metadata": {},
   "outputs": [
    {
     "data": {
      "text/plain": [
       "Pype(name=\"EXAMPLE\", direction=Direction.INCOMING, host=\"localhost\", port=22184)"
      ]
     },
     "execution_count": 3,
     "metadata": {},
     "output_type": "execute_result"
    }
   ],
   "source": [
    "pype = pypes.Pype(pypes.Direction.INCOMING, name='EXAMPLE'); pype"
   ]
  },
  {
   "cell_type": "code",
   "execution_count": 4,
   "metadata": {},
   "outputs": [
    {
     "name": "stdout",
     "output_type": "stream",
     "text": [
      "Hello World!\n",
      "Hello World!\n",
      "Hello World!\n",
      "67.02894318115854\n",
      "3.8745091860196923\n",
      "83.3928721297358\n",
      "29.89693311265471\n",
      "53.17692431340855\n",
      "[ 26.33977822  80.34489511]\n",
      "[ 21.74383534  36.22061282]\n",
      "[ 35.95940816  45.01762946]\n",
      "[ 51.91314403  78.5314802 ]\n",
      "[ 23.40380577  18.70990276]\n",
      "[ 36.00875551  44.18323018]\n",
      "[ 50.30248831  28.89598593]\n",
      "Hello World!\n",
      "Hello World!\n",
      "Hello World!\n",
      "64.97276237434126\n",
      "48.31262335521609\n",
      "95.42107381658671\n",
      "33.76712179454766\n",
      "16.195546475888722\n",
      "[ 13.10745616   9.1304235 ]\n"
     ]
    }
   ],
   "source": [
    "for x in pype: print(x)"
   ]
  },
  {
   "cell_type": "code",
   "execution_count": 5,
   "metadata": {
    "collapsed": true
   },
   "outputs": [],
   "source": [
    "pype.close()"
   ]
  }
 ],
 "metadata": {
  "kernelspec": {
   "display_name": "Python 3",
   "language": "python",
   "name": "python3"
  },
  "language_info": {
   "codemirror_mode": {
    "name": "ipython",
    "version": 3
   },
   "file_extension": ".py",
   "mimetype": "text/x-python",
   "name": "python",
   "nbconvert_exporter": "python",
   "pygments_lexer": "ipython3",
   "version": "3.6.1"
  }
 },
 "nbformat": 4,
 "nbformat_minor": 2
}
