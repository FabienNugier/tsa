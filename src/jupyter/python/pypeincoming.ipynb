{
 "cells": [
  {
   "cell_type": "code",
   "execution_count": 1,
   "metadata": {
    "collapsed": true
   },
   "outputs": [],
   "source": [
    "import os, sys\n",
    "sys.path.append(os.path.abspath('../../main/python'))"
   ]
  },
  {
   "cell_type": "code",
   "execution_count": 2,
   "metadata": {
    "collapsed": true
   },
   "outputs": [],
   "source": [
    "import random\n",
    "import thalesians.tsa.pypes as pypes"
   ]
  },
  {
   "cell_type": "code",
   "execution_count": 3,
   "metadata": {},
   "outputs": [
    {
     "data": {
      "text/plain": [
       "Pype(name=\"EXAMPLE\", direction=Direction.INCOMING, host=\"localhost\", port=22184)"
      ]
     },
     "execution_count": 3,
     "metadata": {},
     "output_type": "execute_result"
    }
   ],
   "source": [
    "pype = pypes.Pype(pypes.Direction.INCOMING, name='EXAMPLE'); pype"
   ]
  },
  {
   "cell_type": "code",
   "execution_count": 4,
   "metadata": {},
   "outputs": [
    {
     "name": "stdout",
     "output_type": "stream",
     "text": [
      "Hello World!\n",
      "32.767490287761945\n",
      "90.54037749799706\n",
      "1.7728051925924748\n",
      "[ 57.79924329  36.60179525]\n",
      "[ 76.79123467  45.76127039]\n",
      "[ 75.22225652  44.87242335]\n",
      "[ 61.6078993   49.73754783]\n",
      "Hello World!\n",
      "Hello World!\n",
      "Hello World!\n",
      "67.47534319841375\n",
      "52.92719225631471\n",
      "35.71349059804898\n",
      "[ 70.6895556    5.87969248]\n",
      "[ 46.37214256   5.07461769]\n",
      "[ 62.54024581  55.12899981]\n",
      "[ 45.01464061   4.13907566]\n",
      "[ 26.68461843  57.58005759]\n",
      "[ 19.64637053  60.37451755]\n",
      "[ 46.42393483  90.7712644 ]\n"
     ]
    }
   ],
   "source": [
    "for x in pype: print(x)"
   ]
  },
  {
   "cell_type": "code",
   "execution_count": 5,
   "metadata": {
    "collapsed": true
   },
   "outputs": [],
   "source": [
    "pype.close()"
   ]
  }
 ],
 "metadata": {
  "kernelspec": {
   "display_name": "Python 3",
   "language": "python",
   "name": "python3"
  },
  "language_info": {
   "codemirror_mode": {
    "name": "ipython",
    "version": 3
   },
   "file_extension": ".py",
   "mimetype": "text/x-python",
   "name": "python",
   "nbconvert_exporter": "python",
   "pygments_lexer": "ipython3",
   "version": "3.6.1"
  }
 },
 "nbformat": 4,
 "nbformat_minor": 2
}
