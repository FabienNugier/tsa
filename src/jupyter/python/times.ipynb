{
 "cells": [
  {
   "cell_type": "markdown",
   "metadata": {
    "collapsed": true
   },
   "source": [
    "# Times\n",
    "\n",
    "## Introduction\n",
    "\n",
    "The concept of *time* is fundamental to any kind of time series analysis and simulation. This is why we shall dedicate quite a lot of thought to its representation in thalesians.tsa.\n",
    "\n",
    "## `xtimes`\n",
    "\n",
    "`xtimes` is a generator (and, by implication, an iterator) designed to be a source of times to thalesians.tsa routines."
   ]
  }
 ],
 "metadata": {
  "kernelspec": {
   "display_name": "Python 3",
   "language": "python",
   "name": "python3"
  },
  "language_info": {
   "codemirror_mode": {
    "name": "ipython",
    "version": 3
   },
   "file_extension": ".py",
   "mimetype": "text/x-python",
   "name": "python",
   "nbconvert_exporter": "python",
   "pygments_lexer": "ipython3",
   "version": "3.6.1"
  }
 },
 "nbformat": 4,
 "nbformat_minor": 2
}
