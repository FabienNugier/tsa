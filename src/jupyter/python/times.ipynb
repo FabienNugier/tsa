{
 "cells": [
  {
   "cell_type": "markdown",
   "metadata": {
    "collapsed": true
   },
   "source": [
    "# Times\n",
    "\n",
    "## Introduction\n",
    "\n",
    "The concept of **time** is fundamental to any kind of time series analysis and simulation. This is why we have dedicated a lot of thought to its representation in thalesians.tsa.\n",
    "\n",
    "Before we present some of these ideas, we need to make sure that thalesians.tsa appears on the Python path and import the relevant modules:"
   ]
  },
  {
   "cell_type": "code",
   "execution_count": 1,
   "metadata": {
    "collapsed": true
   },
   "outputs": [],
   "source": [
    "import os, sys\n",
    "sys.path.append(os.path.abspath('../../main/python'))\n",
    "\n",
    "from thalesians.tsa.simulation import xtimes, times"
   ]
  },
  {
   "cell_type": "markdown",
   "metadata": {
    "collapsed": true
   },
   "source": [
    "## `xtimes`\n",
    "\n",
    "`xtimes` is a generator (and, by implication, an iterator; you can learn more about generators and iterators [here](https://wiki.python.org/moin/Generators)) designed to be a source of times to thalesians.tsa routines."
   ]
  },
  {
   "cell_type": "code",
   "execution_count": 2,
   "metadata": {},
   "outputs": [
    {
     "name": "stdout",
     "output_type": "stream",
     "text": [
      "0\n",
      "1\n",
      "2\n",
      "3\n",
      "4\n"
     ]
    }
   ],
   "source": [
    "for t in xtimes(0, 5): print(t)"
   ]
  },
  {
   "cell_type": "markdown",
   "metadata": {},
   "source": [
    "Since `xtimes` is a generator, the times are computed lazily:"
   ]
  },
  {
   "cell_type": "code",
   "execution_count": 3,
   "metadata": {},
   "outputs": [
    {
     "data": {
      "text/plain": [
       "<generator object xtimes at 0x00000210CB9091A8>"
      ]
     },
     "execution_count": 3,
     "metadata": {},
     "output_type": "execute_result"
    }
   ],
   "source": [
    "xtimes(0, 5)"
   ]
  },
  {
   "cell_type": "markdown",
   "metadata": {},
   "source": [
    "To get hold of them all at once, you need to use something like"
   ]
  },
  {
   "cell_type": "code",
   "execution_count": 4,
   "metadata": {},
   "outputs": [
    {
     "data": {
      "text/plain": [
       "[0, 1, 2, 3, 4]"
      ]
     },
     "execution_count": 4,
     "metadata": {},
     "output_type": "execute_result"
    }
   ],
   "source": [
    "list(xtimes(0, 5))"
   ]
  },
  {
   "cell_type": "markdown",
   "metadata": {},
   "source": [
    "or the shortcut"
   ]
  },
  {
   "cell_type": "code",
   "execution_count": 5,
   "metadata": {},
   "outputs": [
    {
     "data": {
      "text/plain": [
       "[0, 1, 2, 3, 4]"
      ]
     },
     "execution_count": 5,
     "metadata": {},
     "output_type": "execute_result"
    }
   ],
   "source": [
    "times(0, 5)"
   ]
  },
  {
   "cell_type": "markdown",
   "metadata": {},
   "source": [
    "which amounts to the same thing. So far, we haven't seen anything that would justify `xtimes`'s existence: after all, we could have achieved the same result with Python's native `range`:"
   ]
  },
  {
   "cell_type": "code",
   "execution_count": 6,
   "metadata": {},
   "outputs": [
    {
     "data": {
      "text/plain": [
       "[0, 1, 2, 3, 4]"
      ]
     },
     "execution_count": 6,
     "metadata": {},
     "output_type": "execute_result"
    }
   ],
   "source": [
    "list(range(0, 5))"
   ]
  },
  {
   "cell_type": "markdown",
   "metadata": {},
   "source": [
    "In order to understand why we may need `xtimes` and not `range` we need to delve deeper into the semantics of `xtimes`.\n",
    "\n",
    "`xtimes` takes three arguments: `start`, `stop`, and `step`. `stop` is, in fact, optional (may be `None`), so `xtimes` enables us to set up a (theoretically) infinite number of timesteps:"
   ]
  },
  {
   "cell_type": "code",
   "execution_count": 7,
   "metadata": {},
   "outputs": [
    {
     "data": {
      "text/plain": [
       "[1, 2, 3, 4, 5]"
      ]
     },
     "execution_count": 7,
     "metadata": {},
     "output_type": "execute_result"
    }
   ],
   "source": [
    "ts = []\n",
    "for t in xtimes(start=1):\n",
    "    ts.append(t)\n",
    "    if len(ts) == 5: break\n",
    "ts"
   ]
  },
  {
   "cell_type": "markdown",
   "metadata": {},
   "source": [
    "Perhaps more importantly, `start` and `stop` don't have to be `int`s. They may be `float`s, `date`s, `time`s, `datetime`s. Respectively, `stop` may be an `int`, `float`, or a `timedelta`, for example:"
   ]
  },
  {
   "cell_type": "code",
   "execution_count": 8,
   "metadata": {},
   "outputs": [
    {
     "data": {
      "text/plain": [
       "[-3.0, -0.5, 2.0, 4.5]"
      ]
     },
     "execution_count": 8,
     "metadata": {},
     "output_type": "execute_result"
    }
   ],
   "source": [
    "times(start=-3., stop=5., step=2.5)"
   ]
  },
  {
   "cell_type": "code",
   "execution_count": 9,
   "metadata": {},
   "outputs": [
    {
     "data": {
      "text/plain": [
       "[datetime.date(2017, 5, 5),\n",
       " datetime.date(2017, 5, 6),\n",
       " datetime.date(2017, 5, 7),\n",
       " datetime.date(2017, 5, 8),\n",
       " datetime.date(2017, 5, 9)]"
      ]
     },
     "execution_count": 9,
     "metadata": {},
     "output_type": "execute_result"
    }
   ],
   "source": [
    "import datetime as dt\n",
    "times(dt.date(2017, 5, 5), dt.date(2017, 5, 10))"
   ]
  },
  {
   "cell_type": "markdown",
   "metadata": {},
   "source": [
    "(By default, the `step` is `1`, `1.`, or `timedelta(days=1)`, depending on the types of `start` and `stop`.)"
   ]
  },
  {
   "cell_type": "code",
   "execution_count": 10,
   "metadata": {},
   "outputs": [
    {
     "data": {
      "text/plain": [
       "[datetime.time(8, 0),\n",
       " datetime.time(8, 30),\n",
       " datetime.time(9, 0),\n",
       " datetime.time(9, 30),\n",
       " datetime.time(10, 0),\n",
       " datetime.time(10, 30),\n",
       " datetime.time(11, 0),\n",
       " datetime.time(11, 30)]"
      ]
     },
     "execution_count": 10,
     "metadata": {},
     "output_type": "execute_result"
    }
   ],
   "source": [
    "times(dt.time(8), dt.time(12), dt.timedelta(minutes=30))"
   ]
  },
  {
   "cell_type": "code",
   "execution_count": 11,
   "metadata": {},
   "outputs": [
    {
     "data": {
      "text/plain": [
       "[datetime.datetime(2017, 5, 10, 0, 0),\n",
       " datetime.datetime(2017, 5, 9, 0, 0),\n",
       " datetime.datetime(2017, 5, 8, 0, 0),\n",
       " datetime.datetime(2017, 5, 7, 0, 0),\n",
       " datetime.datetime(2017, 5, 6, 0, 0)]"
      ]
     },
     "execution_count": 11,
     "metadata": {},
     "output_type": "execute_result"
    }
   ],
   "source": [
    "times(dt.datetime(2017, 5, 10), dt.datetime(2017, 5, 5), dt.timedelta(days=-1))"
   ]
  },
  {
   "cell_type": "markdown",
   "metadata": {},
   "source": [
    "The flexibility of `xtimes`/`times` enables one to represent time using a data type that is suitable for the particular simulation and/or modelling task.\n",
    "\n",
    "## Random times\n",
    "The power of `xtimes` extends beyond its flexibility with times. Often one needs to deal with times that aren't regularly spaced, such as those arising from a homogeneous Poisson point process. Since the `step` parameter of `xtimes` is allowed to be a callable, this can be implemented as follows:"
   ]
  },
  {
   "cell_type": "code",
   "execution_count": 12,
   "metadata": {},
   "outputs": [
    {
     "data": {
      "text/plain": [
       "[0.0, 1.1731702249421478, 8.69847380223595]"
      ]
     },
     "execution_count": 12,
     "metadata": {},
     "output_type": "execute_result"
    }
   ],
   "source": [
    "import thalesians.tsa.random as rnd\n",
    "times(0., 10., step=lambda x: rnd.exponential(2.5))"
   ]
  },
  {
   "cell_type": "markdown",
   "metadata": {},
   "source": [
    "(Recall that the lengths of times between the occurrences of a Poisson process are exponentially distributed.)\n",
    "\n",
    "The type flexibility of the function wrappers found in `thalesians.tsa.random` enable one to specify the parameter of the `exponential` distribution as a `timedelta`:"
   ]
  },
  {
   "cell_type": "code",
   "execution_count": 13,
   "metadata": {},
   "outputs": [
    {
     "data": {
      "text/plain": [
       "[datetime.datetime(2017, 5, 5, 8, 0),\n",
       " datetime.datetime(2017, 5, 5, 8, 5, 5, 324767),\n",
       " datetime.datetime(2017, 5, 5, 8, 10, 10, 598092),\n",
       " datetime.datetime(2017, 5, 5, 8, 11, 58, 307875),\n",
       " datetime.datetime(2017, 5, 5, 9, 12, 18, 523431),\n",
       " datetime.datetime(2017, 5, 5, 9, 39, 52, 871308),\n",
       " datetime.datetime(2017, 5, 5, 10, 16, 49, 121419),\n",
       " datetime.datetime(2017, 5, 5, 10, 17, 26, 560173)]"
      ]
     },
     "execution_count": 13,
     "metadata": {},
     "output_type": "execute_result"
    }
   ],
   "source": [
    "times(dt.datetime(2017, 5, 5, 8),\n",
    "      dt.datetime(2017, 5, 5, 12),\n",
    "      lambda x: rnd.exponential(dt.timedelta(minutes=30)))"
   ]
  }
 ],
 "metadata": {
  "kernelspec": {
   "display_name": "Python 3",
   "language": "python",
   "name": "python3"
  },
  "language_info": {
   "codemirror_mode": {
    "name": "ipython",
    "version": 3
   },
   "file_extension": ".py",
   "mimetype": "text/x-python",
   "name": "python",
   "nbconvert_exporter": "python",
   "pygments_lexer": "ipython3",
   "version": "3.6.1"
  }
 },
 "nbformat": 4,
 "nbformat_minor": 2
}
