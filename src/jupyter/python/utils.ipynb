{
 "cells": [
  {
   "cell_type": "code",
   "execution_count": 5,
   "metadata": {
    "collapsed": true
   },
   "outputs": [],
   "source": [
    "import datetime as dt\n",
    "\n",
    "import numpy as np\n",
    "\n",
    "import os, sys\n",
    "sys.path.append(os.path.abspath('../../main/python'))\n",
    "import thalesians.tsa.utils as utils"
   ]
  },
  {
   "cell_type": "markdown",
   "metadata": {},
   "source": [
    "# `sign`"
   ]
  },
  {
   "cell_type": "code",
   "execution_count": 5,
   "metadata": {},
   "outputs": [
    {
     "data": {
      "text/plain": [
       "-1"
      ]
     },
     "execution_count": 5,
     "metadata": {},
     "output_type": "execute_result"
    }
   ],
   "source": [
    "utils.sign(-10)"
   ]
  },
  {
   "cell_type": "code",
   "execution_count": 8,
   "metadata": {},
   "outputs": [
    {
     "data": {
      "text/plain": [
       "0"
      ]
     },
     "execution_count": 8,
     "metadata": {},
     "output_type": "execute_result"
    }
   ],
   "source": [
    "utils.sign(0)"
   ]
  },
  {
   "cell_type": "code",
   "execution_count": 6,
   "metadata": {},
   "outputs": [
    {
     "data": {
      "text/plain": [
       "1"
      ]
     },
     "execution_count": 6,
     "metadata": {},
     "output_type": "execute_result"
    }
   ],
   "source": [
    "utils.sign(10)"
   ]
  },
  {
   "cell_type": "code",
   "execution_count": 7,
   "metadata": {},
   "outputs": [
    {
     "data": {
      "text/plain": [
       "-1.0"
      ]
     },
     "execution_count": 7,
     "metadata": {},
     "output_type": "execute_result"
    }
   ],
   "source": [
    "utils.sign(-10.)"
   ]
  },
  {
   "cell_type": "code",
   "execution_count": 9,
   "metadata": {},
   "outputs": [
    {
     "data": {
      "text/plain": [
       "0.0"
      ]
     },
     "execution_count": 9,
     "metadata": {},
     "output_type": "execute_result"
    }
   ],
   "source": [
    "utils.sign(0.)"
   ]
  },
  {
   "cell_type": "code",
   "execution_count": 10,
   "metadata": {},
   "outputs": [
    {
     "data": {
      "text/plain": [
       "1.0"
      ]
     },
     "execution_count": 10,
     "metadata": {},
     "output_type": "execute_result"
    }
   ],
   "source": [
    "utils.sign(10.)"
   ]
  },
  {
   "cell_type": "code",
   "execution_count": 13,
   "metadata": {},
   "outputs": [
    {
     "data": {
      "text/plain": [
       "-1.0"
      ]
     },
     "execution_count": 13,
     "metadata": {},
     "output_type": "execute_result"
    }
   ],
   "source": [
    "utils.sign(dt.date(2017, 11, 7) - dt.date(2017, 11, 8))"
   ]
  },
  {
   "cell_type": "code",
   "execution_count": 15,
   "metadata": {},
   "outputs": [
    {
     "data": {
      "text/plain": [
       "0.0"
      ]
     },
     "execution_count": 15,
     "metadata": {},
     "output_type": "execute_result"
    }
   ],
   "source": [
    "utils.sign(dt.date(2017, 11, 8) - dt.date(2017, 11, 8))"
   ]
  },
  {
   "cell_type": "code",
   "execution_count": 16,
   "metadata": {},
   "outputs": [
    {
     "data": {
      "text/plain": [
       "1.0"
      ]
     },
     "execution_count": 16,
     "metadata": {},
     "output_type": "execute_result"
    }
   ],
   "source": [
    "utils.sign(dt.date(2017, 11, 8) - dt.date(2017, 11, 7))"
   ]
  },
  {
   "cell_type": "code",
   "execution_count": 18,
   "metadata": {},
   "outputs": [
    {
     "data": {
      "text/plain": [
       "-1.0"
      ]
     },
     "execution_count": 18,
     "metadata": {},
     "output_type": "execute_result"
    }
   ],
   "source": [
    "utils.sign(dt.datetime(2017, 11, 8, 17, 27) - dt.datetime(2017, 11, 8, 17, 28))"
   ]
  },
  {
   "cell_type": "code",
   "execution_count": 19,
   "metadata": {},
   "outputs": [
    {
     "data": {
      "text/plain": [
       "0.0"
      ]
     },
     "execution_count": 19,
     "metadata": {},
     "output_type": "execute_result"
    }
   ],
   "source": [
    "utils.sign(dt.datetime(2017, 11, 8, 17, 28) - dt.datetime(2017, 11, 8, 17, 28))"
   ]
  },
  {
   "cell_type": "code",
   "execution_count": 20,
   "metadata": {},
   "outputs": [
    {
     "data": {
      "text/plain": [
       "1.0"
      ]
     },
     "execution_count": 20,
     "metadata": {},
     "output_type": "execute_result"
    }
   ],
   "source": [
    "utils.sign(dt.datetime(2017, 11, 8, 17, 28) - dt.datetime(2017, 11, 8, 17, 27))"
   ]
  },
  {
   "cell_type": "code",
   "execution_count": 21,
   "metadata": {},
   "outputs": [
    {
     "data": {
      "text/plain": [
       "array([-1.,  0.,  1.])"
      ]
     },
     "execution_count": 21,
     "metadata": {},
     "output_type": "execute_result"
    }
   ],
   "source": [
    "utils.sign([-10., 0., 10.])"
   ]
  },
  {
   "cell_type": "code",
   "execution_count": 24,
   "metadata": {},
   "outputs": [
    {
     "data": {
      "text/plain": [
       "array([-1.,  0.,  1.])"
      ]
     },
     "execution_count": 24,
     "metadata": {},
     "output_type": "execute_result"
    }
   ],
   "source": [
    "utils.sign(np.array([\n",
    "    utils.sign(dt.datetime(2017, 11, 8, 17, 27) - dt.datetime(2017, 11, 8, 17, 28)),\n",
    "    utils.sign(dt.datetime(2017, 11, 8, 17, 28) - dt.datetime(2017, 11, 8, 17, 28)),\n",
    "    utils.sign(dt.datetime(2017, 11, 8, 17, 28) - dt.datetime(2017, 11, 8, 17, 27))\n",
    "]))"
   ]
  },
  {
   "cell_type": "markdown",
   "metadata": {},
   "source": [
    "# `xbatch` and `batch`"
   ]
  },
  {
   "cell_type": "code",
   "execution_count": 29,
   "metadata": {},
   "outputs": [
    {
     "name": "stdout",
     "output_type": "stream",
     "text": [
      "range(0, 2)\n",
      "range(2, 4)\n",
      "range(4, 6)\n",
      "range(6, 8)\n",
      "range(8, 10)\n"
     ]
    }
   ],
   "source": [
    "for x in utils.xbatch(2, range(10)):\n",
    "    print(x)"
   ]
  },
  {
   "cell_type": "code",
   "execution_count": 32,
   "metadata": {},
   "outputs": [
    {
     "name": "stdout",
     "output_type": "stream",
     "text": [
      "['Jan', 'Feb', 'Mar']\n",
      "['Apr', 'May', 'Jun']\n",
      "['Jul', 'Aug', 'Sep']\n",
      "['Oct', 'Nov', 'Dec']\n"
     ]
    }
   ],
   "source": [
    "for x in utils.xbatch(3, ['Jan', 'Feb', 'Mar', 'Apr', 'May', 'Jun',\n",
    "                          'Jul', 'Aug', 'Sep', 'Oct', 'Nov', 'Dec']):\n",
    "    print(x)"
   ]
  },
  {
   "cell_type": "code",
   "execution_count": 33,
   "metadata": {},
   "outputs": [
    {
     "name": "stdout",
     "output_type": "stream",
     "text": [
      "('Jan', 'Feb', 'Mar')\n",
      "('Apr', 'May', 'Jun')\n",
      "('Jul', 'Aug', 'Sep')\n",
      "('Oct', 'Nov', 'Dec')\n"
     ]
    }
   ],
   "source": [
    "for x in utils.xbatch(3, ('Jan', 'Feb', 'Mar', 'Apr', 'May', 'Jun',\n",
    "                          'Jul', 'Aug', 'Sep', 'Oct', 'Nov', 'Dec')):\n",
    "    print(x)"
   ]
  },
  {
   "cell_type": "code",
   "execution_count": 34,
   "metadata": {},
   "outputs": [
    {
     "name": "stdout",
     "output_type": "stream",
     "text": [
      "[0 1]\n",
      "[2 3]\n",
      "[4 5]\n",
      "[6 7]\n",
      "[8 9]\n"
     ]
    }
   ],
   "source": [
    "for x in utils.xbatch(2, np.array(range(10))):\n",
    "    print(x)"
   ]
  },
  {
   "cell_type": "code",
   "execution_count": 35,
   "metadata": {},
   "outputs": [
    {
     "data": {
      "text/plain": [
       "<generator object xbatch at 0x00000217D26B4E60>"
      ]
     },
     "execution_count": 35,
     "metadata": {},
     "output_type": "execute_result"
    }
   ],
   "source": [
    "utils.xbatch(2, range(10))"
   ]
  },
  {
   "cell_type": "code",
   "execution_count": 36,
   "metadata": {},
   "outputs": [
    {
     "data": {
      "text/plain": [
       "[range(0, 2), range(2, 4), range(4, 6), range(6, 8), range(8, 10)]"
      ]
     },
     "execution_count": 36,
     "metadata": {},
     "output_type": "execute_result"
    }
   ],
   "source": [
    "utils.batch(2, range(10))"
   ]
  },
  {
   "cell_type": "code",
   "execution_count": 131,
   "metadata": {},
   "outputs": [
    {
     "data": {
      "text/plain": [
       "[[429, 5, 2], [14, 42, 132], [1, 1]]"
      ]
     },
     "execution_count": 131,
     "metadata": {},
     "output_type": "execute_result"
    }
   ],
   "source": [
    "utils.batch(3, [429, 5, 2, 14, 42, 132, 1, 1])"
   ]
  },
  {
   "cell_type": "code",
   "execution_count": 132,
   "metadata": {},
   "outputs": [
    {
     "data": {
      "text/plain": [
       "[range(0, 4), range(4, 8), range(8, 10)]"
      ]
     },
     "execution_count": 132,
     "metadata": {},
     "output_type": "execute_result"
    }
   ],
   "source": [
    "utils.batch(4, range(10))"
   ]
  },
  {
   "cell_type": "markdown",
   "metadata": {},
   "source": [
    "# `peek`"
   ]
  },
  {
   "cell_type": "code",
   "execution_count": 47,
   "metadata": {},
   "outputs": [
    {
     "name": "stdout",
     "output_type": "stream",
     "text": [
      "First three: [range(0, 2), range(2, 4), range(4, 6)]\n",
      "Iterating through new_it:\n",
      "range(0, 2)\n",
      "range(2, 4)\n",
      "range(4, 6)\n",
      "range(6, 8)\n",
      "range(8, 10)\n",
      "Iterating through it:\n"
     ]
    }
   ],
   "source": [
    "it = utils.xbatch(2, range(10))\n",
    "first_three, new_it = utils.peek(it, 3)\n",
    "print('First three:', first_three)\n",
    "print('Iterating through new_it:')\n",
    "for x in new_it:\n",
    "    print(x)\n",
    "print('Iterating through it:')\n",
    "for x in it:\n",
    "    print(x)"
   ]
  },
  {
   "cell_type": "code",
   "execution_count": 48,
   "metadata": {},
   "outputs": [
    {
     "name": "stdout",
     "output_type": "stream",
     "text": [
      "First three: [range(0, 2), range(2, 4), range(4, 6)]\n",
      "Iterating through it:\n",
      "range(6, 8)\n",
      "range(8, 10)\n"
     ]
    }
   ],
   "source": [
    "it = utils.xbatch(2, range(10))\n",
    "first_three, new_it = utils.peek(it, 3)\n",
    "print('First three:', first_three)\n",
    "print('Iterating through it:')\n",
    "for x in it:\n",
    "    print(x)"
   ]
  },
  {
   "cell_type": "markdown",
   "metadata": {},
   "source": [
    "# `bracket`"
   ]
  },
  {
   "cell_type": "code",
   "execution_count": 117,
   "metadata": {
    "collapsed": true
   },
   "outputs": [],
   "source": [
    "data = [8, 11, 12, 13, 14, 27, 29, 37, 49, 50, 51, 79, 85]"
   ]
  },
  {
   "cell_type": "markdown",
   "metadata": {},
   "source": [
    "<pre>\n",
    "          1    1    2    2    3    3    4    4    5    5    6    6    7    7    8    8    9\n",
    "0----5----0----5----0----5----0----5----0----5----0----5----0----5----0----5----0----5----0\n",
    "   [0   [1   [2   [3   [4   [5   [6   [7   [8   [9   [10  [11  [12  [13  [14  [15  [16  [17\n",
    "   ]0   ]1   ]2   ]3   ]4   ]5   ]6   ]7   ]8   ]9   ]10  ]11  ]12  ]13  ]14  ]15  ]16  ]17\n",
    "        ^  ^^^^            ^ ^       ^           ^^^                           ^     ^\n",
    "        |  ||||            | |       |           |||                           |     |\n",
    "</pre>"
   ]
  },
  {
   "cell_type": "code",
   "execution_count": 118,
   "metadata": {},
   "outputs": [
    {
     "data": {
      "text/plain": [
       "([{[8, 13), 1},\n",
       "  {[13, 18), 2},\n",
       "  {[23, 28), 4},\n",
       "  {[28, 33), 5},\n",
       "  {[33, 38), 6},\n",
       "  {[48, 53), 9},\n",
       "  {[78, 83), 15},\n",
       "  {[83, 88), 16}],\n",
       " [0, 0, 0, 1, 1, 2, 3, 4, 5, 5, 5, 6, 7])"
      ]
     },
     "execution_count": 118,
     "metadata": {},
     "output_type": "execute_result"
    }
   ],
   "source": [
    "utils.bracket(data, 3, 5)"
   ]
  },
  {
   "cell_type": "code",
   "execution_count": 119,
   "metadata": {},
   "outputs": [
    {
     "data": {
      "text/plain": [
       "([{(3, 8], 0},\n",
       "  {(8, 13], 1},\n",
       "  {(13, 18], 2},\n",
       "  {(23, 28], 4},\n",
       "  {(28, 33], 5},\n",
       "  {(33, 38], 6},\n",
       "  {(48, 53], 9},\n",
       "  {(78, 83], 15},\n",
       "  {(83, 88], 16}],\n",
       " [0, 1, 1, 1, 2, 3, 4, 5, 6, 6, 6, 7, 8])"
      ]
     },
     "execution_count": 119,
     "metadata": {},
     "output_type": "execute_result"
    }
   ],
   "source": [
    "utils.bracket(data, 3, 5, intervals_right_closed=True)"
   ]
  },
  {
   "cell_type": "code",
   "execution_count": 120,
   "metadata": {},
   "outputs": [
    {
     "data": {
      "text/plain": [
       "([{[8, 18), 1}, {[23, 38), 4}, {[48, 53), 9}, {[78, 88), 15}],\n",
       " [0, 0, 0, 0, 0, 1, 1, 1, 2, 2, 2, 3, 3])"
      ]
     },
     "execution_count": 120,
     "metadata": {},
     "output_type": "execute_result"
    }
   ],
   "source": [
    "utils.bracket(data, 3, 5, coalesce=True)"
   ]
  },
  {
   "cell_type": "code",
   "execution_count": 121,
   "metadata": {},
   "outputs": [
    {
     "data": {
      "text/plain": [
       "([{(3, 18], 0}, {(23, 38], 4}, {(48, 53], 9}, {(78, 88], 15}],\n",
       " [0, 0, 0, 0, 0, 1, 1, 1, 2, 2, 2, 3, 3])"
      ]
     },
     "execution_count": 121,
     "metadata": {},
     "output_type": "execute_result"
    }
   ],
   "source": [
    "utils.bracket(data, 3, 5, intervals_right_closed=True, coalesce=True)"
   ]
  },
  {
   "cell_type": "code",
   "execution_count": 122,
   "metadata": {},
   "outputs": [
    {
     "data": {
      "text/plain": [
       "[datetime.date(2017, 2, 8),\n",
       " datetime.date(2017, 2, 11),\n",
       " datetime.date(2017, 2, 12),\n",
       " datetime.date(2017, 2, 13),\n",
       " datetime.date(2017, 2, 14),\n",
       " datetime.date(2017, 2, 27),\n",
       " datetime.date(2017, 3, 1),\n",
       " datetime.date(2017, 3, 9),\n",
       " datetime.date(2017, 3, 21),\n",
       " datetime.date(2017, 3, 22),\n",
       " datetime.date(2017, 3, 23),\n",
       " datetime.date(2017, 4, 20),\n",
       " datetime.date(2017, 4, 26)]"
      ]
     },
     "execution_count": 122,
     "metadata": {},
     "output_type": "execute_result"
    }
   ],
   "source": [
    "data = [dt.date(2017, 1, 31) + dt.timedelta(days=x) for x in [8, 11, 12, 13, 14, 27, 29, 37, 49, 50, 51, 79, 85]];\n",
    "data"
   ]
  },
  {
   "cell_type": "code",
   "execution_count": 113,
   "metadata": {},
   "outputs": [
    {
     "data": {
      "text/plain": [
       "([{[2017-02-08, 2017-02-13), 1},\n",
       "  {[2017-02-13, 2017-02-18), 2},\n",
       "  {[2017-02-23, 2017-02-28), 4},\n",
       "  {[2017-02-28, 2017-03-05), 5},\n",
       "  {[2017-03-05, 2017-03-10), 6},\n",
       "  {[2017-03-20, 2017-03-25), 9},\n",
       "  {[2017-04-19, 2017-04-24), 15},\n",
       "  {[2017-04-24, 2017-04-29), 16}],\n",
       " [0, 0, 0, 1, 1, 2, 3, 4, 5, 5, 5, 6, 7])"
      ]
     },
     "execution_count": 113,
     "metadata": {},
     "output_type": "execute_result"
    }
   ],
   "source": [
    "utils.bracket(data, dt.date(2017, 2, 3), dt.timedelta(days=5))"
   ]
  },
  {
   "cell_type": "code",
   "execution_count": 116,
   "metadata": {},
   "outputs": [
    {
     "data": {
      "text/plain": [
       "([{(2017-02-03, 2017-02-08], 0},\n",
       "  {(2017-02-08, 2017-02-13], 1},\n",
       "  {(2017-02-13, 2017-02-18], 2},\n",
       "  {(2017-02-23, 2017-02-28], 4},\n",
       "  {(2017-02-28, 2017-03-05], 5},\n",
       "  {(2017-03-05, 2017-03-10], 6},\n",
       "  {(2017-03-20, 2017-03-25], 9},\n",
       "  {(2017-04-19, 2017-04-24], 15},\n",
       "  {(2017-04-24, 2017-04-29], 16}],\n",
       " [0, 1, 1, 1, 2, 3, 4, 5, 6, 6, 6, 7, 8])"
      ]
     },
     "execution_count": 116,
     "metadata": {},
     "output_type": "execute_result"
    }
   ],
   "source": [
    "utils.bracket(data, dt.date(2017, 2, 3), dt.timedelta(days=5), intervals_right_closed=True)"
   ]
  },
  {
   "cell_type": "code",
   "execution_count": 123,
   "metadata": {},
   "outputs": [
    {
     "data": {
      "text/plain": [
       "([{[2017-02-08, 2017-02-18), 1},\n",
       "  {[2017-02-23, 2017-03-10), 4},\n",
       "  {[2017-03-20, 2017-03-25), 9},\n",
       "  {[2017-04-19, 2017-04-29), 15}],\n",
       " [0, 0, 0, 0, 0, 1, 1, 1, 2, 2, 2, 3, 3])"
      ]
     },
     "execution_count": 123,
     "metadata": {},
     "output_type": "execute_result"
    }
   ],
   "source": [
    "utils.bracket(data, dt.date(2017, 2, 3), dt.timedelta(days=5), coalesce=True)"
   ]
  },
  {
   "cell_type": "code",
   "execution_count": 124,
   "metadata": {},
   "outputs": [
    {
     "data": {
      "text/plain": [
       "([{(2017-02-03, 2017-02-18], 0},\n",
       "  {(2017-02-23, 2017-03-10], 4},\n",
       "  {(2017-03-20, 2017-03-25], 9},\n",
       "  {(2017-04-19, 2017-04-29], 15}],\n",
       " [0, 0, 0, 0, 0, 1, 1, 1, 2, 2, 2, 3, 3])"
      ]
     },
     "execution_count": 124,
     "metadata": {},
     "output_type": "execute_result"
    }
   ],
   "source": [
    "utils.bracket(data, dt.date(2017, 2, 3), dt.timedelta(days=5), intervals_right_closed=True, coalesce=True)"
   ]
  },
  {
   "cell_type": "code",
   "execution_count": 125,
   "metadata": {},
   "outputs": [
    {
     "data": {
      "text/plain": [
       "[datetime.datetime(2017, 1, 31, 0, 8),\n",
       " datetime.datetime(2017, 1, 31, 0, 11),\n",
       " datetime.datetime(2017, 1, 31, 0, 12),\n",
       " datetime.datetime(2017, 1, 31, 0, 13),\n",
       " datetime.datetime(2017, 1, 31, 0, 14),\n",
       " datetime.datetime(2017, 1, 31, 0, 27),\n",
       " datetime.datetime(2017, 1, 31, 0, 29),\n",
       " datetime.datetime(2017, 1, 31, 0, 37),\n",
       " datetime.datetime(2017, 1, 31, 0, 49),\n",
       " datetime.datetime(2017, 1, 31, 0, 50),\n",
       " datetime.datetime(2017, 1, 31, 0, 51),\n",
       " datetime.datetime(2017, 1, 31, 1, 19),\n",
       " datetime.datetime(2017, 1, 31, 1, 25)]"
      ]
     },
     "execution_count": 125,
     "metadata": {},
     "output_type": "execute_result"
    }
   ],
   "source": [
    "data = [dt.datetime(2017, 1, 31, 0, 0, 0) + dt.timedelta(minutes=x) for x in [8, 11, 12, 13, 14, 27, 29, 37, 49, 50, 51, 79, 85]];\n",
    "data"
   ]
  },
  {
   "cell_type": "code",
   "execution_count": 126,
   "metadata": {},
   "outputs": [
    {
     "data": {
      "text/plain": [
       "([{[2017-01-31 00:08:00, 2017-01-31 00:13:00), 1},\n",
       "  {[2017-01-31 00:13:00, 2017-01-31 00:18:00), 2},\n",
       "  {[2017-01-31 00:23:00, 2017-01-31 00:28:00), 4},\n",
       "  {[2017-01-31 00:28:00, 2017-01-31 00:33:00), 5},\n",
       "  {[2017-01-31 00:33:00, 2017-01-31 00:38:00), 6},\n",
       "  {[2017-01-31 00:48:00, 2017-01-31 00:53:00), 9},\n",
       "  {[2017-01-31 01:18:00, 2017-01-31 01:23:00), 15},\n",
       "  {[2017-01-31 01:23:00, 2017-01-31 01:28:00), 16}],\n",
       " [0, 0, 0, 1, 1, 2, 3, 4, 5, 5, 5, 6, 7])"
      ]
     },
     "execution_count": 126,
     "metadata": {},
     "output_type": "execute_result"
    }
   ],
   "source": [
    "utils.bracket(data, dt.datetime(2017, 1, 31, 0, 3, 0), dt.timedelta(minutes=5))"
   ]
  },
  {
   "cell_type": "code",
   "execution_count": 127,
   "metadata": {},
   "outputs": [
    {
     "data": {
      "text/plain": [
       "([{(2017-01-31 00:03:00, 2017-01-31 00:08:00], 0},\n",
       "  {(2017-01-31 00:08:00, 2017-01-31 00:13:00], 1},\n",
       "  {(2017-01-31 00:13:00, 2017-01-31 00:18:00], 2},\n",
       "  {(2017-01-31 00:23:00, 2017-01-31 00:28:00], 4},\n",
       "  {(2017-01-31 00:28:00, 2017-01-31 00:33:00], 5},\n",
       "  {(2017-01-31 00:33:00, 2017-01-31 00:38:00], 6},\n",
       "  {(2017-01-31 00:48:00, 2017-01-31 00:53:00], 9},\n",
       "  {(2017-01-31 01:18:00, 2017-01-31 01:23:00], 15},\n",
       "  {(2017-01-31 01:23:00, 2017-01-31 01:28:00], 16}],\n",
       " [0, 1, 1, 1, 2, 3, 4, 5, 6, 6, 6, 7, 8])"
      ]
     },
     "execution_count": 127,
     "metadata": {},
     "output_type": "execute_result"
    }
   ],
   "source": [
    "utils.bracket(data, dt.datetime(2017, 1, 31, 0, 3, 0), dt.timedelta(minutes=5), intervals_right_closed=True)"
   ]
  },
  {
   "cell_type": "code",
   "execution_count": 128,
   "metadata": {},
   "outputs": [
    {
     "data": {
      "text/plain": [
       "([{[2017-01-31 00:08:00, 2017-01-31 00:18:00), 1},\n",
       "  {[2017-01-31 00:23:00, 2017-01-31 00:38:00), 4},\n",
       "  {[2017-01-31 00:48:00, 2017-01-31 00:53:00), 9},\n",
       "  {[2017-01-31 01:18:00, 2017-01-31 01:28:00), 15}],\n",
       " [0, 0, 0, 0, 0, 1, 1, 1, 2, 2, 2, 3, 3])"
      ]
     },
     "execution_count": 128,
     "metadata": {},
     "output_type": "execute_result"
    }
   ],
   "source": [
    "utils.bracket(data, dt.datetime(2017, 1, 31, 0, 3, 0), dt.timedelta(minutes=5), coalesce=True)"
   ]
  },
  {
   "cell_type": "code",
   "execution_count": 129,
   "metadata": {},
   "outputs": [
    {
     "data": {
      "text/plain": [
       "([{(2017-01-31 00:03:00, 2017-01-31 00:18:00], 0},\n",
       "  {(2017-01-31 00:23:00, 2017-01-31 00:38:00], 4},\n",
       "  {(2017-01-31 00:48:00, 2017-01-31 00:53:00], 9},\n",
       "  {(2017-01-31 01:18:00, 2017-01-31 01:28:00], 15}],\n",
       " [0, 0, 0, 0, 0, 1, 1, 1, 2, 2, 2, 3, 3])"
      ]
     },
     "execution_count": 129,
     "metadata": {},
     "output_type": "execute_result"
    }
   ],
   "source": [
    "utils.bracket(data, dt.datetime(2017, 1, 31, 0, 3, 0), dt.timedelta(minutes=5), intervals_right_closed=True, coalesce=True)"
   ]
  }
 ],
 "metadata": {
  "kernelspec": {
   "display_name": "Python 3",
   "language": "python",
   "name": "python3"
  },
  "language_info": {
   "codemirror_mode": {
    "name": "ipython",
    "version": 3
   },
   "file_extension": ".py",
   "mimetype": "text/x-python",
   "name": "python",
   "nbconvert_exporter": "python",
   "pygments_lexer": "ipython3",
   "version": "3.6.1"
  }
 },
 "nbformat": 4,
 "nbformat_minor": 2
}
